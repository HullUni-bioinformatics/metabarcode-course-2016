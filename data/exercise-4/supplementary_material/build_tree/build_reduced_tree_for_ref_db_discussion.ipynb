{
 "cells": [
  {
   "cell_type": "markdown",
   "metadata": {},
   "source": [
    "Generating the toy dataset to be phylogenetically curated as part of the course in [this]() notebook.\n",
    "\n",
    "For demonstration purposes we are extracting a random subset of sequencing records (max 5 per species) and a set of records that we know are mislabelled from the full-scale curation process [here](https://github.com/HullUni-bioinformatics/metabarcode-course-2016/tree/master/data/exercise-5/supplementary_data/reference_db)."
   ]
  },
  {
   "cell_type": "code",
   "execution_count": 1,
   "metadata": {
    "collapsed": true
   },
   "outputs": [],
   "source": [
    "from reprophylo import *"
   ]
  },
  {
   "cell_type": "code",
   "execution_count": 3,
   "metadata": {
    "collapsed": false
   },
   "outputs": [
    {
     "name": "stderr",
     "output_type": "stream",
     "text": [
      "DEBUG:Cloud:Log file (/root/.picloud/cloud.log) opened\n"
     ]
    }
   ],
   "source": [
    "pj = Project('../../input_data/target_locus.csv', pickle='reduced_tree.pkl', git=False)"
   ]
  },
  {
   "cell_type": "markdown",
   "metadata": {},
   "source": [
    "Genbank formatted sequence records from full analyses after removal of redundancy."
   ]
  },
  {
   "cell_type": "code",
   "execution_count": 4,
   "metadata": {
    "collapsed": false
   },
   "outputs": [
    {
     "name": "stderr",
     "output_type": "stream",
     "text": [
      "/home/reprophylo/reprophylo.py:1015: UserWarning: Version control off\n",
      "  warnings.warn('Version control off')\n"
     ]
    }
   ],
   "source": [
    "pj.read_embl_genbank(['../../input_data/CytB_nr_pre_Sativa.gb'])"
   ]
  },
  {
   "cell_type": "code",
   "execution_count": 5,
   "metadata": {
    "collapsed": true
   },
   "outputs": [],
   "source": [
    "pj.extract_by_locus()"
   ]
  },
  {
   "cell_type": "code",
   "execution_count": 6,
   "metadata": {
    "collapsed": false
   },
   "outputs": [
    {
     "name": "stdout",
     "output_type": "stream",
     "text": [
      "Distribution Of Sequence Lengths\n",
      "Distribution Of Sequence Statistic \"Gc_Content\"\n"
     ]
    },
    {
     "name": "stderr",
     "output_type": "stream",
     "text": [
      "/usr/lib/pymodules/python2.7/matplotlib/figure.py:371: UserWarning: matplotlib is currently using a non-GUI backend, so cannot show the figure\n",
      "  \"matplotlib is currently using a non-GUI backend, \"\n"
     ]
    },
    {
     "data": {
      "image/png": "[encoded data removed]",
      "text/plain": [
       "<matplotlib.figure.Figure at 0x7fe807cd2050>"
      ]
     },
     "metadata": {},
     "output_type": "display_data"
    },
    {
     "data": {
      "image/png": "[encoded data removed]",
      "text/plain": [
       "<matplotlib.figure.Figure at 0x7fe807bd3f10>"
      ]
     },
     "metadata": {},
     "output_type": "display_data"
    }
   ],
   "source": [
    "%matplotlib inline\n",
    "pj.report_seq_stats()"
   ]
  },
  {
   "cell_type": "markdown",
   "metadata": {},
   "source": [
    "Collect all record ids in a list."
   ]
  },
  {
   "cell_type": "code",
   "execution_count": 7,
   "metadata": {
    "collapsed": false
   },
   "outputs": [
    {
     "name": "stdout",
     "output_type": "stream",
     "text": [
      "1760\n"
     ]
    }
   ],
   "source": [
    "full_id_list = []\n",
    "for r in pj.records:\n",
    "    full_id_list.append(r.id)\n",
    "    \n",
    "print len(full_id_list)"
   ]
  },
  {
   "cell_type": "markdown",
   "metadata": {},
   "source": [
    "Find the ids of the records which are mislabelled according to SATIVA."
   ]
  },
  {
   "cell_type": "code",
   "execution_count": 9,
   "metadata": {
    "collapsed": false
   },
   "outputs": [],
   "source": [
    "rec_mislabelled = {}\n",
    "sativa=open('../../input_data/CytB.mis', 'r')\n",
    "\n",
    "for line in sativa:\n",
    "    if not line.startswith(\";\"):\n",
    "        rec_mislabelled[line.split(\"\\t\")[0]] = line.split(\"\\t\")[4]"
   ]
  },
  {
   "cell_type": "code",
   "execution_count": 10,
   "metadata": {
    "collapsed": false
   },
   "outputs": [
    {
     "name": "stdout",
     "output_type": "stream",
     "text": [
      "{'EU492281.1': '0.989', 'EU224046.1': '0.838', 'AJ969128.1': '0.999', 'AJ937943.1': '0.868', 'JF489783.1': '1.000', 'KT275288.1': '0.994', 'DQ185405.1': '1.000', 'KT275289.1': '0.998', 'EU224045.1': '0.819', 'JQ346141.1': '1.000', 'JQ661401.1': '1.000', 'AJ937931.1': '0.922', 'AJ937952.1': '0.791', 'AJ937925.1': '0.999', 'JQ661398.1': '0.973', 'AJ937951.1': '0.792', 'KP644340.1': '1.000', 'DQ664351.1': '0.587', 'GQ279764.1': '0.625', 'GU182336.1': '0.920', 'JQ661399.1': '0.974', 'KP452507.1': '0.508', 'JQ661400.1': '0.973', 'JQ231114.1': '1.000'}\n"
     ]
    }
   ],
   "source": [
    "print rec_mislabelled"
   ]
  },
  {
   "cell_type": "markdown",
   "metadata": {},
   "source": [
    "Exclude the record ids that have been identified as mislabelled from the total list of ids to produce the pool from which random records will be drawn."
   ]
  },
  {
   "cell_type": "code",
   "execution_count": 11,
   "metadata": {
    "collapsed": false
   },
   "outputs": [
    {
     "name": "stdout",
     "output_type": "stream",
     "text": [
      "1736\n"
     ]
    }
   ],
   "source": [
    "pool = []\n",
    "\n",
    "for i in full_id_list:\n",
    "    if not i in rec_mislabelled.keys():\n",
    "        pool.append(i)\n",
    "        \n",
    "print len(pool)"
   ]
  },
  {
   "cell_type": "markdown",
   "metadata": {},
   "source": [
    "Bin records by species."
   ]
  },
  {
   "cell_type": "code",
   "execution_count": null,
   "metadata": {
    "collapsed": false
   },
   "outputs": [],
   "source": [
    "species={}\n",
    "count = 0\n",
    "for r in pj.records:\n",
    "    if r.id in pool:\n",
    "        count+=1\n",
    "        source = [f for f in r.features if f.type == 'source'][0]\n",
    "        if not \" \".join(source.qualifiers['organism'][0].split()[0:2]) in species:\n",
    "            species[\" \".join(source.qualifiers['organism'][0].split()[0:2])] = []\n",
    "        species[\" \".join(source.qualifiers['organism'][0].split()[0:2])].append(r.id)\n",
    "        \n",
    "total=len(species)\n",
    "\n",
    "print \"Total number of records: %i\" %count\n",
    "print \"Number of species (see below for full list): %i\" %len(species)\n",
    "print species"
   ]
  },
  {
   "cell_type": "markdown",
   "metadata": {},
   "source": [
    "For every species extract at most a total of 5 record ids."
   ]
  },
  {
   "cell_type": "code",
   "execution_count": 13,
   "metadata": {
    "collapsed": false
   },
   "outputs": [
    {
     "name": "stdout",
     "output_type": "stream",
     "text": [
      "274\n"
     ]
    }
   ],
   "source": [
    "import random\n",
    "\n",
    "to_keep = []\n",
    "for sp in species:\n",
    "#    print sp\n",
    "#    print len(species[sp])\n",
    "    if len(species[sp]) > 5:\n",
    "        to_keep.extend(random.sample(species[sp], 5))\n",
    "    else:\n",
    "        to_keep.extend(species[sp])\n",
    "        \n",
    "\n",
    "print len(to_keep)"
   ]
  },
  {
   "cell_type": "markdown",
   "metadata": {},
   "source": [
    "Remove _Petromyzon marinus_ (Genbank accession: NC_001626.1) from the list of focal records for aesthetic reasons."
   ]
  },
  {
   "cell_type": "code",
   "execution_count": 14,
   "metadata": {
    "collapsed": false
   },
   "outputs": [
    {
     "name": "stdout",
     "output_type": "stream",
     "text": [
      "273\n"
     ]
    }
   ],
   "source": [
    "for i in range(len(to_keep)):\n",
    "    if 'NC_001626.1' == to_keep[i]:\n",
    "        del to_keep[i]\n",
    "        break\n",
    "print len(to_keep)"
   ]
  },
  {
   "cell_type": "markdown",
   "metadata": {},
   "source": [
    "Add the mislabelled ids to the list."
   ]
  },
  {
   "cell_type": "code",
   "execution_count": 15,
   "metadata": {
    "collapsed": false
   },
   "outputs": [
    {
     "name": "stdout",
     "output_type": "stream",
     "text": [
      "297\n"
     ]
    }
   ],
   "source": [
    "to_keep.extend(rec_mislabelled.keys())\n",
    "print len(to_keep)"
   ]
  },
  {
   "cell_type": "markdown",
   "metadata": {},
   "source": [
    "Now that we've generated a random list of records, collect the ids of the remaining sequences in a list to be excluded from the analysis."
   ]
  },
  {
   "cell_type": "code",
   "execution_count": 16,
   "metadata": {
    "collapsed": false
   },
   "outputs": [
    {
     "name": "stdout",
     "output_type": "stream",
     "text": [
      "1463\n"
     ]
    }
   ],
   "source": [
    "to_drop = {'CytB': []}\n",
    "\n",
    "for s in full_id_list:\n",
    "    if not s in to_keep:\n",
    "        to_drop['CytB'].append(s)\n",
    "\n",
    "print len(to_drop['CytB'])"
   ]
  },
  {
   "cell_type": "markdown",
   "metadata": {},
   "source": [
    "Write out the good records in Genbank format to be analysed with SATIVA."
   ]
  },
  {
   "cell_type": "code",
   "execution_count": 18,
   "metadata": {
    "collapsed": false
   },
   "outputs": [],
   "source": [
    "seqs = []\n",
    "from Bio import SeqIO\n",
    "for r in pj.records:\n",
    "    if r.id in to_keep:\n",
    "        seqs.append(r)\n",
    "\n",
    "out = open('CytB_nr_pre_Sativa.gb','w')\n",
    "SeqIO.write(seqs, out, 'genbank')\n",
    "out.close()"
   ]
  },
  {
   "cell_type": "markdown",
   "metadata": {},
   "source": [
    "Exclude records from Reprophylo data set."
   ]
  },
  {
   "cell_type": "code",
   "execution_count": 19,
   "metadata": {
    "collapsed": false
   },
   "outputs": [],
   "source": [
    "pj.exclude(start_from_max=False, **to_drop)"
   ]
  },
  {
   "cell_type": "markdown",
   "metadata": {},
   "source": [
    "Configure alignment object."
   ]
  },
  {
   "cell_type": "code",
   "execution_count": 20,
   "metadata": {
    "collapsed": false
   },
   "outputs": [
    {
     "name": "stdout",
     "output_type": "stream",
     "text": [
      "mafft --localpair --maxiterate 1000 428121473691046.2_CDS_proteins_CytB.fasta\n"
     ]
    }
   ],
   "source": [
    "mafft_linsi = AlnConf(pj,                              # The Project\n",
    "                    method_name='mafftLinsi',        # Any unique method name,\n",
    "                    CDSAlign=True,                   # Use this method to align\n",
    "                    codontable=2,                    # The genetic code that\n",
    "                    program_name='mafft',            # mafft or muscle.\n",
    "                    cmd='mafft',                     # The command on your machine\n",
    "                    loci=['CytB'],                 # A list of loci names to align.vel.\n",
    "                    cline_args={'localpair': True,# Program specific keywords and arguments.\n",
    "                                'maxiterate': 1000}# cine_args=={} by default, which will\n",
    "                    )"
   ]
  },
  {
   "cell_type": "markdown",
   "metadata": {},
   "source": [
    "Perform alignment."
   ]
  },
  {
   "cell_type": "code",
   "execution_count": 21,
   "metadata": {
    "collapsed": true
   },
   "outputs": [],
   "source": [
    "pj.align([mafft_linsi])"
   ]
  },
  {
   "cell_type": "code",
   "execution_count": 22,
   "metadata": {
    "collapsed": false
   },
   "outputs": [
    {
     "data": {
      "text/plain": [
       "['CytB@mafftLinsi_aln.fasta']"
      ]
     },
     "execution_count": 22,
     "metadata": {},
     "output_type": "execute_result"
    }
   ],
   "source": [
    "pj.write_alns(id=['record_id','source_organism'], format='fasta')"
   ]
  },
  {
   "cell_type": "markdown",
   "metadata": {},
   "source": [
    "Determine custom clipping points in alignment."
   ]
  },
  {
   "cell_type": "code",
   "execution_count": 23,
   "metadata": {
    "collapsed": false
   },
   "outputs": [
    {
     "name": "stdout",
     "output_type": "stream",
     "text": [
      "returning alignment object CytB@mafftLinsi\n",
      "\n",
      "Finding forward clip position:\n",
      "\n",
      "1 26 0.700673400673\n",
      "2 27 0.776767676768\n",
      "3 28 0.783838383838\n",
      "4 29 0.790909090909\n",
      "5 30 0.799326599327\n",
      "6 31 0.805050505051\n",
      "7 32 0.810774410774\n",
      "8 33 0.818855218855\n",
      "9 34 0.824915824916\n",
      "10 35 0.830976430976\n",
      "Suggested forward clip at: 25 (10,35)\n",
      "\n",
      "Finding reverse clip position:\n",
      "\n",
      "1 1145 0.701346801347\n",
      "2 1144 0.705723905724\n",
      "3 1143 0.710101010101\n",
      "4 1142 0.714478114478\n",
      "5 1141 0.715488215488\n",
      "6 1140 0.716498316498\n",
      "7 1139 0.717508417508\n",
      "8 1138 0.718518518519\n",
      "9 1137 0.719528619529\n",
      "10 1136 0.720538720539\n",
      "Suggested reverse clip at: 1146 (10,1136)\n"
     ]
    }
   ],
   "source": [
    "import numpy as np\n",
    "\n",
    "per_col=[]\n",
    "\n",
    "aln = pj.fa('CytB@mafftLinsi')\n",
    "\n",
    "\n",
    "icol=0\n",
    "for a in aln[1,:]:\n",
    "    ACGT_count=0\n",
    "    col=aln[:,icol]\n",
    "    for i in range(len(col)):\n",
    "        if col[i] in ['A','G','C','T']:\n",
    "            ACGT_count+=1\n",
    "#    print pj.fa('CytB@mafftLinsi')[:,a]\n",
    "    per_col.append(float(ACGT_count)/len(col))\n",
    "    icol+=1\n",
    "\n",
    "wsize=10\n",
    "min_prop=0.7\n",
    "    \n",
    "print \"\\nFinding forward clip position:\\n\"\n",
    "forw_count=0\n",
    "forw_clip=0\n",
    "for i in range(len(per_col)-wsize):\n",
    "        \n",
    "    if np.mean(per_col[i:i+10]) > min_prop:\n",
    "        forw_count+=1\n",
    "        forw_clip=i\n",
    "        print forw_count,i,np.mean(per_col[i:i+wsize])\n",
    "    else:\n",
    "        forw_count=0\n",
    "        \n",
    "    if forw_count >= wsize:\n",
    "        break\n",
    "        \n",
    "print \"Suggested forward clip at: %s (%s,%s)\" %(forw_clip-wsize,forw_count,forw_clip)\n",
    "\n",
    "print \"\\nFinding reverse clip position:\\n\"\n",
    "reve_count=0\n",
    "reve_clip=0\n",
    "for i in reversed(range(len(per_col)-wsize)):\n",
    "        \n",
    "    if np.mean(per_col[i:i+10]) > min_prop:\n",
    "        reve_count+=1\n",
    "        reve_clip=i\n",
    "        print reve_count,i,np.mean(per_col[i:i+wsize])\n",
    "    else:\n",
    "        reve_count=0\n",
    "        \n",
    "    if reve_count >= wsize:\n",
    "        break\n",
    "    \n",
    "print \"Suggested reverse clip at: %s (%s,%s)\" %(reve_clip+wsize,reve_count,reve_clip)"
   ]
  },
  {
   "cell_type": "markdown",
   "metadata": {},
   "source": [
    "Clip Alignment using Biopython."
   ]
  },
  {
   "cell_type": "code",
   "execution_count": 24,
   "metadata": {
    "collapsed": false
   },
   "outputs": [
    {
     "name": "stdout",
     "output_type": "stream",
     "text": [
      "returning alignment object CytB@mafftLinsi\n"
     ]
    }
   ],
   "source": [
    "from Bio import AlignIO\n",
    "\n",
    "aln = pj.fa('CytB@mafftLinsi')\n",
    "\n",
    "clipped_aln = aln[:,forw_clip-wsize:reve_clip+wsize]"
   ]
  },
  {
   "cell_type": "markdown",
   "metadata": {},
   "source": [
    "Convert the clipped alignemnt (which is a Biopython alignment object) to a ReproPhylo trimmed alignment object, so that we can resume working with it in ReproPhylo."
   ]
  },
  {
   "cell_type": "code",
   "execution_count": 25,
   "metadata": {
    "collapsed": true
   },
   "outputs": [],
   "source": [
    "pj.trimmed_alignments[\"CytB@mafftLinsi_aln_clipped\"] = clipped_aln"
   ]
  },
  {
   "cell_type": "markdown",
   "metadata": {},
   "source": [
    "Write clipped alignment to file for downstream taxonomic curation using SATIVA.\n"
   ]
  },
  {
   "cell_type": "code",
   "execution_count": 26,
   "metadata": {
    "collapsed": true
   },
   "outputs": [],
   "source": [
    "from Bio import AlignIO\n",
    "\n",
    "out=open('CytB@mafftLinsi_aln_clipped.phy', 'w')\n",
    "AlignIO.write(clipped_aln, out, 'phylip-relaxed')\n",
    "out.close()"
   ]
  },
  {
   "cell_type": "markdown",
   "metadata": {},
   "source": [
    "Configure tree inference method - RaxML."
   ]
  },
  {
   "cell_type": "code",
   "execution_count": 27,
   "metadata": {
    "collapsed": false
   },
   "outputs": [
    {
     "name": "stdout",
     "output_type": "stream",
     "text": [
      "raxmlHPC-PTHREADS-SSE3 -f a -m GTRGAMMA -n 431761473691128.36_CytB@mafftLinsi_aln_clipped0 -p 553 -s 431761473691128.36_CytB@mafftLinsi_aln_clipped.fasta -T 5 -x 372 -N 100\n"
     ]
    }
   ],
   "source": [
    "raxml = RaxmlConf(pj, method_name='raxml-mafftLinsi-clipped', \n",
    "                 program_name='raxmlHPC-PTHREADS-SSE3',\n",
    "                 keepfiles=True,\n",
    "                 cmd='raxmlHPC-PTHREADS-SSE3',\n",
    "                 preset='fa',\n",
    "                 alns=['CytB@mafftLinsi_aln_clipped'],\n",
    "                 model='GAMMA',\n",
    "                 threads=5,\n",
    "                 cline_args={'-#': 100})"
   ]
  },
  {
   "cell_type": "markdown",
   "metadata": {},
   "source": [
    "Infer Maximum likelihood tree."
   ]
  },
  {
   "cell_type": "code",
   "execution_count": 28,
   "metadata": {
    "collapsed": true
   },
   "outputs": [],
   "source": [
    "pj.tree([raxml])"
   ]
  },
  {
   "cell_type": "code",
   "execution_count": 29,
   "metadata": {
    "collapsed": false,
    "scrolled": true
   },
   "outputs": [
    {
     "name": "stdout",
     "output_type": "stream",
     "text": [
      "RaxmlConf named raxml-mafftLinsi-clipped with ID 431761473691128.36\n",
      "Alignments: CytB@mafftLinsi_aln_clipped \n",
      "Created on: Mon Sep 12 14:38:48 2016\n",
      "Commands:\n",
      "CytB@mafftLinsi_aln_clipped:\n",
      "raxmlHPC-PTHREADS-SSE3 -f a -m GTRGAMMA -n 431761473691128.36_CytB@mafftLinsi_aln_clipped0 -p 553 -s 431761473691128.36_CytB@mafftLinsi_aln_clipped.fasta -T 5 -x 372 -N 100\n",
      "\n",
      "Environment:\n",
      "Platform: Linux-3.13.0-54-generic-x86_64-with-Ubuntu-14.04-trusty\n",
      " Processor: x86_64\n",
      " Python build: defaultMar 22 2014 22:59:56\n",
      " Python compiler: GCC 4.8.2\n",
      " Python implementation: CPython\n",
      " Python version: 2.7.6\n",
      " ete2 version: 2.2.1072\n",
      " biopython version: 1.68\n",
      " dendropy version: 3.12.2\n",
      " cloud version: 2.8.5\n",
      " reprophylo version 1.3\n",
      " User: chrishah-office\n",
      " Program and version: raxmlHPC-PTHREADS-SSE3RAxML version 8.0.12\n",
      " Program reference: A. Stamatakis: RAxML Version 8: A tool for Phylogenetic Analysis and Post-Analysis of Large Phylogenies. In Bioinformatics\n",
      " 2014.\n",
      "execution time:\n",
      "2039.5449481\n",
      "\n",
      "==============================\n",
      "Core Methods section sentence:\n",
      "==============================\n",
      "Phylogenetic trees were reconstructed from the dataset(s) CytB@mafftLinsi_aln_clipped using the program raxmlHPC-PTHREADS-SSE3RAxML version 8.0.12 [1].\n",
      "\n",
      "Reference:\n",
      "A. Stamatakis: RAxML Version 8: A tool for Phylogenetic Analysis and Post-Analysis of Large Phylogenies. In Bioinformatics, 2014.\n",
      "\n"
     ]
    }
   ],
   "source": [
    "print pj.used_methods['raxml-mafftLinsi-clipped']"
   ]
  },
  {
   "cell_type": "code",
   "execution_count": 30,
   "metadata": {
    "collapsed": false
   },
   "outputs": [
    {
     "data": {
      "text/plain": [
       "'reduced_tree.pkl'"
      ]
     },
     "execution_count": 30,
     "metadata": {},
     "output_type": "execute_result"
    }
   ],
   "source": [
    "pickle_pj(pj, 'reduced_tree.pkl')"
   ]
  },
  {
   "cell_type": "markdown",
   "metadata": {},
   "source": [
    "Now let's visualize the tree.\n",
    "\n",
    "Prepare tree annotation:\n",
    " - define outgroups\n",
    " - specify support coloration"
   ]
  },
  {
   "cell_type": "code",
   "execution_count": 31,
   "metadata": {
    "collapsed": true
   },
   "outputs": [],
   "source": [
    "pj.add_qualifier_from_source('organism')"
   ]
  },
  {
   "cell_type": "code",
   "execution_count": 32,
   "metadata": {
    "collapsed": true
   },
   "outputs": [],
   "source": [
    "for species in ['Lampetra']:\n",
    "    pj.if_this_then_that(species, 'organism', 'outgroup', 'outgroup',\n",
    "                         mode='part')"
   ]
  },
  {
   "cell_type": "code",
   "execution_count": 33,
   "metadata": {
    "collapsed": true
   },
   "outputs": [],
   "source": [
    "supports = {'black': [100,95],\n",
    "            'dimgray': [95,75],\n",
    "            'silver': [75,50]}"
   ]
  },
  {
   "cell_type": "code",
   "execution_count": 34,
   "metadata": {
    "collapsed": false
   },
   "outputs": [],
   "source": [
    "pj.clear_tree_annotations()\n",
    "pj.annotate('.', 'outgroup', 'outgroup', \n",
    "            ['source_organism', 'record_id'], \n",
    "            node_support_dict=supports, multifurc=50, scale=500,\n",
    "            html='mafftLinsi-clipped-raxml.html')"
   ]
  },
  {
   "cell_type": "markdown",
   "metadata": {},
   "source": [
    "Create a static image of the final tree."
   ]
  },
  {
   "cell_type": "code",
   "execution_count": 35,
   "metadata": {
    "collapsed": true
   },
   "outputs": [],
   "source": [
    "%%bash\n",
    "\n",
    "last_png=$(ls -hlrt *CytB@mafftLinsi_aln_clipped.png | tail -n 1 | perl -ne 'chomp; @a=split(\" \"); print \"$a[-1]\"')\n",
    "cp $last_png CytB_mafftLinsi_clipped_raxml_dirty_multifurc50.png"
   ]
  },
  {
   "cell_type": "markdown",
   "metadata": {},
   "source": [
    "Alternative formatting of tree."
   ]
  },
  {
   "cell_type": "code",
   "execution_count": 36,
   "metadata": {
    "collapsed": true
   },
   "outputs": [],
   "source": [
    "pj.clear_tree_annotations()\n",
    "pj.annotate('.', 'outgroup', 'outgroup', \n",
    "            ['source_organism', 'record_id'], \n",
    "            node_support_dict=supports, multifurc=None, scale=500,\n",
    "            html='mafftLinsi-clipped-raxml.html')"
   ]
  },
  {
   "cell_type": "code",
   "execution_count": 37,
   "metadata": {
    "collapsed": true
   },
   "outputs": [],
   "source": [
    "%%bash\n",
    "\n",
    "last_png=$(ls -hlrt *CytB@mafftLinsi_aln_clipped.png | tail -n 1 | perl -ne 'chomp; @a=split(\" \"); print \"$a[-1]\"')\n",
    "cp $last_png CytB_mafftLinsi_clipped_raxml_dirty_multifurcNone.png"
   ]
  },
  {
   "cell_type": "markdown",
   "metadata": {},
   "source": [
    "We move to running SATIVA at this stage to identify putatively mislabelled sequencing records.\n",
    "\n",
    "\n",
    "##============================================##\n",
    "\n",
    "__Run SATIVA__ see notebook [here]().\n",
    "\n",
    "##============================================##\n",
    "\n",
    "\n",
    "After we have run SATIVA on the alignment that we produced above.\n",
    "\n",
    "Now we are going to highlight the records that SATIVA considers mislabelled in the tree. We are also going to add a heatmap to the tree illustrating the confidence that SATIVA has in a given call.\n",
    "Parse SATIVA output and record putatively mislabelled sequence records and the confidence of the call.\n",
    "\n",
    "Annotate tree with SATIVA results."
   ]
  },
  {
   "cell_type": "code",
   "execution_count": 38,
   "metadata": {
    "collapsed": true
   },
   "outputs": [],
   "source": [
    "rec_mislabelled = {}\n",
    "sativa=open('../run_SATIVA/CytB.mis', 'r')\n",
    "\n",
    "for line in sativa:\n",
    "    if not line.startswith(\";\"):\n",
    "        rec_mislabelled[line.split(\"\\t\")[0]] = line.split(\"\\t\")[4]\n",
    "        "
   ]
  },
  {
   "cell_type": "markdown",
   "metadata": {},
   "source": [
    "Add two new qualifiers containing info about he SATIVA results to the sequence features."
   ]
  },
  {
   "cell_type": "code",
   "execution_count": 39,
   "metadata": {
    "collapsed": true
   },
   "outputs": [],
   "source": [
    "for r in pj.records:\n",
    "    if r.id in rec_mislabelled:\n",
    "        for f in r.features:\n",
    "            f.qualifiers['mislabeled'] = ['yes']\n",
    "            f.qualifiers['mislabeled_conf'] = [rec_mislabelled[r.id]]\n",
    "    else:\n",
    "        for f in r.features:\n",
    "            f.qualifiers['mislabeled'] = ['no']\n",
    "            f.qualifiers['mislabeled_conf'] = [0.0001]"
   ]
  },
  {
   "cell_type": "code",
   "execution_count": 40,
   "metadata": {
    "collapsed": true
   },
   "outputs": [],
   "source": [
    "pj.propagate_metadata()"
   ]
  },
  {
   "cell_type": "markdown",
   "metadata": {},
   "source": [
    "Prepare tree annotation:\n",
    "\n",
    " - color records that were identified by SATIVA as being mislabelled.\n",
    " - add heatmap with mislabel confidence"
   ]
  },
  {
   "cell_type": "code",
   "execution_count": 41,
   "metadata": {
    "collapsed": true
   },
   "outputs": [],
   "source": [
    "leaf_colors = {'yes':'red', 'no': 'black'}"
   ]
  },
  {
   "cell_type": "code",
   "execution_count": 43,
   "metadata": {
    "collapsed": true
   },
   "outputs": [],
   "source": [
    "pj.clear_tree_annotations()\n",
    "pj.annotate('.', 'outgroup', 'outgroup', \n",
    "            ['source_organism', 'record_id'], \n",
    "            node_support_dict=supports, multifurc=10,\n",
    "            html='mafftLinsi-clipped-raxml-SATIVA.html',\n",
    "            fsize=13, scale=500,\n",
    "            heat_map_meta = ['mislabeled_conf'], heat_map_colour_scheme = 1,\n",
    "            leaf_node_color_meta = 'mislabeled', leaf_label_colors = leaf_colors)"
   ]
  },
  {
   "cell_type": "markdown",
   "metadata": {},
   "source": [
    "Create static image of final annoated tree."
   ]
  },
  {
   "cell_type": "code",
   "execution_count": 44,
   "metadata": {
    "collapsed": true
   },
   "outputs": [],
   "source": [
    "%%bash\n",
    "\n",
    "last_png=$(ls -hlrt *CytB@mafftLinsi_aln_clipped.png | tail -n 1 | perl -ne 'chomp; @a=split(\" \"); print \"$a[-1]\"')\n",
    "cp $last_png CytB_mafftLinsi_clipped_raxml_SATIVA_annotated.png"
   ]
  }
 ],
 "metadata": {
  "kernelspec": {
   "display_name": "Python 2",
   "language": "python",
   "name": "python2"
  },
  "language_info": {
   "codemirror_mode": {
    "name": "ipython",
    "version": 2
   },
   "file_extension": ".py",
   "mimetype": "text/x-python",
   "name": "python",
   "nbconvert_exporter": "python",
   "pygments_lexer": "ipython2",
   "version": "2.7.6"
  }
 },
 "nbformat": 4,
 "nbformat_minor": 0
}
