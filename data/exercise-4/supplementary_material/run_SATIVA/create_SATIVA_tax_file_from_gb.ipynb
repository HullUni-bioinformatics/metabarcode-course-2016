{
 "cells": [
  {
   "cell_type": "markdown",
   "metadata": {},
   "source": [
    "`SATIVA` requires a 'taxonomy file', i.e. a text file that links each sequence record to a ncbi taxonomic id (aka `taxid` - see [here](http://www.ncbi.nlm.nih.gov/taxonomy)).\n",
    "\n",
    "We are going to generate this file from a bunch of sequence records downloaded from Genbank.\n"
   ]
  },
  {
   "cell_type": "markdown",
   "metadata": {},
   "source": [
    "\n",
    "We have downloaded our reference sequences from Genbank in the so-called, `genbank` format, which is a rich format containing all sorts of metadata for every sequence record, including a specific taxonomic id (`taxid`), i.e. a identity number that uniquely identifies every species (and also higher taxonomic levels, such as genera, families, classes, etc) recorded on Genbank.\n",
    "\n",
    "Let's parse our Genbank file using Biopython.\n"
   ]
  },
  {
   "cell_type": "code",
   "execution_count": 1,
   "metadata": {
    "collapsed": false
   },
   "outputs": [],
   "source": [
    "from Bio import SeqIO\n",
    "\n",
    "records = SeqIO.to_dict(SeqIO.parse(open('../build_tree/CytB_nr_pre_Sativa.gb','r'),'genbank'))\n"
   ]
  },
  {
   "cell_type": "markdown",
   "metadata": {},
   "source": [
    "\n",
    "In the below cell we display the first of our sequence records in Genbank format. Try to identify the `taxid` of the record and use NCBI's taxonomy database ([here](http://www.ncbi.nlm.nih.gov/taxonomy)) to retrieve the full taxonomic tree for the taxon."
   ]
  },
  {
   "cell_type": "code",
   "execution_count": 2,
   "metadata": {
    "collapsed": false
   },
   "outputs": [
    {
     "name": "stdout",
     "output_type": "stream",
     "text": [
      "LOCUS       JQ661453                1141 bp    DNA              VRT 06-JUN-2012\n",
      "DEFINITION  Coregonus lavaretus isolate R11 mitochondrion, complete genome.\n",
      "ACCESSION   JQ661453\n",
      "VERSION     JQ661453.1  GI:378968014\n",
      "KEYWORDS    .\n",
      "SOURCE      mitochondrion Coregonus lavaretus (common whitefish)\n",
      "  ORGANISM  Coregonus lavaretus\n",
      "            Eukaryota; Metazoa; Chordata; Craniata; Vertebrata; Euteleostomi;\n",
      "            Actinopterygii; Neopterygii; Teleostei; Protacanthopterygii;\n",
      "            Salmoniformes; Salmonidae; Coregoninae; Coregonus.\n",
      "REFERENCE   1  (bases 1 to 16736)\n",
      "  AUTHORS   Jacobsen,M.W., Hansen,M.M., Orlando,L., Bekkevold,D., Bernatchez,L.,\n",
      "            Willerslev,E. and Gilbert,M.T.\n",
      "  TITLE     Mitogenome sequencing reveals shallow evolutionary histories and\n",
      "            recent divergence time between morphologically and ecologically\n",
      "            distinct European whitefish (Coregonus spp.)\n",
      "  JOURNAL   Mol. Ecol. 21 (11), 2727-2742 (2012)\n",
      "   PUBMED   22509795\n",
      "REFERENCE   2  (bases 1 to 16736)\n",
      "  AUTHORS   Jacobsen,M.W., Hansen,M.M., Orlando,L., Bekkevold,D., Bernatchez,L.,\n",
      "            Willerslev,E. and Gilbert,M.T.P.\n",
      "  TITLE     Direct Submission\n",
      "  JOURNAL   Submitted (10-FEB-2012) Department of Bioscience, University of\n",
      "            Aarhus, Ny Munkegade 114, Aarhus C 8000, Denmark\n",
      "FEATURES             Location/Qualifiers\n",
      "     source          1..1141\n",
      "                     /country=\"Denmark: sample from Ringk bing fjord\"\n",
      "                     /db_xref=\"taxon:59291\"\n",
      "                     /feature_id=\"JQ661453.1_source\"\n",
      "                     /isolate=\"R11\"\n",
      "                     /mol_type=\"genomic DNA\"\n",
      "                     /note=\"modified from original record: cropped to only CDS\n",
      "                     of CYTB\"\n",
      "                     /organelle=\"mitochondrion\"\n",
      "                     /organism=\"Coregonus lavaretus\"\n",
      "     CDS             1..1141\n",
      "                     /GC_content=\"48.2909728309\"\n",
      "                     /codon_start=1\n",
      "                     /db_xref=\"GI:378968027\"\n",
      "                     /feature_id=\"JQ661453.1_f0\"\n",
      "                     /gene=\"CYTB\"\n",
      "                     /note=\"TAA stop codon is completed by the addition of 3' A\n",
      "                     residues to the mRNA\"\n",
      "                     /nuc_degen_prop=\"0.0\"\n",
      "                     /product=\"cytochrome b\"\n",
      "                     /prot_degen_prop=\"0.0\"\n",
      "                     /protein_id=\"AFC77374.1\"\n",
      "                     /transl_except=(pos:15520,aa:TERM)\n",
      "                     /transl_table=2\n",
      "                     /translation=\"MANLRKTHPLLKIANDALVDLPAPSNISVWWNFGSLLGLCLATQI\n",
      "                     LTGLFLAMHYTSDISTAFSSVCHICRDVSYGWLIRNIHANGASFFFICIYMHIARGLYY\n",
      "                     GSYLYKETWNIGVVLLLLTMMTAFVGYVLPWGQMSFWGATVITNLLSAVPYVGGALVQW\n",
      "                     IWGGFSVDNATLTRFFAFHFLFPFVIAAATVIHLLFLHETGSNNPAGINSDADKISFHP\n",
      "                     YFSYKDLLGFVAMLLGLTSLALFAPNLLGDPDNFTPANPLVTPPHIKPEWYFLFAYAIL\n",
      "                     RSIPNKLGGVLALLFSILVLMVVPILHTSKQRGLTFRPLTQFLFWTLVADMLILTWIGG\n",
      "                     MPVEHPFIIIGQVASVIYFTIFLVLAPLAGWAENKALEWA\"\n",
      "ORIGIN\n",
      "        1 atggctaacc tccgaaaaac ccaccccctc ctaaagattg ctaatgacgc actagtcgat\n",
      "       61 cttccagcgc cctcaaacat ctcagtgtga tgaaactttg gctcacttct gggcttatgt\n",
      "      121 ttagccaccc aaattctcac aggacttttc ctggccatgc actacacttc tgacatctca\n",
      "      181 acagccttct cctccgtgtg ccatatttgc cgagatgtca gctacggctg acttatccga\n",
      "      241 aatattcacg ccaatggagc atctttcttc tttatctgca tttatataca cattgcccga\n",
      "      301 ggactttact atggctccta cctatacaaa gaaacctgaa atattggggt tgtccttcta\n",
      "      361 ctccttacaa taataactgc ctttgtgggc tacgttcttc catgaggaca aatatctttc\n",
      "      421 tgaggtgcaa cagtcatcac aaacctcctt tctgccgtgc cctacgtagg gggcgccctt\n",
      "      481 gtgcagtgaa tctgaggtgg gttttccgta gataatgcca ccctaacacg gttttttgcc\n",
      "      541 tttcacttct tattcccatt tgttattgca gctgcaacag tcatccacct cctcttcctt\n",
      "      601 catgaaactg ggtctaacaa cccagcaggg atcaactctg atgccgataa aatctcattc\n",
      "      661 cacccctact tctcatacaa agacctgttg ggatttgtgg ctatactact aggactaaca\n",
      "      721 tccttggcac tatttgcacc caacctcttg ggggacccag ataattttac accggccaac\n",
      "      781 ccactagtca ccccgcccca catcaagcct gagtgatact tcctcttcgc ctacgcaatc\n",
      "      841 ctacgatcga tccccaacaa gctaggcggg gtcctcgccc tgctattctc tatcctcgta\n",
      "      901 ctcatggtcg tccccattct acatacctct aagcagcgag gactaacctt ccggcccctt\n",
      "      961 acgcaattct tattctgaac cctagtagca gacatgctca tcctcacctg aattggcggt\n",
      "     1021 atacctgtag aacacccctt catcatcatc ggccaagtcg cctcagttat ctacttcacc\n",
      "     1081 atcttcctag tcttggcccc cttagccgga tgagctgaga ataaagccct cgaatgagcc\n",
      "     1141 t\n",
      "//\n",
      "\n"
     ]
    }
   ],
   "source": [
    "for r in records.keys():\n",
    "    print records[r].format('genbank')\n",
    "    break"
   ]
  },
  {
   "cell_type": "markdown",
   "metadata": {},
   "source": [
    "We don't want to make our lives harder than it already is and deal with _subspecies_ so in the tax file for `SATIVA` we'll only do species."
   ]
  },
  {
   "cell_type": "markdown",
   "metadata": {},
   "source": [
    "Iterate over all records and check if taxid is subspecies, if yes replace with taxid of species and extract taxonomy line. If it's a subspecies record the record id for further processing."
   ]
  },
  {
   "cell_type": "code",
   "execution_count": 4,
   "metadata": {
    "collapsed": false
   },
   "outputs": [],
   "source": [
    "from collections import defaultdict\n",
    "\n",
    "taxon_to_taxid = {}\n",
    "recs_to_adjust = []\n",
    "taxon_to_recs = defaultdict(list)\n",
    "\n",
    "for key in records.keys():\n",
    "    r = records[key]\n",
    "   \n",
    "    source = [f for f in r.features if f.type == 'source'][0]\n",
    "    if (len(source.qualifiers['organism'][0].split(\" \")) == 2):\n",
    "#        print source.qualifiers['organism'][0],\n",
    "        if 'db_xref' in source.qualifiers:\n",
    "#            print source.qualifiers['db_xref']\n",
    "            for t in source.qualifiers['db_xref']:\n",
    "#                print t\n",
    "                if 'taxon' in t:\n",
    "                    if not source.qualifiers['organism'][0] in taxon_to_taxid:\n",
    "#                        print \" .. add to records\"\n",
    "                        taxon_to_taxid[source.qualifiers['organism'][0]] = t.split(\":\")[1]\n",
    "#                    else:\n",
    "#                        print \" .. already covered\"\n",
    "                    taxon_to_recs[source.qualifiers['organism'][0]].append(r.id)\n",
    "    elif (len(source.qualifiers['organism'][0].split(\" \")) > 2 and source.qualifiers['organism'][0].split(\" \")[1] == 'sp.'):\n",
    "#        print source.qualifiers['organism'][0],\n",
    "        if 'db_xref' in source.qualifiers:\n",
    "            for t in source.qualifiers['db_xref']:\n",
    "                if 'taxon' in t:\n",
    "                    if not str(t) in taxon_to_taxid:\n",
    "                        taxon_to_taxid[source.qualifiers['organism'][0]] = str(t)\n",
    "#                    else:\n",
    "#                        print \" .. already covered\" \n",
    "                    taxon_to_recs[source.qualifiers['organism'][0]].append(r.id)\n",
    "    else:\n",
    "#        print \"subspecies: %s\" %source.qualifiers['organism'][0]\n",
    "        recs_to_adjust.append(r.id)\n"
   ]
  },
  {
   "cell_type": "markdown",
   "metadata": {},
   "source": [
    "For the records that were identified as being _subspecies_ reduce to species and check whether the `taxid` for the species had already been encountert before. If not we 'd need to fetch it from NCBI."
   ]
  },
  {
   "cell_type": "code",
   "execution_count": 5,
   "metadata": {
    "collapsed": false,
    "scrolled": true
   },
   "outputs": [],
   "source": [
    "from collections import defaultdict\n",
    "\n",
    "to_fetch = defaultdict(list)\n",
    "\n",
    "for key in records.keys():\n",
    "    r = records[key]\n",
    "    if r.id in recs_to_adjust:\n",
    "        source = [f for f in r.features if f.type == 'source'][0]\n",
    "        adjust_from = source.qualifiers['organism'][0]\n",
    "        adjust_to = \" \".join(adjust_from.split(\" \")[:2])\n",
    "#        print \"%s -> %s\" %(adjust_from,adjust_to)\n",
    "        if adjust_to in taxon_to_taxid:\n",
    "            taxon_to_recs[adjust_to].append(r.id)\n",
    "        else:\n",
    "            to_fetch[adjust_to].append(r.id)\n",
    "            \n"
   ]
  },
  {
   "cell_type": "markdown",
   "metadata": {},
   "source": [
    "Check if we are good, or if there are any taxids missing."
   ]
  },
  {
   "cell_type": "code",
   "execution_count": 6,
   "metadata": {
    "collapsed": false
   },
   "outputs": [
    {
     "name": "stdout",
     "output_type": "stream",
     "text": [
      "need to fetch some taxids\n"
     ]
    }
   ],
   "source": [
    "if to_fetch:\n",
    "    print \"need to fetch some taxids\"\n",
    "else:\n",
    "    print \"Have taxids for all records\"\n",
    "\n"
   ]
  },
  {
   "cell_type": "code",
   "execution_count": 7,
   "metadata": {
    "collapsed": false
   },
   "outputs": [
    {
     "name": "stdout",
     "output_type": "stream",
     "text": [
      "defaultdict(<type 'list'>, {'Chondrostoma nasus': ['EF363342.1', 'EF363351.1', 'EF363366.1', 'EF363365.1', 'EF363340.1']})\n"
     ]
    }
   ],
   "source": [
    "print to_fetch"
   ]
  },
  {
   "cell_type": "code",
   "execution_count": 14,
   "metadata": {
    "collapsed": false
   },
   "outputs": [
    {
     "name": "stdout",
     "output_type": "stream",
     "text": [
      "Chondrostoma nasus\n",
      "52619\n"
     ]
    }
   ],
   "source": [
    "\n",
    "from Bio import Entrez\n",
    "Entrez.email = \"c.hahn@hull.ac.uk\"\n",
    "\n",
    "for binomial in to_fetch:\n",
    "    print binomial\n",
    "    handle = Entrez.esearch(db=\"Taxonomy\", term=binomial)\n",
    "    record = Entrez.read(handle)\n",
    "    print record[\"IdList\"][0]\n",
    "    taxon_to_taxid[binomial] = record[\"IdList\"][0]\n",
    "    \n",
    "    taxon_to_recs[binomial] = to_fetch[binomial]"
   ]
  },
  {
   "cell_type": "markdown",
   "metadata": {},
   "source": [
    "Write taxids to file and fetch full taxonomy for all of them using `taxit` from the [taxtastic](http://fhcrc.github.io/taxtastic/index.html#) package."
   ]
  },
  {
   "cell_type": "code",
   "execution_count": 17,
   "metadata": {
    "collapsed": true
   },
   "outputs": [],
   "source": [
    "taxids = []\n",
    "\n",
    "out=open(\"taxids.txt\",'w')\n",
    "for sp in taxon_to_taxid:\n",
    "    taxids.append(taxon_to_taxid[sp])\n",
    "    out.write(taxon_to_taxid[sp]+\"\\n\")\n",
    "out.close()"
   ]
  },
  {
   "cell_type": "markdown",
   "metadata": {},
   "source": [
    "Create tab-delimited text file with full taxonomic tree for each `taxid`."
   ]
  },
  {
   "cell_type": "code",
   "execution_count": 18,
   "metadata": {
    "collapsed": true
   },
   "outputs": [],
   "source": [
    "!taxit taxtable -d /usr/bin/taxonomy.db -t taxids.txt -o taxa.csv"
   ]
  },
  {
   "cell_type": "markdown",
   "metadata": {},
   "source": [
    " \n",
    "\n",
    "The full 'taxonomy string' for a given taxon as returned from NCBI could look, e.g. like so:\n",
    "\n",
    "```\n",
    "cellular organisms; Eukaryota; Opisthokonta; Metazoa; Eumetazoa; Bilateria; Deuterostomia; Chordata; Craniata; Vertebrata; Gnathostomata; Teleostomi; Euteleostomi; Actinopterygii; Actinopteri; Neopterygii; Teleostei; Osteoglossocephalai; Clupeocephala; Euteleosteomorpha; Protacanthopterygii; Salmoniformes; Salmonidae; Salmoninae; Salmo; Salmo trutta\n",
    "```\n",
    "\n",
    "The number of taxonomic levels in the taxonomy string may vary between taxa. Some taxonomic groups are classified into relatively uncommon intermediate taxonomic levels, that may not exist for other taxa. \n",
    "\n",
    "In order to make our lives easier downstream we will limit ourselves only to a defined set of the most common taxonomic levels, that should be known for pretty much all taxa. "
   ]
  },
  {
   "cell_type": "markdown",
   "metadata": {},
   "source": [
    "\n",
    "- superkingdom\n",
    "- phylum\n",
    "- class\n",
    "- order\n",
    "- family\n",
    "- genus\n",
    "- species\n",
    "\n"
   ]
  },
  {
   "cell_type": "markdown",
   "metadata": {},
   "source": [
    "Extract 'taxonomy sring' for a specific set of taxonomic levlels."
   ]
  },
  {
   "cell_type": "code",
   "execution_count": 19,
   "metadata": {
    "collapsed": false,
    "scrolled": true
   },
   "outputs": [
    {
     "name": "stdout",
     "output_type": "stream",
     "text": [
      "48668 Eukaryota;Chordata;Actinopteri;Cypriniformes;Cyprinidae;Rutilus;Rutilus rutilus\n",
      "322563 Eukaryota;Chordata;Actinopteri;Gobiiformes;Gobiidae;Proterorhinus;Proterorhinus semilunaris\n",
      "8030 Eukaryota;Chordata;Actinopteri;Salmoniformes;Salmonidae;Salmo;Salmo salar\n",
      "58325 Eukaryota;Chordata;Actinopteri;Cypriniformes;Cyprinidae;Leuciscus;Leuciscus leuciscus\n",
      "69944 Eukaryota;Chordata;Actinopteri;Gadiformes;Lotidae;Lota;Lota lota\n",
      "58324 Eukaryota;Chordata;Actinopteri;Cypriniformes;Cyprinidae;Phoxinus;Phoxinus phoxinus\n",
      "7748 Eukaryota;Chordata;unknown;Petromyzontiformes;Petromyzontidae;Lampetra;Lampetra fluviatilis\n",
      "40830 Eukaryota;Chordata;Actinopteri;Cypriniformes;Cyprinidae;Barbus;Barbus barbus\n",
      "8010 Eukaryota;Chordata;Actinopteri;Esociformes;Esocidae;Esox;Esox lucius\n",
      "8017 Eukaryota;Chordata;Actinopteri;Salmoniformes;Salmonidae;Oncorhynchus;Oncorhynchus gorbuscha\n",
      "27773 Eukaryota;Chordata;Actinopteri;Salmoniformes;Salmonidae;Coregonus;Coregonus autumnalis\n",
      "135647 Eukaryota;Chordata;Actinopteri;Cypriniformes;Nemacheilidae;Barbatula;Barbatula barbatula\n",
      "38527 Eukaryota;Chordata;Actinopteri;Cypriniformes;Cyprinidae;Abramis;Abramis brama\n",
      "98395 Eukaryota;Chordata;Actinopteri;Cypriniformes;Cobitidae;Cobitis;Cobitis taenia\n",
      "7957 Eukaryota;Chordata;Actinopteri;Cypriniformes;Cyprinidae;Carassius;Carassius auratus\n",
      "8284 Eukaryota;Chordata;Actinopteri;Cypriniformes;Cyprinidae;Squalius;Squalius cephalus\n",
      "320565 Eukaryota;Chordata;Actinopteri;Gobiiformes;Gobiidae;Ponticola;Ponticola kessleri\n",
      "90988 Eukaryota;Chordata;Actinopteri;Cypriniformes;Cyprinidae;Pimephales;Pimephales promelas\n",
      "7936 Eukaryota;Chordata;Actinopteri;Anguilliformes;Anguillidae;Anguilla;Anguilla anguilla\n",
      "58323 Eukaryota;Chordata;Actinopteri;Cypriniformes;Cyprinidae;Leucaspius;Leucaspius delineatus\n",
      "59291 Eukaryota;Chordata;Actinopteri;Salmoniformes;Salmonidae;Coregonus;Coregonus lavaretus\n",
      "7984 Eukaryota;Chordata;Actinopteri;Cypriniformes;Cobitidae;Misgurnus;Misgurnus fossilis\n",
      "7959 Eukaryota;Chordata;Actinopteri;Cypriniformes;Cyprinidae;Ctenopharyngodon;Ctenopharyngodon idella\n",
      "7962 Eukaryota;Chordata;Actinopteri;Cypriniformes;Cyprinidae;Cyprinus;Cyprinus carpio\n",
      "8038 Eukaryota;Chordata;Actinopteri;Salmoniformes;Salmonidae;Salvelinus;Salvelinus fontinalis\n",
      "27717 Eukaryota;Chordata;Actinopteri;Cypriniformes;Cyprinidae;Tinca;Tinca tinca\n",
      "52619 Eukaryota;Chordata;Actinopteri;Cypriniformes;Cyprinidae;Chondrostoma;Chondrostoma nasus\n",
      "8168 Eukaryota;Chordata;Actinopteri;Perciformes;Percidae;Perca;Perca fluviatilis\n",
      "348708 Eukaryota;Chordata;Actinopteri;Salmoniformes;Salmonidae;Coregonus;Coregonus oxyrinchus\n",
      "69293 Eukaryota;Chordata;Actinopteri;Perciformes;Gasterosteidae;Gasterosteus;Gasterosteus aculeatus\n",
      "27704 Eukaryota;Chordata;Actinopteri;Cypriniformes;Cyprinidae;Gobio;Gobio gobio\n",
      "54556 Eukaryota;Chordata;Actinopteri;Cypriniformes;Cyprinidae;Alburnus;Alburnus alburnus\n",
      "7965 Eukaryota;Chordata;Actinopteri;Cypriniformes;Cyprinidae;Hypophthalmichthys;Hypophthalmichthys nobilis\n",
      "36185 Eukaryota;Chordata;Actinopteri;Salmoniformes;Salmonidae;Thymallus;Thymallus thymallus\n",
      "27706 Eukaryota;Chordata;Actinopteri;Centrarchiformes;Centrarchidae;Micropterus;Micropterus salmoides\n",
      "100952 Eukaryota;Chordata;Actinopteri;Perciformes;Cottidae;Cottus;Cottus gobio\n",
      "219545 Eukaryota;Chordata;Actinopteri;Siluriformes;Ictaluridae;Ameiurus;Ameiurus melas\n",
      "61674 Eukaryota;Chordata;Actinopteri;Acipenseriformes;Acipenseridae;Acipenser;Acipenser sturio\n",
      "58321 Eukaryota;Chordata;Actinopteri;Cypriniformes;Cyprinidae;Alburnoides;Alburnoides bipunctatus\n",
      "51549 Eukaryota;Chordata;Actinopteri;Cypriniformes;Cyprinidae;Pseudorasbora;Pseudorasbora parva\n",
      "8260 Eukaryota;Chordata;Actinopteri;Pleuronectiformes;Pleuronectidae;Platichthys;Platichthys flesus\n",
      "13095 Eukaryota;Chordata;Actinopteri;Cypriniformes;Cyprinidae;Hypophthalmichthys;Hypophthalmichthys molitrix\n",
      "134920 Eukaryota;Chordata;Actinopteri;Perciformes;Gasterosteidae;Pungitius;Pungitius pungitius\n",
      "75934 Eukaryota;Chordata;Actinopteri;Esociformes;Umbridae;Umbra;Umbra pygmaea\n",
      "283035 Eukaryota;Chordata;Actinopteri;Perciformes;Percidae;Sander;Sander lucioperca\n",
      "8022 Eukaryota;Chordata;Actinopteri;Salmoniformes;Salmonidae;Oncorhynchus;Oncorhynchus mykiss\n",
      "58327 Eukaryota;Chordata;Actinopteri;Cypriniformes;Cyprinidae;Rhodeus;Rhodeus sericeus\n",
      "155067 Eukaryota;Chordata;Actinopteri;Cypriniformes;Cyprinidae;Vimba;Vimba vimba\n",
      "36180 Eukaryota;Chordata;Actinopteri;Salmoniformes;Salmonidae;Coregonus;Coregonus albula\n",
      "8036 Eukaryota;Chordata;Actinopteri;Salmoniformes;Salmonidae;Salvelinus;Salvelinus alpinus\n",
      "270329 Eukaryota;Chordata;Actinopteri;Centrarchiformes;Centrarchidae;Lepomis;Lepomis gibbosus\n",
      "109273 Eukaryota;Chordata;Actinopteri;Centrarchiformes;Centrarchidae;Ambloplites;Ambloplites rupestris\n",
      "58319 Eukaryota;Chordata;Actinopteri;Cypriniformes;Cyprinidae;Scardinius;Scardinius erythrophthalmus\n",
      "47308 Eukaryota;Chordata;Actinopteri;Gobiiformes;Gobiidae;Neogobius;Neogobius melanostomus\n",
      "278165 Eukaryota;Chordata;Actinopteri;Clupeiformes;Clupeidae;Alosa;Alosa fallax\n",
      "57865 Eukaryota;Chordata;Actinopteri;Perciformes;Percidae;Gymnocephalus;Gymnocephalus cernua\n",
      "69811 Eukaryota;Chordata;Actinopteri;Cypriniformes;Cyprinidae;Leuciscus;Leuciscus idus\n",
      "27778 Eukaryota;Chordata;Actinopteri;Siluriformes;Ictaluridae;Ameiurus;Ameiurus nebulosus\n",
      "278164 Eukaryota;Chordata;Actinopteri;Clupeiformes;Clupeidae;Alosa;Alosa alosa\n",
      "58317 Eukaryota;Chordata;Actinopteri;Cypriniformes;Cyprinidae;Blicca;Blicca bjoerkna\n",
      "29151 Eukaryota;Chordata;Actinopteri;Osmeriformes;Osmeridae;Osmerus;Osmerus eperlanus\n",
      "98928 Eukaryota;Chordata;Actinopteri;Cypriniformes;Cyprinidae;Aspius;Aspius aspius\n",
      "94993 Eukaryota;Chordata;Actinopteri;Siluriformes;Siluridae;Silurus;Silurus glanis\n",
      "7750 Eukaryota;Chordata;unknown;Petromyzontiformes;Petromyzontidae;Lampetra;Lampetra planeri\n",
      "8032 Eukaryota;Chordata;Actinopteri;Salmoniformes;Salmonidae;Salmo;Salmo trutta\n",
      "217509 Eukaryota;Chordata;Actinopteri;Cypriniformes;Cyprinidae;Carassius;Carassius carassius\n"
     ]
    }
   ],
   "source": [
    "from collections import defaultdict\n",
    "\n",
    "tax_levels=['superkingdom','phylum','class','order','family','genus','species']\n",
    "indices = []\n",
    "taxdict = defaultdict(list)\n",
    "taxids_to_taxonomy = {}\n",
    "\n",
    "infile=open(\"taxa.csv\",'r')\n",
    "header=infile.next()\n",
    "\n",
    "header_as_list=header.strip().replace('\"','').split(\",\")\n",
    "for i in range(len(header_as_list)):\n",
    "#    print header_as_list[i]\n",
    "    if header_as_list[i] in tax_levels:\n",
    "#        print \"\\t\"+header_as_list[i],i\n",
    "        indices.append(i)\n",
    "\n",
    "for line in infile:\n",
    "    line_as_list=line.strip().replace('\"',\"\").split(\",\")\n",
    "    taxdict[line_as_list[0]] = line_as_list[1:]\n",
    "\n",
    "infile.close()\n",
    "\n",
    "for t in taxids:\n",
    "    print t,\n",
    "#    print taxdict[t]\n",
    "    taxonomy=\"\"\n",
    "    for i in range(len(tax_levels)):\n",
    "        if taxdict[t][indices[i]-1] == \"\":\n",
    "            taxonomy+='unknown'+';'\n",
    "        else:\n",
    "            taxonomy+=taxdict[taxdict[t][indices[i]-1]][2]+\";\"\n",
    "    print taxonomy[:-1]\n",
    "    taxids_to_taxonomy[t] = taxonomy[:-1]\n",
    "    \n"
   ]
  },
  {
   "cell_type": "markdown",
   "metadata": {},
   "source": [
    "Write out `*.tax` file for `SATIVA`."
   ]
  },
  {
   "cell_type": "code",
   "execution_count": 20,
   "metadata": {
    "collapsed": true
   },
   "outputs": [],
   "source": [
    "out=open(\"tax_for_SATIVA.tax\", 'w')\n",
    "\n",
    "for sp in taxon_to_recs:\n",
    "    for rec in taxon_to_recs[sp]:\n",
    "        out.write(\"%s\\t%s\\n\" %(rec,taxids_to_taxonomy[taxon_to_taxid[sp]]))\n",
    "        \n",
    "out.close()"
   ]
  },
  {
   "cell_type": "code",
   "execution_count": null,
   "metadata": {
    "collapsed": true
   },
   "outputs": [],
   "source": []
  }
 ],
 "metadata": {
  "kernelspec": {
   "display_name": "Python 2",
   "language": "python",
   "name": "python2"
  },
  "language_info": {
   "codemirror_mode": {
    "name": "ipython",
    "version": 2
   },
   "file_extension": ".py",
   "mimetype": "text/x-python",
   "name": "python",
   "nbconvert_exporter": "python",
   "pygments_lexer": "ipython2",
   "version": "2.7.6"
  }
 },
 "nbformat": 4,
 "nbformat_minor": 0
}
