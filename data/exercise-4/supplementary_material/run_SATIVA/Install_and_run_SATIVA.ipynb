{
 "cells": [
  {
   "cell_type": "markdown",
   "metadata": {},
   "source": [
    "## Exercise 4 - Reference database curation ##"
   ]
  },
  {
   "cell_type": "markdown",
   "metadata": {},
   "source": [
    "In this exercise we will be using [SATIVA](http://nar.oxfordjournals.org/content/44/11/5022.long), a recenctly published tool designed for 'Phylogeny-aware identification and correction of taxonomically mislabeled sequences'.\n",
    "\n",
    "For the purpose of the exercise we have prepared a (semi-) real life example of a custom reference database that requires curation (CytB sequences for all UK freshwater fish species, downloaded from Genbank), before actually using it as a reference for taxonomic assignemnt. Below you will be runnign SATIVA and we will be discussing the results and their interpretation and implications. The steps to produce this toy dataset are outlined [here](https://github.com/HullUni-bioinformatics/metabarcode-course-2016/blob/master/data/exercise-4/supplementary_material/build_tree/build_reduced_tree_for_ref_db_discussion.ipynb).\n",
    "\n",
    "For future reference:\n",
    "A (real-) real life example of custom database curation, to obtain the full reference database for the analyses to follow later this afternoon, can be found [here](https://github.com/HullUni-bioinformatics/metabarcode-course-2016/tree/master/data/exercise-5/supplementary_data/reference_db).\n",
    "\n"
   ]
  },
  {
   "cell_type": "markdown",
   "metadata": {},
   "source": [
    "`SATIVA` is not installed on your machine. Install it locally, like so:"
   ]
  },
  {
   "cell_type": "code",
   "execution_count": 1,
   "metadata": {
    "collapsed": false
   },
   "outputs": [
    {
     "name": "stdout",
     "output_type": "stream",
     "text": [
      "Cloning into 'sativa'...\n",
      "remote: Counting objects: 541, done.\u001b[K\n",
      "remote: Total 541 (delta 0), reused 0 (delta 0), pack-reused 541\u001b[K\n",
      "Receiving objects: 100% (541/541), 3.81 MiB | 2.55 MiB/s, done.\n",
      "Resolving deltas: 100% (346/346), done.\n",
      "Checking connectivity... done.\n"
     ]
    }
   ],
   "source": [
    "!git clone --recursive https://github.com/amkozlov/sativa.git"
   ]
  },
  {
   "cell_type": "code",
   "execution_count": 2,
   "metadata": {
    "collapsed": false
   },
   "outputs": [
    {
     "name": "stdout",
     "output_type": "stream",
     "text": [
      "/home/working/media/chrishah/STORAGE/Dropbox/Github/metabarcode-course-2016-temp/data/exercise-4/supplementary_material/run_SATIVA/sativa\n"
     ]
    }
   ],
   "source": [
    "cd sativa/"
   ]
  },
  {
   "cell_type": "markdown",
   "metadata": {},
   "source": [
    "Record SHA-1 checksum for the current commit for reproducibility."
   ]
  },
  {
   "cell_type": "code",
   "execution_count": 3,
   "metadata": {
    "collapsed": false
   },
   "outputs": [
    {
     "name": "stdout",
     "output_type": "stream",
     "text": [
      "commit 8a99328f3f5382f7f541526878d049415af70999\r\n"
     ]
    }
   ],
   "source": [
    "!git log -1 | head -n 1"
   ]
  },
  {
   "cell_type": "code",
   "execution_count": null,
   "metadata": {
    "collapsed": false
   },
   "outputs": [],
   "source": [
    "!./install.sh"
   ]
  },
  {
   "cell_type": "code",
   "execution_count": 5,
   "metadata": {
    "collapsed": false
   },
   "outputs": [
    {
     "name": "stdout",
     "output_type": "stream",
     "text": [
      "/home/working/media/chrishah/STORAGE/Dropbox/Github/metabarcode-course-2016-temp/data/exercise-4/supplementary_material/run_SATIVA\n"
     ]
    }
   ],
   "source": [
    "cd .."
   ]
  },
  {
   "cell_type": "markdown",
   "metadata": {},
   "source": [
    "See if SATIVA runs ok."
   ]
  },
  {
   "cell_type": "code",
   "execution_count": 6,
   "metadata": {
    "collapsed": false
   },
   "outputs": [
    {
     "name": "stdout",
     "output_type": "stream",
     "text": [
      "usage: sativa.py -s ALIGNMENT -t TAXONOMY -x {BAC,BOT,ZOO,VIR} [options]\r\n",
      "\r\n",
      "SATIVA v0.9-55-g0cbb090, released on 2016-06-28. Last version: https://github.com/amkozlov/sativa \r\n",
      "By A.Kozlov and J.Zhang, the Exelixis Lab. Based on RAxML 8.2.3 by A.Stamatakis.\r\n",
      "\r\n",
      "optional arguments:\r\n",
      "  -h, --help            show this help message and exit\r\n",
      "  -s ALIGN_FNAME        Reference alignment file (PHYLIP or FASTA). Sequences\r\n",
      "                        must be aligned, their IDs must correspond to those in\r\n",
      "                        taxonomy file.\r\n",
      "  -t TAXONOMY_FNAME     Reference taxonomy file.\r\n",
      "  -x {bac,bot,zoo,vir}  Taxonomic code: BAC(teriological), BOT(anical),\r\n",
      "                        ZOO(logical), VIR(ological)\r\n",
      "  -n OUTPUT_NAME        Job name, will be used as a prefix for output file\r\n",
      "                        names (default: taxonomy file name without extension)\r\n",
      "  -o OUTPUT_DIR         Output directory (default: current).\r\n",
      "  -T NUM_THREADS        Specify the number of CPUs (default: 12)\r\n",
      "  -N REP_NUM            Number of RAxML tree searches (with distinct random\r\n",
      "                        seeds) to resolve multifurcation. Default: 1\r\n",
      "  -v                    Print additional info messages to the console.\r\n",
      "  -R                    Resume execution after a premature termination (e.g.,\r\n",
      "                        due to expired job time limit). Run name of the\r\n",
      "                        previous (terminated) job must be specified via -n\r\n",
      "                        option.\r\n",
      "  -c CONFIG_FNAME       Config file name.\r\n",
      "  -r REF_FNAME          Specify the reference alignment and taxonomy in\r\n",
      "                        refjson format.\r\n",
      "  -j JPLACE_FNAME       Do not call RAxML to perform EPA leave-one-out test,\r\n",
      "                        use existing .jplace file as input instead. This could\r\n",
      "                        be also a directory with *.jplace files.\r\n",
      "  -J FINAL_JPLACE_FNAME\r\n",
      "                        Do not call RAxML to perform final EPA classification,\r\n",
      "                        use existing .jplace file as input instead. This could\r\n",
      "                        be also a directory with *.jplace files.\r\n",
      "  -p RAND_SEED          Random seed to be used with RAxML. Default: 12345\r\n",
      "  -C CONF_CUTOFF        Confidence cut-off between 0 and 1. Default: 0\r\n",
      "  -P BRLEN_PV           P-value for branch length Erlang test. Default: 0=off\r\n",
      "  -l MIN_LHW            A value between 0 and 1, the minimal sum of likelihood\r\n",
      "                        weight of an assignment to a specific rank. This value\r\n",
      "                        represents a confidence measure of the assignment,\r\n",
      "                        assignments below this value will be discarded.\r\n",
      "                        Default: 0 to output all possbile assignments.\r\n",
      "  -m {thorough,fast,ultrafast}\r\n",
      "                        Method of multifurcation resolution: thorough use\r\n",
      "                        stardard constrainted RAxML tree search (default) fast\r\n",
      "                        use RF distance as search convergence criterion (RAxML\r\n",
      "                        -D option) ultrafast optimize model+branch lengths\r\n",
      "                        only (RAxML -f e option)\r\n",
      "  -S                    Enable RAxML memory saving (useful for large and gappy\r\n",
      "                        alignments).\r\n",
      "  -Y SYNONYM_FNAME      File listing synonymous rank names, which will be\r\n",
      "                        considered equivalent. Please enter one name per line;\r\n",
      "                        separate groups with an empty line.\r\n",
      "  -debug                Debug mode, intermediate files will not be cleaned up.\r\n",
      "  -ranktest             Test for misplaced higher ranks.\r\n",
      "  -tmpdir TEMP_DIR      Directory for temporary files.\r\n",
      "\r\n",
      "Example: sativa.py -s example/test.phy -t example/test.tax -x BAC\r\n"
     ]
    }
   ],
   "source": [
    "!./sativa/sativa.py -h"
   ]
  },
  {
   "cell_type": "markdown",
   "metadata": {},
   "source": [
    "__What does SATIVA need?__"
   ]
  },
  {
   "cell_type": "markdown",
   "metadata": {},
   "source": [
    "As a minimum SATIVA requires two things:\n",
    " - An alignment of the reference sequences \n",
    " - A SATIVA taxonomy `*.tax` file containing full taxonomic information for every sequence in the alignment \n",
    "\n",
    "Both files have been prepared for you and are present in the directory `data/exercise-4/input_data/`."
   ]
  },
  {
   "cell_type": "markdown",
   "metadata": {},
   "source": [
    "\n",
    "The ailgnment has been produced using Reprophylo (see [notebook](https://github.com/HullUni-bioinformatics/metabarcode-course-2016/blob/master/data/exercise-4/supplementary_material/build_tree/build_reduced_tree_for_ref_db_discussion.ipynb)). We'll just cleanup the sequence headers and create a local copy."
   ]
  },
  {
   "cell_type": "code",
   "execution_count": 7,
   "metadata": {
    "collapsed": true
   },
   "outputs": [],
   "source": [
    "!cat ./input_data/CytB@mafftLinsi_aln_clipped.phy | sed 's/_f[0-9] / /' > alignment.phy"
   ]
  },
  {
   "cell_type": "markdown",
   "metadata": {},
   "source": [
    "The tax file has been generated from a Genbank file using [this](https://github.com/HullUni-bioinformatics/metabarcode-course-2016/blob/master/data/exercise-4/supplementary_material/run_SATIVA/create_SATIVA_tax_file_from_gb.ipynb) notebook."
   ]
  },
  {
   "cell_type": "code",
   "execution_count": 8,
   "metadata": {
    "collapsed": false
   },
   "outputs": [
    {
     "name": "stdout",
     "output_type": "stream",
     "text": [
      "KF552102.1\tEukaryota;Chordata;Actinopteri;Cypriniformes;Cyprinidae;Rutilus;Rutilus rutilus\r\n",
      "HM156757.1\tEukaryota;Chordata;Actinopteri;Cypriniformes;Cyprinidae;Rutilus;Rutilus rutilus\r\n",
      "KF784812.1\tEukaryota;Chordata;Actinopteri;Cypriniformes;Cyprinidae;Rutilus;Rutilus rutilus\r\n",
      "KF784831.1\tEukaryota;Chordata;Actinopteri;Cypriniformes;Cyprinidae;Rutilus;Rutilus rutilus\r\n",
      "AJ555554.1\tEukaryota;Chordata;Actinopteri;Cypriniformes;Cyprinidae;Rutilus;Rutilus rutilus\r\n",
      "EU444633.1\tEukaryota;Chordata;Actinopteri;Gobiiformes;Gobiidae;Proterorhinus;Proterorhinus semilunaris\r\n",
      "EU444608.1\tEukaryota;Chordata;Actinopteri;Gobiiformes;Gobiidae;Proterorhinus;Proterorhinus semilunaris\r\n",
      "KJ605209.1\tEukaryota;Chordata;Actinopteri;Gobiiformes;Gobiidae;Proterorhinus;Proterorhinus semilunaris\r\n",
      "KJ605211.1\tEukaryota;Chordata;Actinopteri;Gobiiformes;Gobiidae;Proterorhinus;Proterorhinus semilunaris\r\n",
      "EU444632.1\tEukaryota;Chordata;Actinopteri;Gobiiformes;Gobiidae;Proterorhinus;Proterorhinus semilunaris\r\n"
     ]
    }
   ],
   "source": [
    "!head ./input_data/tax_for_SATIVA.tax"
   ]
  },
  {
   "cell_type": "markdown",
   "metadata": {},
   "source": [
    "Let's now run `SATIVA`."
   ]
  },
  {
   "cell_type": "code",
   "execution_count": 9,
   "metadata": {
    "collapsed": false
   },
   "outputs": [
    {
     "name": "stdout",
     "output_type": "stream",
     "text": [
      "\n",
      "SATIVA v0.9-55-g0cbb090, released on 2016-06-28. Last version: https://github.com/amkozlov/sativa \n",
      "By A.Kozlov and J.Zhang, the Exelixis Lab. Based on RAxML 8.2.3 by A.Stamatakis.\n",
      "\n",
      "SATIVA was called as follows:\n",
      "\n",
      "./sativa/sativa.py -s alignment.phy -t tax_for_SATIVA.tax -x zoo -n CytB -o ./ -T 5 -v\n",
      "\n",
      "Mislabels search is running with the following parameters:\n",
      " Alignment:                        alignment.phy\n",
      " Taxonomy:                         tax_for_SATIVA.tax\n",
      " Output directory:                 /home/working/media/chrishah/STORAGE/Dropbox/Github/metabarcode-course-2016-temp/data/exercise-4/supplementary_material/run_SATIVA\n",
      " Job name / output files prefix:   CytB\n",
      " Model of rate heterogeneity:      AUTO\n",
      " Confidence cut-off:               0.000000\n",
      " Number of threads:                5\n",
      "\n",
      "*** STEP 1: Building the reference tree using provided alignment and taxonomic annotations ***\n",
      "\n",
      "=> Loading taxonomy from file: tax_for_SATIVA.tax ...\n",
      "\n",
      "==> Loading reference alignment from file: alignment.phy ...\n",
      "\n",
      "Guessing input format: not fasta\n",
      "Guessing input format: not phylip_relaxed\n",
      "===> Validating taxonomy and alignment ...\n",
      "\n",
      "====> Building a multifurcating tree from taxonomy with 297 seqs ...\n",
      "\n",
      "Total nodes in resulting tree: 297\n",
      "=====> Building the reference alignment ...\n",
      "\n",
      "======> Saving the outgroup for later re-rooting ...\n",
      "\n",
      "Outgroup for rooting was saved to: /home/working/media/chrishah/STORAGE/Dropbox/Github/metabarcode-course-2016-temp/data/exercise-4/supplementary_material/run_SATIVA/sativa/tmp/CytB_1473692470020/CytB_outgr.tre, outgroup size: 17\n",
      "=======> Resolving multifurcation: choosing the best topology from 1 independent RAxML runs ...\n",
      "\n",
      "\n",
      "Reducing the alignment: \n",
      "\n",
      "/home/working/media/chrishah/STORAGE/Dropbox/Github/metabarcode-course-2016-temp/data/exercise-4/supplementary_material/run_SATIVA/sativa/raxml//run_raxml.sh -w /home/working/media/chrishah/STORAGE/Dropbox/Github/metabarcode-course-2016-temp/data/exercise-4/supplementary_material/run_SATIVA/sativa/tmp/CytB_1473692470020 -T 5 -f c -s /home/working/media/chrishah/STORAGE/Dropbox/Github/metabarcode-course-2016-temp/data/exercise-4/supplementary_material/run_SATIVA/sativa/tmp/CytB_1473692470020/CytB_matrix.afa --no-dup-check -m GTRGAMMA -n reduce --verbose -p 13332\n",
      "\n",
      "\n",
      "Constrained ML inference: \n",
      "\n",
      "/home/working/media/chrishah/STORAGE/Dropbox/Github/metabarcode-course-2016-temp/data/exercise-4/supplementary_material/run_SATIVA/sativa/raxml//run_raxml.sh -w /home/working/media/chrishah/STORAGE/Dropbox/Github/metabarcode-course-2016-temp/data/exercise-4/supplementary_material/run_SATIVA/sativa/tmp/CytB_1473692470020 -T 5 -s /home/working/media/chrishah/STORAGE/Dropbox/Github/metabarcode-course-2016-temp/data/exercise-4/supplementary_material/run_SATIVA/sativa/tmp/CytB_1473692470020/CytB_matrix.afa -g /home/working/media/chrishah/STORAGE/Dropbox/Github/metabarcode-course-2016-temp/data/exercise-4/supplementary_material/run_SATIVA/sativa/tmp/CytB_1473692470020/CytB_mfu.tre --no-seq-check -N 1 -m GTRGAMMA -n mfresolv_CytB --verbose -p 326\n",
      "\n",
      "\n",
      "GAMMA-based logLH of the reference tree: -39026.997173\n",
      "\n",
      "========> Calling RAxML-EPA to obtain branch labels ...\n",
      "\n",
      "/home/working/media/chrishah/STORAGE/Dropbox/Github/metabarcode-course-2016-temp/data/exercise-4/supplementary_material/run_SATIVA/sativa/raxml//run_raxml.sh -w /home/working/media/chrishah/STORAGE/Dropbox/Github/metabarcode-course-2016-temp/data/exercise-4/supplementary_material/run_SATIVA/sativa/tmp/CytB_1473692470020 -T 5 -s /home/working/media/chrishah/STORAGE/Dropbox/Github/metabarcode-course-2016-temp/data/exercise-4/supplementary_material/run_SATIVA/sativa/tmp/CytB_1473692470020/CytB_lblq.fa -t /home/working/media/chrishah/STORAGE/Dropbox/Github/metabarcode-course-2016-temp/data/exercise-4/supplementary_material/run_SATIVA/sativa/tmp/CytB_1473692470020/CytB_bfu.tre --no-seq-check -f y --epa-accumulated-threshold 0.999 -R /home/working/media/chrishah/STORAGE/Dropbox/Github/metabarcode-course-2016-temp/data/exercise-4/supplementary_material/run_SATIVA/sativa/tmp/CytB_1473692470020/CytB.opt -m GTRGAMMA -n epalbl_CytB --verbose -p 26407\n",
      "\n",
      "=========> Post-processing the EPA tree (re-rooting, taxonomic labeling etc.) ...\n",
      "\n",
      "\n",
      "==========> Checking branch labels ...\n",
      "shared rank names before training: set(['Eukaryota', 'Chordata'])\n",
      "shared rank names after  training: set(['Eukaryota', '-', 'Chordata'])\n",
      "\n",
      "==========> Saving the reference JSON file: ./CytB.refjson\n",
      "\n",
      "Calculating the speciation rate...\n",
      "\n",
      "Writing down the reference file...\n",
      "\n",
      "*** STEP 2: Searching for mislabels ***\n",
      "\n",
      "Running the leave-one-sequence-out test...\n",
      "\n",
      "/home/working/media/chrishah/STORAGE/Dropbox/Github/metabarcode-course-2016-temp/data/exercise-4/supplementary_material/run_SATIVA/sativa/raxml//run_raxml.sh -w /home/working/media/chrishah/STORAGE/Dropbox/Github/metabarcode-course-2016-temp/data/exercise-4/supplementary_material/run_SATIVA/sativa/tmp/CytB_1473692470020 -T 5 -s /home/working/media/chrishah/STORAGE/Dropbox/Github/metabarcode-course-2016-temp/data/exercise-4/supplementary_material/run_SATIVA/sativa/tmp/CytB_1473692470020/CytB.refaln -t /home/working/media/chrishah/STORAGE/Dropbox/Github/metabarcode-course-2016-temp/data/exercise-4/supplementary_material/run_SATIVA/sativa/tmp/CytB_1473692470020/ref_CytB.tre --no-seq-check -f O --epa-accumulated-threshold 0.999 -R /home/working/media/chrishah/STORAGE/Dropbox/Github/metabarcode-course-2016-temp/data/exercise-4/supplementary_material/run_SATIVA/sativa/tmp/CytB_1473692470020/CytB.opt -m GTRGAMMA -n l1out_seq_CytB --verbose -p 13332\n",
      "\n",
      "Leave-one-out test identified 32 suspicious sequences; running final EPA test to check them...\n",
      "\n",
      "/home/working/media/chrishah/STORAGE/Dropbox/Github/metabarcode-course-2016-temp/data/exercise-4/supplementary_material/run_SATIVA/sativa/raxml//run_raxml.sh -w /home/working/media/chrishah/STORAGE/Dropbox/Github/metabarcode-course-2016-temp/data/exercise-4/supplementary_material/run_SATIVA/sativa/tmp/CytB_1473692470020 -T 5 -s /home/working/media/chrishah/STORAGE/Dropbox/Github/metabarcode-course-2016-temp/data/exercise-4/supplementary_material/run_SATIVA/sativa/tmp/CytB_1473692470020/CytB.refaln -t /home/working/media/chrishah/STORAGE/Dropbox/Github/metabarcode-course-2016-temp/data/exercise-4/supplementary_material/run_SATIVA/sativa/tmp/CytB_1473692470020/final_ref_CytB.tre --no-seq-check -f v --epa-accumulated-threshold 0.999 -m GTRGAMMA -n final_epa_CytB --verbose -p 326\n",
      "\n",
      "AJ969128.1\tOrder\tCentrarchiformes\tCypriniformes\t1.000\tEukaryota;Chordata;Actinopteri;Centrarchiformes;Centrarchidae;Lepomis;Lepomis gibbosus\tEukaryota;Chordata;Actinopteri;Cypriniformes;Cyprinidae;Tinca;Tinca tinca\t1.000;1.000;1.000;1.000;1.000;1.000;1.000\n",
      "\n",
      "KP644340.1\tOrder\tGadiformes\tCypriniformes\t1.000\tEukaryota;Chordata;Actinopteri;Gadiformes;Lotidae;Lota;Lota lota\tEukaryota;Chordata;Actinopteri;Cypriniformes;Cyprinidae;Blicca;Blicca bjoerkna\t1.000;1.000;1.000;1.000;1.000;1.000;1.000\n",
      "\n",
      "JF489783.1\tGenus\tPseudorasbora\tGobio\t1.000\tEukaryota;Chordata;Actinopteri;Cypriniformes;Cyprinidae;Pseudorasbora;Pseudorasbora parva\tEukaryota;Chordata;Actinopteri;Cypriniformes;Cyprinidae;Gobio;Gobio gobio\t1.000;1.000;1.000;1.000;1.000;1.000;1.000\n",
      "\n",
      "GQ279764.1\tGenus\tVimba\tBlicca\t1.000\tEukaryota;Chordata;Actinopteri;Cypriniformes;Cyprinidae;Vimba;Vimba vimba\tEukaryota;Chordata;Actinopteri;Cypriniformes;Cyprinidae;Blicca;Blicca bjoerkna\t1.000;1.000;1.000;1.000;1.000;1.000;1.000\n",
      "\n",
      "GU182336.1\tGenus\tSqualius\tCtenopharyngodon\t1.000\tEukaryota;Chordata;Actinopteri;Cypriniformes;Cyprinidae;Squalius;Squalius cephalus\tEukaryota;Chordata;Actinopteri;Cypriniformes;Cyprinidae;Ctenopharyngodon;Ctenopharyngodon idella\t1.000;1.000;1.000;1.000;1.000;1.000;1.000\n",
      "\n",
      "EU492281.1\tSpecies\tSalmo salar\tSalmo trutta\t1.000\tEukaryota;Chordata;Actinopteri;Salmoniformes;Salmonidae;Salmo;Salmo salar\tEukaryota;Chordata;Actinopteri;Salmoniformes;Salmonidae;Salmo;Salmo trutta\t1.000;1.000;1.000;1.000;1.000;1.000;1.000\n",
      "\n",
      "JQ661453.1\tSpecies\tCoregonus lavaretus\tCoregonus oxyrinchus\t1.000\tEukaryota;Chordata;Actinopteri;Salmoniformes;Salmonidae;Coregonus;Coregonus lavaretus\tEukaryota;Chordata;Actinopteri;Salmoniformes;Salmonidae;Coregonus;Coregonus oxyrinchus\t1.000;1.000;1.000;1.000;1.000;1.000;1.000\n",
      "\n",
      "JQ661445.1\tSpecies\tCoregonus lavaretus\tCoregonus oxyrinchus\t1.000\tEukaryota;Chordata;Actinopteri;Salmoniformes;Salmonidae;Coregonus;Coregonus lavaretus\tEukaryota;Chordata;Actinopteri;Salmoniformes;Salmonidae;Coregonus;Coregonus oxyrinchus\t1.000;1.000;1.000;1.000;1.000;1.000;1.000\n",
      "\n",
      "DQ664351.1\tSpecies\tLeuciscus leuciscus\tLeuciscus idus\t1.000\tEukaryota;Chordata;Actinopteri;Cypriniformes;Cyprinidae;Leuciscus;Leuciscus leuciscus\tEukaryota;Chordata;Actinopteri;Cypriniformes;Cyprinidae;Leuciscus;Leuciscus idus\t1.000;1.000;1.000;1.000;1.000;1.000;1.000\n",
      "\n",
      "AJ617499.1\tSpecies\tCoregonus lavaretus\tCoregonus oxyrinchus\t1.000\tEukaryota;Chordata;Actinopteri;Salmoniformes;Salmonidae;Coregonus;Coregonus lavaretus\tEukaryota;Chordata;Actinopteri;Salmoniformes;Salmonidae;Coregonus;Coregonus oxyrinchus\t1.000;1.000;1.000;1.000;1.000;1.000;1.000\n",
      "\n",
      "EU224046.1\tSpecies\tAlosa alosa\tAlosa fallax\t1.000\tEukaryota;Chordata;Actinopteri;Clupeiformes;Clupeidae;Alosa;Alosa alosa\tEukaryota;Chordata;Actinopteri;Clupeiformes;Clupeidae;Alosa;Alosa fallax\t1.000;1.000;1.000;1.000;1.000;1.000;1.000\n",
      "\n",
      "EU224045.1\tSpecies\tAlosa alosa\tAlosa fallax\t1.000\tEukaryota;Chordata;Actinopteri;Clupeiformes;Clupeidae;Alosa;Alosa alosa\tEukaryota;Chordata;Actinopteri;Clupeiformes;Clupeidae;Alosa;Alosa fallax\t1.000;1.000;1.000;1.000;1.000;1.000;1.000\n",
      "\n",
      "JQ346141.1\tSpecies\tHypophthalmichthys nobilis\tHypophthalmichthys molitrix\t1.000\tEukaryota;Chordata;Actinopteri;Cypriniformes;Cyprinidae;Hypophthalmichthys;Hypophthalmichthys nobilis\tEukaryota;Chordata;Actinopteri;Cypriniformes;Cyprinidae;Hypophthalmichthys;Hypophthalmichthys molitrix\t1.000;1.000;1.000;1.000;1.000;1.000;1.000\n",
      "\n",
      "JQ231114.1\tSpecies\tHypophthalmichthys molitrix\tHypophthalmichthys nobilis\t1.000\tEukaryota;Chordata;Actinopteri;Cypriniformes;Cyprinidae;Hypophthalmichthys;Hypophthalmichthys molitrix\tEukaryota;Chordata;Actinopteri;Cypriniformes;Cyprinidae;Hypophthalmichthys;Hypophthalmichthys nobilis\t1.000;1.000;1.000;1.000;1.000;1.000;1.000\n",
      "\n",
      "AJ937925.1\tSpecies\tLampetra fluviatilis\tLampetra planeri\t0.999\tEukaryota;Chordata;unknown;Petromyzontiformes;Petromyzontidae;Lampetra;Lampetra fluviatilis\tEukaryota;Chordata;unknown;Petromyzontiformes;Petromyzontidae;Lampetra;Lampetra planeri\t0.999;0.999;0.999;0.999;0.999;0.999;0.999\n",
      "\n",
      "AJ937926.1\tSpecies\tLampetra fluviatilis\tLampetra planeri\t0.904\tEukaryota;Chordata;unknown;Petromyzontiformes;Petromyzontidae;Lampetra;Lampetra fluviatilis\tEukaryota;Chordata;unknown;Petromyzontiformes;Petromyzontidae;Lampetra;Lampetra planeri\t1.000;1.000;1.000;1.000;1.000;1.000;0.904\n",
      "\n",
      "AJ937929.1\tSpecies\tLampetra fluviatilis\tLampetra planeri\t0.904\tEukaryota;Chordata;unknown;Petromyzontiformes;Petromyzontidae;Lampetra;Lampetra fluviatilis\tEukaryota;Chordata;unknown;Petromyzontiformes;Petromyzontidae;Lampetra;Lampetra planeri\t1.000;1.000;1.000;1.000;1.000;1.000;0.904\n",
      "\n",
      "KT275292.1\tSpecies\tLampetra fluviatilis\tLampetra planeri\t0.903\tEukaryota;Chordata;unknown;Petromyzontiformes;Petromyzontidae;Lampetra;Lampetra fluviatilis\tEukaryota;Chordata;unknown;Petromyzontiformes;Petromyzontidae;Lampetra;Lampetra planeri\t1.000;1.000;1.000;1.000;1.000;1.000;0.903\n",
      "\n",
      "AJ937943.1\tSpecies\tLampetra fluviatilis\tLampetra planeri\t0.903\tEukaryota;Chordata;unknown;Petromyzontiformes;Petromyzontidae;Lampetra;Lampetra fluviatilis\tEukaryota;Chordata;unknown;Petromyzontiformes;Petromyzontidae;Lampetra;Lampetra planeri\t1.000;1.000;1.000;1.000;1.000;1.000;0.903\n",
      "\n",
      "Mislabeled sequences by rank:\n",
      "Order       :\t2\n",
      "Genus       :\t3\n",
      "Species     :\t14\n",
      "\n",
      "Total mislabels: 19 / 6.40 %\n",
      "\n",
      "Results were saved to: /home/working/media/chrishah/STORAGE/Dropbox/Github/metabarcode-course-2016-temp/data/exercise-4/supplementary_material/run_SATIVA/CytB.mis\n",
      "Execution log was saved to: /home/working/media/chrishah/STORAGE/Dropbox/Github/metabarcode-course-2016-temp/data/exercise-4/supplementary_material/run_SATIVA/CytB.log\n",
      "\n",
      "Analysis completed successfully, elapsed time: 182 seconds (51s reftree, 131s leave-one-out)\n",
      "\n"
     ]
    }
   ],
   "source": [
    "!./sativa/sativa.py -s alignment.phy -t tax_for_SATIVA.tax -x zoo -n CytB -o ./ -T 5 -v"
   ]
  },
  {
   "cell_type": "markdown",
   "metadata": {},
   "source": [
    "`SATIVA` (among other things) writes a report to a text file - Line wrapped below. See also [here](https://github.com/HullUni-bioinformatics/metabarcode-course-2016/blob/master/data/exercise-4/results_backup/CytB.mis)"
   ]
  },
  {
   "cell_type": "code",
   "execution_count": 10,
   "metadata": {
    "collapsed": false
   },
   "outputs": [
    {
     "name": "stdout",
     "output_type": "stream",
     "text": [
      ";WARNING: The revised taxon name suggested here is not necessarily the one that has priority in nomenclature. \r\n",
      ";Our suggestion should only be taken as indicative of an affiliation to the same group, whose correct name must be determined \r\n",
      ";in an additional step according to the specific rules of nomenclature that apply to the studied organisms.\r\n",
      ";\r\n",
      ";SeqID\tMislabeledLevel\tOriginalLabel\tProposedLabel\tConfidence\tOriginalTaxonomyPath\tProposedTaxonomyPath\tPerRankConfidence\r\n",
      "AJ969128.1\tOrder\tCentrarchiformes\tCypriniformes\t1.000\tEukaryota;Chordata;Actinopteri;Centrarchiformes;Centrarchidae;Lepomis;Lepomis gibbosus\tEukaryota;Chordata;Actinopteri;Cypriniformes;Cyprinidae;Tinca;Tinca tinca\t1.000;1.000;1.000;1.000;1.000;1.000;1.000\r\n",
      "KP644340.1\tOrder\tGadiformes\tCypriniformes\t1.000\tEukaryota;Chordata;Actinopteri;Gadiformes;Lotidae;Lota;Lota lota\tEukaryota;Chordata;Actinopteri;Cypriniformes;Cyprinidae;Blicca;Blicca bjoerkna\t1.000;1.000;1.000;1.000;1.000;1.000;1.000\r\n",
      "JF489783.1\tGenus\tPseudorasbora\tGobio\t1.000\tEukaryota;Chordata;Actinopteri;Cypriniformes;Cyprinidae;Pseudorasbora;Pseudorasbora parva\tEukaryota;Chordata;Actinopteri;Cypriniformes;Cyprinidae;Gobio;Gobio gobio\t1.000;1.000;1.000;1.000;1.000;1.000;1.000\r\n",
      "GQ279764.1\tGenus\tVimba\tBlicca\t1.000\tEukaryota;Chordata;Actinopteri;Cypriniformes;Cyprinidae;Vimba;Vimba vimba\tEukaryota;Chordata;Actinopteri;Cypriniformes;Cyprinidae;Blicca;Blicca bjoerkna\t1.000;1.000;1.000;1.000;1.000;1.000;1.000\r\n",
      "GU182336.1\tGenus\tSqualius\tCtenopharyngodon\t1.000\tEukaryota;Chordata;Actinopteri;Cypriniformes;Cyprinidae;Squalius;Squalius cephalus\tEukaryota;Chordata;Actinopteri;Cypriniformes;Cyprinidae;Ctenopharyngodon;Ctenopharyngodon idella\t1.000;1.000;1.000;1.000;1.000;1.000;1.000\r\n",
      "EU492281.1\tSpecies\tSalmo salar\tSalmo trutta\t1.000\tEukaryota;Chordata;Actinopteri;Salmoniformes;Salmonidae;Salmo;Salmo salar\tEukaryota;Chordata;Actinopteri;Salmoniformes;Salmonidae;Salmo;Salmo trutta\t1.000;1.000;1.000;1.000;1.000;1.000;1.000\r\n",
      "JQ661453.1\tSpecies\tCoregonus lavaretus\tCoregonus oxyrinchus\t1.000\tEukaryota;Chordata;Actinopteri;Salmoniformes;Salmonidae;Coregonus;Coregonus lavaretus\tEukaryota;Chordata;Actinopteri;Salmoniformes;Salmonidae;Coregonus;Coregonus oxyrinchus\t1.000;1.000;1.000;1.000;1.000;1.000;1.000\r\n",
      "JQ661445.1\tSpecies\tCoregonus lavaretus\tCoregonus oxyrinchus\t1.000\tEukaryota;Chordata;Actinopteri;Salmoniformes;Salmonidae;Coregonus;Coregonus lavaretus\tEukaryota;Chordata;Actinopteri;Salmoniformes;Salmonidae;Coregonus;Coregonus oxyrinchus\t1.000;1.000;1.000;1.000;1.000;1.000;1.000\r\n",
      "DQ664351.1\tSpecies\tLeuciscus leuciscus\tLeuciscus idus\t1.000\tEukaryota;Chordata;Actinopteri;Cypriniformes;Cyprinidae;Leuciscus;Leuciscus leuciscus\tEukaryota;Chordata;Actinopteri;Cypriniformes;Cyprinidae;Leuciscus;Leuciscus idus\t1.000;1.000;1.000;1.000;1.000;1.000;1.000\r\n",
      "AJ617499.1\tSpecies\tCoregonus lavaretus\tCoregonus oxyrinchus\t1.000\tEukaryota;Chordata;Actinopteri;Salmoniformes;Salmonidae;Coregonus;Coregonus lavaretus\tEukaryota;Chordata;Actinopteri;Salmoniformes;Salmonidae;Coregonus;Coregonus oxyrinchus\t1.000;1.000;1.000;1.000;1.000;1.000;1.000\r\n",
      "EU224046.1\tSpecies\tAlosa alosa\tAlosa fallax\t1.000\tEukaryota;Chordata;Actinopteri;Clupeiformes;Clupeidae;Alosa;Alosa alosa\tEukaryota;Chordata;Actinopteri;Clupeiformes;Clupeidae;Alosa;Alosa fallax\t1.000;1.000;1.000;1.000;1.000;1.000;1.000\r\n",
      "EU224045.1\tSpecies\tAlosa alosa\tAlosa fallax\t1.000\tEukaryota;Chordata;Actinopteri;Clupeiformes;Clupeidae;Alosa;Alosa alosa\tEukaryota;Chordata;Actinopteri;Clupeiformes;Clupeidae;Alosa;Alosa fallax\t1.000;1.000;1.000;1.000;1.000;1.000;1.000\r\n",
      "JQ346141.1\tSpecies\tHypophthalmichthys nobilis\tHypophthalmichthys molitrix\t1.000\tEukaryota;Chordata;Actinopteri;Cypriniformes;Cyprinidae;Hypophthalmichthys;Hypophthalmichthys nobilis\tEukaryota;Chordata;Actinopteri;Cypriniformes;Cyprinidae;Hypophthalmichthys;Hypophthalmichthys molitrix\t1.000;1.000;1.000;1.000;1.000;1.000;1.000\r\n",
      "JQ231114.1\tSpecies\tHypophthalmichthys molitrix\tHypophthalmichthys nobilis\t1.000\tEukaryota;Chordata;Actinopteri;Cypriniformes;Cyprinidae;Hypophthalmichthys;Hypophthalmichthys molitrix\tEukaryota;Chordata;Actinopteri;Cypriniformes;Cyprinidae;Hypophthalmichthys;Hypophthalmichthys nobilis\t1.000;1.000;1.000;1.000;1.000;1.000;1.000\r\n",
      "AJ937925.1\tSpecies\tLampetra fluviatilis\tLampetra planeri\t0.999\tEukaryota;Chordata;unknown;Petromyzontiformes;Petromyzontidae;Lampetra;Lampetra fluviatilis\tEukaryota;Chordata;unknown;Petromyzontiformes;Petromyzontidae;Lampetra;Lampetra planeri\t0.999;0.999;0.999;0.999;0.999;0.999;0.999\r\n",
      "AJ937926.1\tSpecies\tLampetra fluviatilis\tLampetra planeri\t0.904\tEukaryota;Chordata;unknown;Petromyzontiformes;Petromyzontidae;Lampetra;Lampetra fluviatilis\tEukaryota;Chordata;unknown;Petromyzontiformes;Petromyzontidae;Lampetra;Lampetra planeri\t1.000;1.000;1.000;1.000;1.000;1.000;0.904\r\n",
      "AJ937929.1\tSpecies\tLampetra fluviatilis\tLampetra planeri\t0.904\tEukaryota;Chordata;unknown;Petromyzontiformes;Petromyzontidae;Lampetra;Lampetra fluviatilis\tEukaryota;Chordata;unknown;Petromyzontiformes;Petromyzontidae;Lampetra;Lampetra planeri\t1.000;1.000;1.000;1.000;1.000;1.000;0.904\r\n",
      "KT275292.1\tSpecies\tLampetra fluviatilis\tLampetra planeri\t0.903\tEukaryota;Chordata;unknown;Petromyzontiformes;Petromyzontidae;Lampetra;Lampetra fluviatilis\tEukaryota;Chordata;unknown;Petromyzontiformes;Petromyzontidae;Lampetra;Lampetra planeri\t1.000;1.000;1.000;1.000;1.000;1.000;0.903\r\n",
      "AJ937943.1\tSpecies\tLampetra fluviatilis\tLampetra planeri\t0.903\tEukaryota;Chordata;unknown;Petromyzontiformes;Petromyzontidae;Lampetra;Lampetra fluviatilis\tEukaryota;Chordata;unknown;Petromyzontiformes;Petromyzontidae;Lampetra;Lampetra planeri\t1.000;1.000;1.000;1.000;1.000;1.000;0.903\r\n"
     ]
    }
   ],
   "source": [
    "!cat CytB.mis"
   ]
  },
  {
   "cell_type": "markdown",
   "metadata": {},
   "source": [
    "Cleanup and remove `SATIVA` after you're done."
   ]
  },
  {
   "cell_type": "code",
   "execution_count": 11,
   "metadata": {
    "collapsed": true
   },
   "outputs": [],
   "source": [
    "!rm -rf sativa/"
   ]
  }
 ],
 "metadata": {
  "kernelspec": {
   "display_name": "Python 2",
   "language": "python",
   "name": "python2"
  },
  "language_info": {
   "codemirror_mode": {
    "name": "ipython",
    "version": 2
   },
   "file_extension": ".py",
   "mimetype": "text/x-python",
   "name": "python",
   "nbconvert_exporter": "python",
   "pygments_lexer": "ipython2",
   "version": "2.7.6"
  }
 },
 "nbformat": 4,
 "nbformat_minor": 0
}
