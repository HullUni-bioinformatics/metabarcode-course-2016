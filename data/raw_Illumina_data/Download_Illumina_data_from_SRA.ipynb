{
 "cells": [
  {
   "cell_type": "markdown",
   "metadata": {},
   "source": [
    "Illumina data will be downloaded from [SRA](http://www.ncbi.nlm.nih.gov/sra) using the following workflow.\n",
    "\n",
    "It will require the [SRA-toolkit](http://www.ncbi.nlm.nih.gov/Traces/sra/?view=toolkit_doc) program `fastq-dump` to be installed on your machine and in your path.\n",
    "\n",
    "If the necessary program is not yet present on your system you can get it as follows:\n"
   ]
  },
  {
   "cell_type": "code",
   "execution_count": null,
   "metadata": {
    "collapsed": false
   },
   "outputs": [],
   "source": [
    "%%bash\n",
    "\n",
    "mkdir SRA-toolkit\n",
    "cd SRA-toolkit\n",
    "\n",
    "wget -q http://ftp-trace.ncbi.nlm.nih.gov/sra/sdk/2.5.7/sratoolkit.2.5.7-ubuntu64.tar.gz\n",
    "\n",
    "#decompress the archive\n",
    "tar -xzf sratoolkit.2.5.7-ubuntu64.tar.gz\n",
    "\n",
    "#add the fastq-dump executable to your PATH (may require sudo)\n",
    "cp $(pwd)/sratoolkit.2.5.7-ubuntu64/bin/fastq-dump /usr/local/bin\n",
    "\n",
    "#remove SRA toolkit files that are not required\n",
    "cd ..\n",
    "rm -rf SRA-toolkit/\n",
    "\n",
    "#check if fastq-dump is ok\n",
    "echo -e \"checking if fastq-dump has been set up ok .. should display program usage\"\n",
    "fastq-dump"
   ]
  },
  {
   "cell_type": "markdown",
   "metadata": {},
   "source": [
    "The following cell contains a simple loop that will read through the file `sample_metadata/Sample_accessions_LW.tsv` (see [here]()) and download the relevant raw read files from SRA basd on the accessions provided in column 3 of the file. It will then rename the files according to the sampleID (column 1) and the marker (column 2).\n",
    "\n",
    "The full downloading process takes ~10 minutes depending on your connection.\n"
   ]
  },
  {
   "cell_type": "code",
   "execution_count": null,
   "metadata": {
    "collapsed": false
   },
   "outputs": [],
   "source": [
    "%%bash\n",
    "\n",
    "mkdir reads\n",
    "\n",
    "for s in $(cat sample_metadata/Sample_accessions_LW.tsv | sed 's/\\t/,/g' | grep \"SRA_Accession\" -v)\n",
    "do \n",
    "    id=$(echo $s | cut -d \",\" -f 1)\n",
    "    accession=$(echo $s | cut -d \",\" -f 3)\n",
    "    marker=$(echo $s | cut -d \",\" -f 2)\n",
    "    echo -e \"$(date)\\tdownloading: $id\\t$accession\\t$marker\"\n",
    "    fastq-dump -O reads/ --split-files --gzip --defline-seq '@$ac-$sn/$ri' --defline-qual '+' $accession\n",
    "    mv reads/$accession\\_1.fastq.gz reads/$id-$marker\\_1.fastq.gz\n",
    "    mv reads/$accession\\_2.fastq.gz reads/$id-$marker\\_2.fastq.gz\n",
    "done"
   ]
  },
  {
   "cell_type": "markdown",
   "metadata": {},
   "source": [
    "Double check if all files are there."
   ]
  },
  {
   "cell_type": "code",
   "execution_count": null,
   "metadata": {
    "collapsed": false
   },
   "outputs": [],
   "source": [
    "!ls reads/*.fastq.gz"
   ]
  },
  {
   "cell_type": "markdown",
   "metadata": {},
   "source": [
    "Metadata for the samples has been prepared in the local file `sample_metadata/Sample_metadata.csv` - or view [here]()."
   ]
  }
 ],
 "metadata": {
  "kernelspec": {
   "display_name": "Python 2",
   "language": "python",
   "name": "python2"
  },
  "language_info": {
   "codemirror_mode": {
    "name": "ipython",
    "version": 2
   },
   "file_extension": ".py",
   "mimetype": "text/x-python",
   "name": "python",
   "nbconvert_exporter": "python",
   "pygments_lexer": "ipython2",
   "version": "2.7.6"
  }
 },
 "nbformat": 4,
 "nbformat_minor": 0
}
