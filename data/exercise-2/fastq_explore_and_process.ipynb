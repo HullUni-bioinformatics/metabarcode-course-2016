{
 "cells": [
  {
   "cell_type": "markdown",
   "metadata": {},
   "source": [
    "#Exploring, trimming and processing of Illumina (fastq) data \n",
    "\n"
   ]
  },
  {
   "cell_type": "markdown",
   "metadata": {},
   "source": [
    "In order to follow the below exercise you'll have to download Illumina data as described [here](https://github.com/HullUni-bioinformatics/metabarcode-course-2016/blob/master/data/raw_Illumina_data/Download_Illumina_data_from_SRA.ipynb).\n",
    "\n",
    "The below cells assume that the relative path to your reads is `../raw_Illumina_data/reads`. Amend if necessary."
   ]
  },
  {
   "cell_type": "markdown",
   "metadata": {},
   "source": [
    "__TASK__\n",
    "\n",
    "\n",
    "__How to display the first 12 lines of a gzipped file?__\n",
    "\n",
    "The pipe symbol `|` is an extremely powerful function to pass the output from one command directly to the next command. This is often referred to as 'piping'.\n",
    "\n"
   ]
  },
  {
   "cell_type": "code",
   "execution_count": null,
   "metadata": {
    "collapsed": false
   },
   "outputs": [],
   "source": [
    "!gunzip -c ../raw_Illumina_data/reads/Windermere_01-CytB_2.fastq.gz | head -n 12"
   ]
  },
  {
   "cell_type": "code",
   "execution_count": null,
   "metadata": {
    "collapsed": false
   },
   "outputs": [],
   "source": [
    "!zcat -c ../raw_Illumina_data/reads/Windermere_01-CytB_2.fastq.gz | head -n 12"
   ]
  },
  {
   "cell_type": "markdown",
   "metadata": {},
   "source": [
    "__TASK__\n",
    "\n",
    "__Determine the number of sequences in a fastq file__"
   ]
  },
  {
   "cell_type": "markdown",
   "metadata": {},
   "source": [
    "Display only every 4th line of the file and count the lines."
   ]
  },
  {
   "cell_type": "code",
   "execution_count": null,
   "metadata": {
    "collapsed": false
   },
   "outputs": [],
   "source": [
    "!zcat ../raw_Illumina_data/reads/Windermere_01-CytB_2.fastq.gz | sed -n '1~4p' | wc -l"
   ]
  },
  {
   "cell_type": "markdown",
   "metadata": {},
   "source": [
    "As we did before for the `fasta` file, we could search for lines with a specific pattern in the `fastq` file that we are sure will only occur once per sequence and count."
   ]
  },
  {
   "cell_type": "markdown",
   "metadata": {},
   "source": [
    "As you know by now, per definition, each sequence header in fastq format starts with an '@' character. Couldn't we simply look for that?\n",
    "\n"
   ]
  },
  {
   "cell_type": "code",
   "execution_count": null,
   "metadata": {
    "collapsed": false
   },
   "outputs": [],
   "source": [
    "!zcat ../raw_Illumina_data/reads/Windermere_01-CytB_2.fastq.gz | grep \"@\" | wc -l"
   ]
  },
  {
   "cell_type": "markdown",
   "metadata": {},
   "source": [
    "Let's be more specific and look only for lines that start with an '@' character."
   ]
  },
  {
   "cell_type": "code",
   "execution_count": null,
   "metadata": {
    "collapsed": false
   },
   "outputs": [],
   "source": [
    "!zcat ../raw_Illumina_data/reads/Windermere_01-CytB_2.fastq.gz | grep \"^@\" | wc -l"
   ]
  },
  {
   "cell_type": "markdown",
   "metadata": {},
   "source": [
    "Still not quite.. __Why could that be?__"
   ]
  },
  {
   "cell_type": "markdown",
   "metadata": {},
   "source": [
    "Another useful pattern to search for is a line that contains only '+', i.e. the 3rd line in the standard fastq format."
   ]
  },
  {
   "cell_type": "code",
   "execution_count": null,
   "metadata": {
    "collapsed": false
   },
   "outputs": [],
   "source": [
    "!zcat ../raw_Illumina_data/reads/Windermere_01-CytB_2.fastq.gz | grep \"^+$\" | wc -l"
   ]
  },
  {
   "cell_type": "markdown",
   "metadata": {},
   "source": [
    "##Quality trimming"
   ]
  },
  {
   "cell_type": "markdown",
   "metadata": {
    "collapsed": true
   },
   "source": [
    "__TASK__\n",
    "\n",
    "Qality trim to a phred score of Q > 30, discarding sequences of length shorter than 250 bp.\n",
    "\n",
    "Two steps:\n",
    " - decompress (gunzip)\n",
    " - perform trimming\n"
   ]
  },
  {
   "cell_type": "code",
   "execution_count": null,
   "metadata": {
    "collapsed": false
   },
   "outputs": [],
   "source": [
    "%%bash\n",
    "gunzip ../raw_Illumina_data/reads/Windermere_01-CytB_2.fastq.gz\n",
    "fastq_quality_trimmer -Q 33 -t 30 -l 250 -v -i ../raw_Illumina_data/reads/Windermere_01-CytB_2.fastq -o test1.fastq"
   ]
  },
  {
   "cell_type": "markdown",
   "metadata": {},
   "source": [
    "Alternatively you could use the pipe function also here:"
   ]
  },
  {
   "cell_type": "code",
   "execution_count": null,
   "metadata": {
    "collapsed": false
   },
   "outputs": [],
   "source": [
    "!zcat ../raw_Illumina_data/reads/Windermere_01-CytB_2.fastq.gz | \\\n",
    "fastq_quality_trimmer -Q 33 -t 30 -l 250 -v -o test1.fastq"
   ]
  },
  {
   "cell_type": "markdown",
   "metadata": {},
   "source": [
    "__TASK__\n",
    "\n",
    "Filter all reads with a quality Q < 30 in more than 40% of their bases."
   ]
  },
  {
   "cell_type": "code",
   "execution_count": null,
   "metadata": {
    "collapsed": false
   },
   "outputs": [],
   "source": [
    "!zcat ../raw_Illumina_data/reads/Windermere_01-CytB_2.fastq.gz | \\\n",
    "fastq_quality_filter -Q 33 -q 30 -p 60 -v -o test2.fastq\n"
   ]
  },
  {
   "cell_type": "markdown",
   "metadata": {},
   "source": [
    "__TASK__\n",
    "\n",
    "Combine both of the above via pipe."
   ]
  },
  {
   "cell_type": "code",
   "execution_count": null,
   "metadata": {
    "collapsed": false
   },
   "outputs": [],
   "source": [
    "!zcat ../raw_Illumina_data/reads/Windermere_01-CytB_2.fastq.gz | \\\n",
    "fastq_quality_filter -Q 33 -q 30 -p 60 -v | \\\n",
    "fastq_quality_trimmer -Q 33 -t 30 -l 250 -v -o test3.fastq"
   ]
  },
  {
   "cell_type": "markdown",
   "metadata": {},
   "source": [
    "__Other tools__\n",
    "\n",
    "[Trimmomatic](http://www.usadellab.org/cms/?page=trimmomatic) as an example for another efficient software for trimming Illumina data.\n",
    "\n",
    "To run the below command successfully you will have to specify the correct input files. Can you determine the desired trimming strategy?"
   ]
  },
  {
   "cell_type": "code",
   "execution_count": null,
   "metadata": {
    "collapsed": false
   },
   "outputs": [],
   "source": [
    "%%bash\n",
    "\n",
    "java -jar /usr/bin/trimmomatic-0.32.jar PE -phred33 -trimlog trimmomatic.log \\\n",
    "../raw_Illumina_data/reads/Windermere_01-CytB_1.fastq.gz ../raw_Illumina_data/reads/Windermere_01-CytB_2.fastq.gz \\\n",
    "trimmomatic_paired_1.fastq trimmomatic_orphan_1.fastq \\\n",
    "trimmomatic_paired_2.fastq trimmomatic_orphan_2.fastq \\\n",
    "LEADING:30 TRAILING:30 SLIDINGWINDOW:5:20 MINLEN:200\n"
   ]
  },
  {
   "cell_type": "markdown",
   "metadata": {},
   "source": [
    "[flash](http://ccb.jhu.edu/software/FLASH/) for merging of overlapping read pairs."
   ]
  },
  {
   "cell_type": "code",
   "execution_count": null,
   "metadata": {
    "collapsed": false
   },
   "outputs": [],
   "source": [
    "!flash trimmomatic_paired_1.fastq trimmomatic_paired_2.fastq -o flash"
   ]
  },
  {
   "cell_type": "markdown",
   "metadata": {},
   "source": [
    "Explore read length distribution after merging with flash."
   ]
  },
  {
   "cell_type": "code",
   "execution_count": null,
   "metadata": {
    "collapsed": false
   },
   "outputs": [],
   "source": [
    "!cat flash.hist"
   ]
  },
  {
   "cell_type": "markdown",
   "metadata": {},
   "source": [
    "[vsearch](https://github.com/torognes/vsearch) for read clustering. \n",
    "\n",
    "A real world metabarcoding use case for `vsearch` could be:\n",
    "\n",
    "Cluster the merged reads at 99% similarity, retaining one sequence per cluster (aka a 'centroid') and write a table summarizing the fate of each sequence in the dataset.\n",
    "\n",
    "\n",
    "[vsearch](https://github.com/torognes/vsearch) is an extremely versatile tool, worth knowing your way around with.\n",
    "\n",
    "\n",
    "Note that to perform clustering you'll first have to convert your fastq seqeunces into fasta format.\n",
    "\n",
    "you could do this using a tool from FASTX-toolkit, e.g.:"
   ]
  },
  {
   "cell_type": "code",
   "execution_count": null,
   "metadata": {
    "collapsed": false
   },
   "outputs": [],
   "source": [
    "!fastq_to_fasta -h"
   ]
  },
  {
   "cell_type": "code",
   "execution_count": null,
   "metadata": {
    "collapsed": false
   },
   "outputs": [],
   "source": [
    "!fastq_to_fasta -Q 33 -v -n -i flash.extendedFrags.fastq -o flash.extendedFrags.fasta"
   ]
  },
  {
   "cell_type": "markdown",
   "metadata": {},
   "source": [
    "Or use some simple python code and [Biopython](http://biopython.org/wiki/Biopython) functions."
   ]
  },
  {
   "cell_type": "code",
   "execution_count": null,
   "metadata": {
    "collapsed": false
   },
   "outputs": [],
   "source": [
    "from Bio import SeqIO\n",
    "\n",
    "Seqs = SeqIO.parse(open('flash.extendedFrags.fastq','r'), 'fastq')\n",
    "\n",
    "output_handle = open(\"flash.extendedFrags.fasta\", \"w\")\n",
    "\n",
    "count = SeqIO.write(Seqs, output_handle, \"fasta\")\n",
    "\n",
    "output_handle.close()\n",
    "\n",
    "print(\"Converted %i reads from 'fasta' to 'fastq' format\" % count)"
   ]
  },
  {
   "cell_type": "markdown",
   "metadata": {},
   "source": [
    "Now, let's cluster at 99 % similarity."
   ]
  },
  {
   "cell_type": "code",
   "execution_count": null,
   "metadata": {
    "collapsed": false
   },
   "outputs": [],
   "source": [
    "%%bash\n",
    "\n",
    "vsearch --cluster_fast flash.extendedFrags.fasta \\\n",
    "--id 0.99 --centroids flash.centroids.99.fasta --uc flash.centroids.99.uc"
   ]
  },
  {
   "cell_type": "markdown",
   "metadata": {},
   "source": [
    "Now, let's cluster at 95 % similarity."
   ]
  },
  {
   "cell_type": "code",
   "execution_count": null,
   "metadata": {
    "collapsed": false
   },
   "outputs": [],
   "source": [
    "%%bash\n",
    "\n",
    "vsearch --cluster_fast flash.extendedFrags.fasta \\\n",
    "--id 0.95 --centroids flash.centroids.95.fasta --uc flash.centroids.95.uc"
   ]
  },
  {
   "cell_type": "markdown",
   "metadata": {},
   "source": [
    "How many clusters did you retain? Compare 99% vs. 95% clustering. Which similarity setting do you think would be appropriate? Something to discuss.."
   ]
  },
  {
   "cell_type": "markdown",
   "metadata": {},
   "source": [
    "__Well Done!__"
   ]
  }
 ],
 "metadata": {
  "kernelspec": {
   "display_name": "Python 2",
   "language": "python",
   "name": "python2"
  },
  "language_info": {
   "codemirror_mode": {
    "name": "ipython",
    "version": 2
   },
   "file_extension": ".py",
   "mimetype": "text/x-python",
   "name": "python",
   "nbconvert_exporter": "python",
   "pygments_lexer": "ipython2",
   "version": "2.7.6"
  }
 },
 "nbformat": 4,
 "nbformat_minor": 0
}
