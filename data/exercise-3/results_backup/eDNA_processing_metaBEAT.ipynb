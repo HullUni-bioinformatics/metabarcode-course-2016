{
 "cells": [
  {
   "cell_type": "markdown",
   "metadata": {},
   "source": [
    "#Lake Windermere eNDA metabarcoding data processing\n",
    "\n",
    "In this exercise we will use [metaBEAT](https://github.com/HullUni-bioinformatics/metaBEAT), a tool tailored towards reproducible and efficient analyses of metabarcoding data that we have developed in-house. It is still under active development and will likely be extended further in the future. The pipeline is available in a Docker [container](https://registry.hub.docker.com/u/chrishah/metabeat/) with all necessary dependencies. The Docker image is building on [ReproPhylo](https://registry.hub.docker.com/u/szitenberg/reprophylo/).\n",
    "\n",
    "The data we will be analyzing are CytB sequences amplified from eDNA samples collected from Lake Windermere. The experiment was designed to assess the potential of the eDNA approach to assess fish community compositions and was published recently (Haenfling et al. 2016). \n",
    "The metaBEAT tool is designed as a wrapper around a complete analysis from raw data, performing (optionally) de-multiplexing, quality filtering, clustering along the way, to OTU tables in biom format. It currently supports BLAST and phylogenetic placement (pplacer). The plan is to include further approaches in the future and to allow for efficient and standardized comparative assessments of all approaches. \n",
    "\n",
    "metBEAT offers a large number of options. Some of them will sound familiar and should make sense to you given your experience from the course so far. \n"
   ]
  },
  {
   "cell_type": "code",
   "execution_count": 1,
   "metadata": {
    "collapsed": false
   },
   "outputs": [
    {
     "name": "stdout",
     "output_type": "stream",
     "text": [
      "usage: metaBEAT.py [-h] [-Q <FILE>] [-B <FILE>] [--g_queries <FILE>] [-v] [-s]\r\n",
      "                   [-f] [-p] [-t] [-b] [-m <string>] [-n <INT>] [-E] [-e]\r\n",
      "                   [--read_stats_off] [--PCR_primer <FILE>]\r\n",
      "                   [--trim_adapter <FILE>] [--trim_qual <INT>] [--phred <INT>]\r\n",
      "                   [--trim_window <INT>] [--read_crop <INT>]\r\n",
      "                   [--trim_minlength <INT>] [--merge] [--product_length <INT>]\r\n",
      "                   [--merged_only] [--forward_only] [--length_filter <INT>]\r\n",
      "                   [--length_deviation <FLOAT>] [-R <FILE>] [--gb_out <FILE>]\r\n",
      "                   [--rec_check] [--gi_to_taxid <FILE>] [--cluster]\r\n",
      "                   [--clust_match <FLOAT>] [--clust_cov <INT>]\r\n",
      "                   [--blast_db <PATH>] [--blast_xml <PATH>]\r\n",
      "                   [--min_ident <FLOAT>] [--min_ali_length <FLOAT>]\r\n",
      "                   [--min_bit <INT>] [--refpkg <DIR>] [-o OUTPUT_PREFIX]\r\n",
      "                   [--metadata METADATA] [--mock_meta_data]\r\n",
      "                   [-@ <email-address>] [--version]\r\n",
      "\r\n",
      "metaBEAT - metaBarcoding and Environmental DNA Analyses tool version:\r\n",
      "v.0.94-global\r\n",
      "\r\n",
      "optional arguments:\r\n",
      "  -h, --help            show this help message and exit\r\n",
      "  -Q <FILE>, --querylist <FILE>\r\n",
      "                        file containing a list of query files\r\n",
      "  -B <FILE>, --BIOM_input <FILE>\r\n",
      "                        OTU table in BIOM format\r\n",
      "  --g_queries <FILE>    fasta file containing query sequences (in combination\r\n",
      "                        with '-B' sequence headers are expected to match)\r\n",
      "  -v, --verbose         turn verbose output on\r\n",
      "  -s, --seqinfo         write out seq_info.csv file\r\n",
      "  -f, --fasta           write out ref.fasta file\r\n",
      "  -p, --phyloplace      perform phylogenetic placement\r\n",
      "  -t, --taxids          write out taxid.txt file\r\n",
      "  -b, --blast           compile local blast db and blast queries\r\n",
      "  -m <string>, --marker <string>\r\n",
      "                        marker ID (default: marker)\r\n",
      "  -n <INT>, --n_threads <INT>\r\n",
      "                        Number of threads (default: 1)\r\n",
      "  -E, --extract_centroid_reads\r\n",
      "                        extract centroid reads to files\r\n",
      "  -e, --extract_all_reads\r\n",
      "                        extract reads to files\r\n",
      "  --read_stats_off      ommit writing read stats to file\r\n",
      "  --version             show program's version number and exit\r\n",
      "\r\n",
      "Query preprocessing:\r\n",
      "  The parameters in this group affect how the query sequences are processed\r\n",
      "\r\n",
      "  --PCR_primer <FILE>   PCR primers (provided in fasta file) to be clipped\r\n",
      "                        from reads\r\n",
      "  --trim_adapter <FILE>\r\n",
      "                        trim adapters provided in file\r\n",
      "  --trim_qual <INT>     minimum phred quality score (default: 30)\r\n",
      "  --phred <INT>         phred quality score offset - 33 or 64 (default: 33)\r\n",
      "  --trim_window <INT>   sliding window size (default: 5) for trimming; if\r\n",
      "                        average quality drops below the specified minimum\r\n",
      "                        quality all subsequent bases are removed from the\r\n",
      "                        reads\r\n",
      "  --read_crop <INT>     Crop reads to this length if they are longer than that\r\n",
      "                        (default: off)\r\n",
      "  --trim_minlength <INT>\r\n",
      "                        minimum length of reads to be retained after trimming\r\n",
      "                        (default: 50)\r\n",
      "  --merge               attempt to merge paired-end reads\r\n",
      "  --product_length <INT>\r\n",
      "                        estimated length of PCR product (specifying this\r\n",
      "                        option increases merging efficiency)\r\n",
      "  --merged_only         only process successfully merged read-pairs\r\n",
      "  --forward_only        only process sequences that contain forward reads\r\n",
      "                        (i.e. unmerged forward reads and merged reads)\r\n",
      "  --length_filter <INT>\r\n",
      "                        only process reads, which are within +/- 10 percent of\r\n",
      "                        this length\r\n",
      "  --length_deviation <FLOAT>\r\n",
      "                        allowed deviation (in percent) from length specified\r\n",
      "                        by --length_filter (default=0.1)\r\n",
      "\r\n",
      "Reference:\r\n",
      "  The parameters in this group affect the reference to be used in the\r\n",
      "  analyses\r\n",
      "\r\n",
      "  -R <FILE>, --REFlist <FILE>\r\n",
      "                        file containing a list of files to be used as\r\n",
      "                        reference sequences\r\n",
      "  --gb_out <FILE>       output the corrected gb file\r\n",
      "  --rec_check           check records to be used as reference\r\n",
      "  --gi_to_taxid <FILE>  comma delimited file containing 'gi accession,taxid'\r\n",
      "                        for a list of taxa\r\n",
      "\r\n",
      "Query clustering options:\r\n",
      "  The parameters in this group affect read clustering\r\n",
      "\r\n",
      "  --cluster             perform clustering of query sequences using vsearch\r\n",
      "  --clust_match <FLOAT>\r\n",
      "                        identity threshold for clustering in percent (default:\r\n",
      "                        1)\r\n",
      "  --clust_cov <INT>     minimum number of records in cluster (default: 1)\r\n",
      "\r\n",
      "BLAST search:\r\n",
      "  The parameters in this group affect BLAST search and BLAST based taxonomic\r\n",
      "  assignment\r\n",
      "\r\n",
      "  --blast_db <PATH>     path to precompiled blast database\r\n",
      "  --blast_xml <PATH>    path to Blast result in xml format\r\n",
      "  --min_ident <FLOAT>   minimum identity threshold in percent (default: 0.80)\r\n",
      "  --min_ali_length <FLOAT>\r\n",
      "                        minimum alignment length in percent of total query\r\n",
      "                        length (default: 0.95)\r\n",
      "  --min_bit <INT>       minimum bitscore (default: 80)\r\n",
      "\r\n",
      "Phylogenetic placement:\r\n",
      "  The parameters in this group affect phylogenetic placement\r\n",
      "\r\n",
      "  --refpkg <DIR>        PATH to refpkg\r\n",
      "\r\n",
      "BIOM OUTPUT:\r\n",
      "  The arguments in this groups affect the output in BIOM format\r\n",
      "\r\n",
      "  -o OUTPUT_PREFIX, --output_prefix OUTPUT_PREFIX\r\n",
      "                        prefix for BIOM output files (default='metaBEAT')\r\n",
      "  --metadata METADATA   comma delimited file containing metadata (optional)\r\n",
      "  --mock_meta_data      add mock metadata to the samples in the BIOM output\r\n",
      "\r\n",
      "Entrez identification:\r\n",
      "  metaBEAT is querying the NCBI Entrez databases, please provide an email\r\n",
      "  address for identification\r\n",
      "\r\n",
      "  -@ <email-address>, --email <email-address>\r\n",
      "                        provide your email address for identification to NCBI\r\n"
     ]
    }
   ],
   "source": [
    "!metaBEAT_global.py -h"
   ]
  },
  {
   "cell_type": "markdown",
   "metadata": {},
   "source": [
    "We will limit ourselves to a basic processing (read trimming, -merging-, clustering) for now.\n",
    "\n",
    "Minimum input for an anlysis is a set of query sequences in one or several files (accepted are a number of file formats, e.g. `fasta`, `fastq`). These will be run through the pipeline sequentially.\n",
    "\n",
    "You will need to provide information on the nature and location of the query sequence files in a separate tab-delimited text files via the `-Q` flags,\n",
    "\n",
    "Each line in this text file should look as follows:\n",
    "\n",
    "`unique sample_ID <tab> format <tab> file1 <tab> file2`\n",
    "\n",
    "An example can be found [here](https://github.com/HullUni-bioinformatics/metabarcode-course-2016/blob/master/data/exercise-3/example_data/QUERYfile).\n",
    "\n",
    "You may generate the required text files in any text editor."
   ]
  },
  {
   "cell_type": "markdown",
   "metadata": {},
   "source": [
    "__Give it a go!__ \n",
    "\n",
    "Let's try it and open _`nano`_ in a terminal. \n",
    "\n",
    "You could call your samples anything, but we suggest that you use sample names that match the filenames of the Illumina data that you have downloaded before. See also the sample metadata that we've provided [here](https://github.com/HullUni-bioinformatics/metabarcode-course-2016/blob/master/data/raw_Illumina_data/sample_metadata/Sample_metadata.csv). \n",
    "\n",
    "The file should cover the samples `Windermere_01` - `Windermere_50`.\n",
    "\n",
    "Example line:\n",
    "```bash\n",
    "Windermere_01\tfastq\t./reads/Windermere_01-CytB_1.fastq.gz\t./reads/Windermere_01-CytB_2.fastq.gz\n",
    "...\n",
    "...\n",
    "```"
   ]
  },
  {
   "cell_type": "markdown",
   "metadata": {},
   "source": [
    "For the sake of reproducibility and because it's (arguably) much easier, you can also write a simple program that will generate the required file. \n",
    "\n",
    "In the cell below we produce it using a simple python script.\n",
    "\n",
    "The script will list all files in the location to which you've downloaded your Illumina data (specified via the `'datadir'` variable. It assumes that there is a file ending in `_1.fastq` for each sample. For each such file, it will extract the sample name from the filename and format the required line for the text file accordingly. We call the resulting file `Querymap.txt` (specified in the `'to'` variable)."
   ]
  },
  {
   "cell_type": "code",
   "execution_count": 2,
   "metadata": {
    "collapsed": false
   },
   "outputs": [],
   "source": [
    "import os\n",
    "\n",
    "datadir = '../raw_Illumina_data/reads/'\n",
    "to = 'Querymap.txt'\n",
    "\n",
    "####################\n",
    "out_list = []\n",
    "string = ''\n",
    "files = os.listdir(datadir)\n",
    "for f in sorted(files):\n",
    "    if '_1.fastq' in f:\n",
    "        string += \"%s\\tfastq\\t%s%s\\t%s/%s\" %(f.replace('-CytB_1.fastq.gz', ''), datadir, f, datadir, f.replace('_1.fastq', '_2.fastq'))+'\\n'\n",
    "\n",
    "out = open(to, 'w')\n",
    "out.write(string)\n",
    "out.close()"
   ]
  },
  {
   "cell_type": "markdown",
   "metadata": {},
   "source": [
    "Have a look (note that the output is probably line-wrapped). "
   ]
  },
  {
   "cell_type": "code",
   "execution_count": 3,
   "metadata": {
    "collapsed": false,
    "scrolled": false
   },
   "outputs": [
    {
     "name": "stdout",
     "output_type": "stream",
     "text": [
      "Windermere_01\tfastq\t../raw_Illumina_data/reads/Windermere_01-CytB_1.fastq.gz\t../raw_Illumina_data/reads//Windermere_01-CytB_2.fastq.gz\r\n",
      "Windermere_02\tfastq\t../raw_Illumina_data/reads/Windermere_02-CytB_1.fastq.gz\t../raw_Illumina_data/reads//Windermere_02-CytB_2.fastq.gz\r\n",
      "Windermere_03\tfastq\t../raw_Illumina_data/reads/Windermere_03-CytB_1.fastq.gz\t../raw_Illumina_data/reads//Windermere_03-CytB_2.fastq.gz\r\n",
      "Windermere_04\tfastq\t../raw_Illumina_data/reads/Windermere_04-CytB_1.fastq.gz\t../raw_Illumina_data/reads//Windermere_04-CytB_2.fastq.gz\r\n"
     ]
    }
   ],
   "source": [
    "!head -n 4 Querymap.txt"
   ]
  },
  {
   "cell_type": "markdown",
   "metadata": {},
   "source": [
    "\n",
    "Now, we will be perform basic quality trimming and clipping (`Trimmomatic`), paired-end read merging (`flash`) and read clustering at 100 % identity (`vsearch`), essentially as you did in the previous [exercise](https://github.com/HullUni-bioinformatics/metabarcode-course-2016/blob/master/data/exercise-2/fastq_explore_and_process.ipynb). Only this time we will be using our custom pipeline `metaBEAT` to process all 68 samples in one go.\n",
    "\n",
    "See the below command:"
   ]
  },
  {
   "cell_type": "code",
   "execution_count": 4,
   "metadata": {
    "collapsed": false
   },
   "outputs": [
    {
     "name": "stdout",
     "output_type": "stream",
     "text": [
      "Starttime: Sat Sep 10 14:10:12 UTC 2016\n",
      "\n",
      "Endtime: Sat Sep 10 14:27:25 UTC 2016\n",
      "\n"
     ]
    }
   ],
   "source": [
    "%%bash\n",
    "\n",
    "echo -e \"Starttime: $(date)\\n\"\n",
    "\n",
    "metaBEAT_global.py \\\n",
    "-Q Querymap.txt \\\n",
    "--trim_qual 30 --trim_minlength 100 \\\n",
    "--merge --product_length 400 --forward_only \\\n",
    "--cluster --clust_match 1 --clust_cov 3 \\\n",
    "-m CytB -o CytB-trim30min100-merge-c3-id1 \\\n",
    "-n 5 -v &> log\n",
    "\n",
    "echo -e \"Endtime: $(date)\\n\""
   ]
  },
  {
   "cell_type": "markdown",
   "metadata": {},
   "source": [
    "Read processing will take about 20-30 minutes.\n",
    "\n",
    "Some more details about the above command:\n",
    "\n",
    "```bash\n",
    "metaBEAT_global.py \\ #call the program\n",
    "-Q Querymap.txt \\ #path to the Querymap\n",
    "--trim_qual 30 \\ #minimum quality for trimming is prhed Q30 (trimmomatic)\n",
    "--trim_minlength 100 \\ #only retain reads longer than 100 bp after trimming\n",
    "--merge \\ #merge overlapping read pairs (flash)\n",
    "--forward_only \\ #retain only forward read in cases where read pairs don't merge\n",
    "--product_length 400 \\ #expected length of merged read is roughly 400 bp\n",
    "--cluster \\ #cluster sequences (vsearch)\n",
    "--clust_match 1 \\ #cluster at 100 % identity\n",
    "--clust_cov 3 \\ #minimum coverage of 3 reads to retain cluster\n",
    "-m CytB \\ #arbitrary name of the marker\n",
    "-o CytB-trim30min100-merge-c3-id1 \\ #prefix for results files\n",
    "-n 5 \\ #use 5 threads\n",
    "-v &> log #write verbose output to file called log\n",
    "```"
   ]
  },
  {
   "cell_type": "markdown",
   "metadata": {},
   "source": [
    "While the read processing is running we can continue with the course program. Next we will focus on constructing/curating a custom reference database.\n",
    "\n"
   ]
  },
  {
   "cell_type": "markdown",
   "metadata": {},
   "source": [
    "metaBEAT will generate a directory with all temporary files that were create during the processing for each sample and will record useful stats summarizing the data processing in the file `CytB-trim30min100-merge-c3-id1_read_stats.csv`. Should look roughly like [this](https://github.com/HullUni-bioinformatics/metabarcode-course-2016/blob/master/data/exercise-3/results_backup/CytB-trim30min100-merge-c3-id1_read_stats.csv).\n",
    " \n",
    "You can explore the table manually or we can quickly plot out some of these stats here in the notebook, e.g. like so:"
   ]
  },
  {
   "cell_type": "code",
   "execution_count": 13,
   "metadata": {
    "collapsed": false
   },
   "outputs": [
    {
     "data": {
      "image/png": "[encoded data removed]",
      "text/plain": [
       "<matplotlib.figure.Figure at 0x7f18f0c79b10>"
      ]
     },
     "metadata": {},
     "output_type": "display_data"
    }
   ],
   "source": [
    "import matplotlib.pyplot as plt\n",
    "import numpy as np\n",
    "%matplotlib inline\n",
    "\n",
    "# parse metaBEAT_read_stats.csv\n",
    "stats_file = 'CytB-trim30min100-merge-c3-id1_read_stats.csv'\n",
    "\n",
    "################\n",
    "## prepare data\n",
    "total_pairs = []\n",
    "trimmed_pairs = []\n",
    "trimmed_orphams = []\n",
    "merged_pairs = []\n",
    "clusters_total = []\n",
    "clusters_ok = []\n",
    "queries = []\n",
    "\n",
    "for l in open(stats_file, 'r').readlines()[1:]:\n",
    "    smpl, tot, trimtot, trimpe, trimorph, merged, n1,n2,n3,n4, q = l.rstrip().split(',')\n",
    "    total_pairs.append(int(tot)/2.0)\n",
    "    trimmed_pairs.append(int(trimpe)/2.0)\n",
    "    trimmed_orphams.append(int(trimorph))\n",
    "    merged_pairs.append(int(merged))\n",
    "    clusters_total.append(int(n2))\n",
    "    clusters_ok.append(int(n4))\n",
    "    queries.append(int(q))\n",
    "    \n",
    "    \n",
    "dat = [total_pairs, trimmed_pairs, trimmed_orphams, merged_pairs, clusters_total, clusters_ok, queries]\n",
    "dat = [np.array(d) for d in dat]\n",
    "x = ['raw pairs', 'trimmed pairs', 'trimmed orphans', 'merged pairs', 'clusters total', 'clusters pass', 'queries']\n",
    "\n",
    "################\n",
    "## do the plotting\n",
    "fig = plt.figure(1, figsize=(12, 6))\n",
    "ax = fig.add_subplot(111)\n",
    "bp = ax.boxplot(dat)\n",
    "bp = ax.set_xticklabels(x, rotation=45)\n",
    "\n"
   ]
  },
  {
   "cell_type": "markdown",
   "metadata": {},
   "source": [
    "Plot only Number of clusters."
   ]
  },
  {
   "cell_type": "code",
   "execution_count": 14,
   "metadata": {
    "collapsed": false
   },
   "outputs": [
    {
     "data": {
      "image/png": "[encoded data removed]",
      "text/plain": [
       "<matplotlib.figure.Figure at 0x7f18d37cce90>"
      ]
     },
     "metadata": {},
     "output_type": "display_data"
    }
   ],
   "source": [
    "import matplotlib.pyplot as plt\n",
    "import numpy as np\n",
    "%matplotlib inline\n",
    "\n",
    "\n",
    "####\n",
    "dat = [clusters_total, clusters_ok]\n",
    "dat = [np.array(d) for d in dat]\n",
    "x = ['clusters total', 'clusters pass']\n",
    "\n",
    "fig = plt.figure(1, figsize=(12, 6))\n",
    "ax = fig.add_subplot(111)\n",
    "bp = ax.boxplot(dat)\n",
    "bp = ax.set_xticklabels(x, rotation=45)\n"
   ]
  },
  {
   "cell_type": "markdown",
   "metadata": {},
   "source": [
    "The final step in the processing will be global clustering of the centroids from all clusters from all samples to produce denovo `OTUs`. The temporary files from the global clustering and the final OTU table were written to the directory `GLOBAL`.\n",
    "\n"
   ]
  },
  {
   "cell_type": "code",
   "execution_count": 16,
   "metadata": {
    "collapsed": false
   },
   "outputs": [
    {
     "name": "stdout",
     "output_type": "stream",
     "text": [
      "CytB-trim30min100-merge-c3-id1-OTU-denovo.biom\tglobal_queries.fasta\r\n",
      "CytB-trim30min100-merge-c3-id1-OTU-denovo.tsv\tglobal.uc\r\n",
      "global_centroids.fasta\r\n"
     ]
    }
   ],
   "source": [
    "!ls GLOBAL/"
   ]
  },
  {
   "cell_type": "markdown",
   "metadata": {},
   "source": [
    "You can briefly explore the denovo OTU table (numbers are reads) to see how OTUs are distributed across your samples. See also an example [here](https://github.com/HullUni-bioinformatics/metabarcode-course-2016/blob/master/data/exercise-3/results_backup/CytB-trim30min100-merge-c3-id1-OTU-denovo.tsv)."
   ]
  },
  {
   "cell_type": "markdown",
   "metadata": {},
   "source": [
    "You can find detailed info on what metaBEAT did to each sample in the log file `log`. It contains the exact commands that were run for each sample during each step of the process.\n",
    "\n",
    "It's a large text file - just have a look at the first 100 lines for a start. "
   ]
  },
  {
   "cell_type": "code",
   "execution_count": 17,
   "metadata": {
    "collapsed": false
   },
   "outputs": [
    {
     "name": "stdout",
     "output_type": "stream",
     "text": [
      "\r\n",
      "metaBEAT - metaBarcoding and Environmental DNA Analyses tool\r\n",
      "version: v.0.94-global\r\n",
      "\r\n",
      "\r\n",
      "Sat Sep 10 14:10:12 2016\r\n",
      "\r\n",
      "/usr/bin/metaBEAT_global.py -Q Querymap.txt --trim_qual 30 --trim_minlength 100 --merge --product_length 400 --forward_only --cluster --clust_match 1 --clust_cov 3 -m CytB -o CytB-trim30min100-merge-c3-id1 -n 5 -v\r\n",
      "\r\n",
      "\r\n",
      "metaBEAT may be querying NCBI's Entrez databases to fetch/verify taxonomic ids. Entrez User requirements state that you need to identify yourself by providing an email address so that NCBI can contact you in case there is a problem.\r\n",
      "\r\n",
      "As the mail address is not specified in the script itself (variable 'Entrez.email'), metaBEAT expects a simple text file called 'user_email.txt' that contains your email address (first line of file) in the same location as the metaBEAT.py script (in your case: /usr/bin/)\r\n",
      "\r\n",
      "found 'c.hahn@hull.ac.uk' in /usr/bin/user_email.txt\r\n",
      "\r\n",
      "\r\n",
      "Parsing querylist file\r\n",
      "\r\n",
      "Number of samples to process: 57\r\n",
      "Sequence input format: defaultdict(<type 'int'>, {'fastq': 57})\r\n",
      "Barcodes for demultiplexing provided for 0 samples\r\n",
      "Cropping instructions provided for 0 samples\r\n",
      "\r\n",
      "\r\n",
      "Sat Sep 10 14:10:12 2016\r\n",
      "\r\n",
      "\r\n",
      "##### processing query ID: Windermere_01 #####\r\n",
      "\r\n",
      "\r\n",
      "### READ QUALITY TRIMMING ###\r\n",
      "\r\n",
      "\r\n",
      "trimming PE reads with trimmomatic\r\n",
      "java -jar /usr/bin/trimmomatic-0.32.jar PE -threads 5 -phred33 -trimlog trimmomatic.log /home/working/media/chrishah/STORAGE/Dropbox/Github/metabarcode-course-2016-temp/data/raw_Illumina_data/reads/Windermere_01-CytB_1.fastq.gz /home/working/media/chrishah/STORAGE/Dropbox/Github/metabarcode-course-2016-temp/data/raw_Illumina_data/reads/Windermere_01-CytB_2.fastq.gz Windermere_01_forward.paired.fastq.gz Windermere_01_forward.singletons.fastq.gz Windermere_01_reverse.paired.fastq.gz Windermere_01_reverse.singletons.fastq.gz ILLUMINACLIP:None:5:5:5 TRAILING:30 LEADING:30 SLIDINGWINDOW:5:30 MINLEN:100\r\n",
      "\r\n",
      "TrimmomaticPE: Started with arguments: -threads 5 -phred33 -trimlog trimmomatic.log /home/working/media/chrishah/STORAGE/Dropbox/Github/metabarcode-course-2016-temp/data/raw_Illumina_data/reads/Windermere_01-CytB_1.fastq.gz /home/working/media/chrishah/STORAGE/Dropbox/Github/metabarcode-course-2016-temp/data/raw_Illumina_data/reads/Windermere_01-CytB_2.fastq.gz Windermere_01_forward.paired.fastq.gz Windermere_01_forward.singletons.fastq.gz Windermere_01_reverse.paired.fastq.gz Windermere_01_reverse.singletons.fastq.gz ILLUMINACLIP:None:5:5:5 TRAILING:30 LEADING:30 SLIDINGWINDOW:5:30 MINLEN:100\r\n",
      "Sep 10, 2016 2:10:16 PM org.usadellab.trimmomatic.trim.IlluminaClippingTrimmer makeIlluminaClippingTrimmer\r\n",
      "SEVERE: null\r\n",
      "java.io.FileNotFoundException: /home/working/media/chrishah/STORAGE/Dropbox/Github/metabarcode-course-2016-temp/data/exercise-3/Windermere_01/None (No such file or directory)\r\n",
      "\tat java.io.FileInputStream.open(Native Method)\r\n",
      "\tat java.io.FileInputStream.<init>(FileInputStream.java:146)\r\n",
      "\tat org.usadellab.trimmomatic.fasta.FastaParser.parse(FastaParser.java:54)\r\n",
      "\tat org.usadellab.trimmomatic.trim.IlluminaClippingTrimmer.loadSequences(IlluminaClippingTrimmer.java:107)\r\n",
      "\tat org.usadellab.trimmomatic.trim.IlluminaClippingTrimmer.makeIlluminaClippingTrimmer(IlluminaClippingTrimmer.java:70)\r\n",
      "\tat org.usadellab.trimmomatic.trim.TrimmerFactory.makeTrimmer(TrimmerFactory.java:27)\r\n",
      "\tat org.usadellab.trimmomatic.TrimmomaticPE.run(TrimmomaticPE.java:495)\r\n",
      "\tat org.usadellab.trimmomatic.Trimmomatic.main(Trimmomatic.java:35)\r\n",
      "\r\n",
      "Input Read Pairs: 39025 Both Surviving: 31720 (81.28%) Forward Only Surviving: 3386 (8.68%) Reverse Only Surviving: 701 (1.80%) Dropped: 3218 (8.25%)\r\n",
      "TrimmomaticPE: Completed successfully\r\n",
      "\r\n",
      "\r\n",
      "### MERGING READ PAIRS ###\r\n",
      "\r\n",
      "merging paired-end reads with flash\r\n",
      "\r\n",
      "flash Windermere_01_forward.paired.fastq.gz Windermere_01_reverse.paired.fastq.gz -M 400 -t 5 -p 33 -o Windermere_01 -z\r\n",
      "[FLASH] Starting FLASH v1.2.11\r\n",
      "[FLASH] Fast Length Adjustment of SHort reads\r\n",
      "[FLASH]  \r\n",
      "[FLASH] Input files:\r\n",
      "[FLASH]     Windermere_01_forward.paired.fastq.gz\r\n",
      "[FLASH]     Windermere_01_reverse.paired.fastq.gz\r\n",
      "[FLASH]  \r\n",
      "[FLASH] Output files:\r\n",
      "[FLASH]     ./Windermere_01.extendedFrags.fastq.gz\r\n",
      "[FLASH]     ./Windermere_01.notCombined_1.fastq.gz\r\n",
      "[FLASH]     ./Windermere_01.notCombined_2.fastq.gz\r\n",
      "[FLASH]     ./Windermere_01.hist\r\n",
      "[FLASH]     ./Windermere_01.histogram\r\n",
      "[FLASH]  \r\n",
      "[FLASH] Parameters:\r\n",
      "[FLASH]     Min overlap:           10\r\n",
      "[FLASH]     Max overlap:           400\r\n",
      "[FLASH]     Max mismatch density:  0.250000\r\n",
      "[FLASH]     Allow \"outie\" pairs:   false\r\n",
      "[FLASH]     Cap mismatch quals:    false\r\n",
      "[FLASH]     Combiner threads:      5\r\n",
      "[FLASH]     Input format:          FASTQ, phred_offset=33\r\n",
      "[FLASH]     Output format:         FASTQ, phred_offset=33, gzip\r\n",
      "[FLASH]  \r\n",
      "[FLASH] Starting reader and writer threads\r\n",
      "[FLASH] Starting 5 combiner threads\r\n",
      "[FLASH] Processed 25000 read pairs\r\n",
      "[FLASH] Processed 31720 read pairs\r\n",
      "[FLASH]  \r\n",
      "[FLASH] Read combination statistics:\r\n",
      "[FLASH]     Total pairs:      31720\r\n",
      "[FLASH]     Combined pairs:   15873\r\n",
      "[FLASH]     Uncombined pairs: 15847\r\n",
      "[FLASH]     Percent combined: 50.04%\r\n",
      "[FLASH]  \r\n",
      "[FLASH] Writing histogram files.\r\n",
      "[FLASH]  \r\n",
      "[FLASH] FLASH v1.2.11 complete!\r\n",
      "[FLASH] 0.287 seconds elapsed\r\n",
      "\r\n",
      "\r\n"
     ]
    }
   ],
   "source": [
    "!head -n 100 log"
   ]
  },
  {
   "cell_type": "markdown",
   "metadata": {},
   "source": [
    "```bash\n",
    "...\n",
    "...\n",
    "...\n",
    "```"
   ]
  },
  {
   "cell_type": "markdown",
   "metadata": {},
   "source": [
    "__WELL DONE!__"
   ]
  }
 ],
 "metadata": {
  "kernelspec": {
   "display_name": "Python 2",
   "language": "python",
   "name": "python2"
  },
  "language_info": {
   "codemirror_mode": {
    "name": "ipython",
    "version": 2
   },
   "file_extension": ".py",
   "mimetype": "text/x-python",
   "name": "python",
   "nbconvert_exporter": "python",
   "pygments_lexer": "ipython2",
   "version": "2.7.6"
  }
 },
 "nbformat": 4,
 "nbformat_minor": 0
}
