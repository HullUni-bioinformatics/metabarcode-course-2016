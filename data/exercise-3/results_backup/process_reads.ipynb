{
 "cells": [
  {
   "cell_type": "markdown",
   "metadata": {},
   "source": [
    "The first step will be to __trim/clean our raw Illumina data__."
   ]
  },
  {
   "cell_type": "code",
   "execution_count": null,
   "metadata": {
    "collapsed": true
   },
   "outputs": [],
   "source": [
    "!mkdir trimming"
   ]
  },
  {
   "cell_type": "code",
   "execution_count": 19,
   "metadata": {
    "collapsed": false
   },
   "outputs": [
    {
     "name": "stdout",
     "output_type": "stream",
     "text": [
      "/home/working/CytB/trimming\n"
     ]
    }
   ],
   "source": [
    "cd trimming"
   ]
  },
  {
   "cell_type": "markdown",
   "metadata": {},
   "source": [
    "Prepare a text file specifying the samples to be processed including the format and location of the reads. \n",
    "\n",
    "The below command expects the Illumina data to be present in 2 fastq files (forward and reverse reads) per sample in a directory `./raw_reads/`. It expects the files to be named 'sampleID-marker', followed by '\\_1' or '\\_2' to identify the forward/reverse read file respectively. sampleID must corresponds to the first column in the file `Sample_accessions.tsv`, marker is either '12S' or 'CytB'. \n",
    "\n",
    "Read file names, for example:\n",
    "```\n",
    "../raw_reads/Bassenthwaite_01-CytB_1.fastq.gz\n",
    "../raw_reads/Bassenthwaite_01-CytB_2.fastq.gz\n",
    "../raw_reads/Bassenthwaite_02-CytB_1.fastq.gz\n",
    "../raw_reads/Bassenthwaite_02-CytB_2.fastq.gz\n",
    "../raw_reads/Bassenthwaite_03-CytB_1.fastq.gz\n",
    "../raw_reads/Bassenthwaite_03-CytB_2.fastq.gz\n",
    "../raw_reads/Bassenthwaite_04-CytB_1.fastq.gz\n",
    "../raw_reads/Bassenthwaite_04-CytB_2.fastq.gz\n",
    "../raw_reads/Bassenthwaite_05-CytB_1.fastq.gz\n",
    "```\n"
   ]
  },
  {
   "cell_type": "code",
   "execution_count": null,
   "metadata": {
    "collapsed": false
   },
   "outputs": [],
   "source": [
    "%%bash\n",
    "\n",
    "for a in $(cat ../../supplementary_data/Sample_accessions.tsv | grep \"CytB\" | cut -f 1 | grep \"SampleID\" -v)\n",
    "do\n",
    "    R1=$(ls -1 ../../raw_reads/$a-CytB_* | grep \"_1.fastq\")\n",
    "    R2=$(ls -1 ../../raw_reads/$a-CytB_* | grep \"_2.fastq\")\n",
    "\n",
    "    echo -e \"$a\\tfastq\\t$R1\\t$R2\"\n",
    "done > Querymap.txt"
   ]
  },
  {
   "cell_type": "markdown",
   "metadata": {},
   "source": [
    "The resulting file should look e.g. like below:"
   ]
  },
  {
   "cell_type": "code",
   "execution_count": 20,
   "metadata": {
    "collapsed": false,
    "scrolled": true
   },
   "outputs": [
    {
     "name": "stdout",
     "output_type": "stream",
     "text": [
      "Bassenthwaite_01\tfastq\t../../raw_reads/Bassenthwaite_01-CytB_1.fastq.gz\t../../raw_reads/Bassenthwaite_01-CytB_2.fastq.gz\r\n",
      "Bassenthwaite_02\tfastq\t../../raw_reads/Bassenthwaite_02-CytB_1.fastq.gz\t../../raw_reads/Bassenthwaite_02-CytB_2.fastq.gz\r\n",
      "Bassenthwaite_03\tfastq\t../../raw_reads/Bassenthwaite_03-CytB_1.fastq.gz\t../../raw_reads/Bassenthwaite_03-CytB_2.fastq.gz\r\n",
      "Bassenthwaite_04\tfastq\t../../raw_reads/Bassenthwaite_04-CytB_1.fastq.gz\t../../raw_reads/Bassenthwaite_04-CytB_2.fastq.gz\r\n",
      "Bassenthwaite_05\tfastq\t../../raw_reads/Bassenthwaite_05-CytB_1.fastq.gz\t../../raw_reads/Bassenthwaite_05-CytB_2.fastq.gz\r\n",
      "Bassenthwaite_shore-01\tfastq\t../../raw_reads/Bassenthwaite_shore-01-CytB_1.fastq.gz\t../../raw_reads/Bassenthwaite_shore-01-CytB_2.fastq.gz\r\n",
      "Derwent_01\tfastq\t../../raw_reads/Derwent_01-CytB_1.fastq.gz\t../../raw_reads/Derwent_01-CytB_2.fastq.gz\r\n",
      "Derwent_02\tfastq\t../../raw_reads/Derwent_02-CytB_1.fastq.gz\t../../raw_reads/Derwent_02-CytB_2.fastq.gz\r\n",
      "Derwent_03\tfastq\t../../raw_reads/Derwent_03-CytB_1.fastq.gz\t../../raw_reads/Derwent_03-CytB_2.fastq.gz\r\n",
      "Derwent_04\tfastq\t../../raw_reads/Derwent_04-CytB_1.fastq.gz\t../../raw_reads/Derwent_04-CytB_2.fastq.gz\r\n"
     ]
    }
   ],
   "source": [
    "!head Querymap.txt"
   ]
  },
  {
   "cell_type": "markdown",
   "metadata": {},
   "source": [
    "The amplicon is expected to be > 400 bp long. With a readlength of 300 bp we don't expect to see any primer sequences, so it's not necessary to provide the Primer sequence for the trimming algorithm."
   ]
  },
  {
   "cell_type": "markdown",
   "metadata": {},
   "source": [
    "__Raw data trimming, removal of adapter sequences and merging of reads__ using the `metaBEAT` pipeline."
   ]
  },
  {
   "cell_type": "code",
   "execution_count": null,
   "metadata": {
    "collapsed": false
   },
   "outputs": [],
   "source": [
    "%%bash\n",
    "\n",
    "metaBEAT.py \\\n",
    "-Q Querymap.txt \\\n",
    "--trim_qual 30 \\\n",
    "--trim_minlength 100 \\\n",
    "--merge \\\n",
    "--product_length 400 \\\n",
    "-n 5 -v &> log\n"
   ]
  },
  {
   "cell_type": "code",
   "execution_count": 21,
   "metadata": {
    "collapsed": false
   },
   "outputs": [
    {
     "name": "stdout",
     "output_type": "stream",
     "text": [
      "/home/working/CytB\n"
     ]
    }
   ],
   "source": [
    "cd ../"
   ]
  },
  {
   "cell_type": "markdown",
   "metadata": {},
   "source": [
    "Some stats on the read counts before/after trimming, merging etc. are summarized for you in `read_stats.csv`."
   ]
  },
  {
   "cell_type": "markdown",
   "metadata": {},
   "source": [
    "Next stage of the processing is __chimera detection__ and removal of putative chimeric sequences. We'll do that using `uchime` as implemented in `vsearch`."
   ]
  },
  {
   "cell_type": "code",
   "execution_count": null,
   "metadata": {
    "collapsed": true
   },
   "outputs": [],
   "source": [
    "!mkdir chimera_detection"
   ]
  },
  {
   "cell_type": "code",
   "execution_count": 22,
   "metadata": {
    "collapsed": false
   },
   "outputs": [
    {
     "name": "stdout",
     "output_type": "stream",
     "text": [
      "/home/working/CytB/chimera_detection\n"
     ]
    }
   ],
   "source": [
    "cd chimera_detection"
   ]
  },
  {
   "cell_type": "markdown",
   "metadata": {},
   "source": [
    "Convert reference database from Genbank to fasta format to be used in chimera detection.\n",
    "\n",
    "Prepare Refmap file, i.e. text file that specifies the location and the format of the reference to be used.\n",
    "\n",
    "The reference sequences in Genbank format should already be present in the `CytB` directory: `CytB_cleaned_02_2016.gb`."
   ]
  },
  {
   "cell_type": "code",
   "execution_count": null,
   "metadata": {
    "collapsed": false
   },
   "outputs": [],
   "source": [
    "%%bash\n",
    "\n",
    "#Write REFmap\n",
    "for file in $(ls -1 ../* | grep \"gb$\")\n",
    "do\n",
    "    echo -e \"$file\\tgb\"\n",
    "done > REFmap.txt"
   ]
  },
  {
   "cell_type": "code",
   "execution_count": 23,
   "metadata": {
    "collapsed": false
   },
   "outputs": [
    {
     "name": "stdout",
     "output_type": "stream",
     "text": [
      "../CytB_cleaned_02_2016.gb\tgb\r\n"
     ]
    }
   ],
   "source": [
    "!cat REFmap.txt"
   ]
  },
  {
   "cell_type": "code",
   "execution_count": null,
   "metadata": {
    "collapsed": false
   },
   "outputs": [],
   "source": [
    "%%bash\n",
    "\n",
    "metaBEAT.py \\\n",
    "-R REFmap.txt \\\n",
    "-f"
   ]
  },
  {
   "cell_type": "markdown",
   "metadata": {},
   "source": [
    "This will produce `refs.fasta`.\n",
    "\n",
    "Now run chimera detection."
   ]
  },
  {
   "cell_type": "code",
   "execution_count": null,
   "metadata": {
    "collapsed": false
   },
   "outputs": [],
   "source": [
    "%%bash\n",
    "\n",
    "\n",
    "for a in $(cut -f 1 ../trimming/Querymap.txt)\n",
    "do\n",
    "    if [ -s ../trimming/$a/$a\\_trimmed.fasta ]\n",
    "    then\n",
    "        echo -e \"\\n### Detecting chimeras in $a ###\\n\"\n",
    "        mkdir $a\n",
    "        cd $a\n",
    "        vsearch --uchime_ref ../../trimming/$a/$a\\_trimmed.fasta --db ../refs.fasta \\\n",
    "        --nonchimeras $a-nonchimeras.fasta --chimeras $a-chimeras.fasta &> log\n",
    "        cd ..\n",
    "\n",
    "    else\n",
    "        echo -e \"$a is empty\"\n",
    "    fi\n",
    "done\n",
    "\n",
    "\n"
   ]
  },
  {
   "cell_type": "code",
   "execution_count": null,
   "metadata": {
    "collapsed": false
   },
   "outputs": [],
   "source": [
    "cd .."
   ]
  },
  {
   "cell_type": "markdown",
   "metadata": {},
   "source": [
    "Last step is __taxonomic assignment of reads based on a BLAST - LCA approach__ using the metaBEAT pipeline."
   ]
  },
  {
   "cell_type": "code",
   "execution_count": null,
   "metadata": {
    "collapsed": false
   },
   "outputs": [],
   "source": [
    "!mkdir non-chimeras"
   ]
  },
  {
   "cell_type": "code",
   "execution_count": null,
   "metadata": {
    "collapsed": false
   },
   "outputs": [],
   "source": [
    "cd non-chimeras/"
   ]
  },
  {
   "cell_type": "markdown",
   "metadata": {},
   "source": [
    "Prepare Querymap and Refmap txt files."
   ]
  },
  {
   "cell_type": "code",
   "execution_count": null,
   "metadata": {
    "collapsed": true
   },
   "outputs": [],
   "source": [
    "%%bash\n",
    "\n",
    "#Querymap\n",
    "for a in $(ls -l ../chimera_detection/ | grep \"^d\" | perl -ne 'chomp; @a=split(\" \"); print \"$a[-1]\\n\"')\n",
    "do\n",
    "    echo -e \"$a-nc\\tfasta\\t../chimera_detection/$a/$a-nonchimeras.fasta\"\n",
    "done > Querymap.txt\n",
    "\n",
    "#REFmap\n",
    "#Write REFmap\n",
    "for file in $(ls -1 ../* | grep \"gb$\")\n",
    "do\n",
    "    echo -e \"$file\\tgb\"\n",
    "done > REFmap.txt"
   ]
  },
  {
   "cell_type": "markdown",
   "metadata": {},
   "source": [
    "Sequence clustering and taxonomic assignment via metaBEAT."
   ]
  },
  {
   "cell_type": "code",
   "execution_count": null,
   "metadata": {
    "collapsed": false
   },
   "outputs": [],
   "source": [
    "%%bash\n",
    "\n",
    "metaBEAT.py \\\n",
    "-Q Querymap.txt \\\n",
    "-R REFmap.txt \\\n",
    "--cluster --clust_match 1 --clust_cov 3 \\\n",
    "--blast --min_ident 0.95 \\\n",
    "-m CytB -n 5 \\\n",
    "-E -v -\\\n",
    "o CytB-trim_30-merge-nonchimeras-cluster_1c3-blast-min_ident_0.95 &> log\n"
   ]
  },
  {
   "cell_type": "markdown",
   "metadata": {},
   "source": [
    "Final result of taxonomic assignment can be found in the table `CytB-trim_30-merge-nonchimeras-cluster_1c3-blast-min_ident_0.95.tsv` (see also [here](https://github.com/HullUni-bioinformatics/Haenfling_et_al_2016/blob/master/supplementary_data/assignment_results/CytB-trim_30-merge-nonchimeras-cluster_1c3-blast-min_ident_0.95.tsv)). \n",
    "\n",
    "metaBEAT also produced the final result in [BIOM](http://biom-format.org/) format (`CytB-trim_30-merge-nonchimeras-cluster_1c3-blast-min_ident_0.95.biom`), which can be analyzed with a number of tools and visually explored e.g. using [Phinch](http://phinch.org/)."
   ]
  }
 ],
 "metadata": {
  "kernelspec": {
   "display_name": "Python 2",
   "language": "python",
   "name": "python2"
  },
  "language_info": {
   "codemirror_mode": {
    "name": "ipython",
    "version": 2
   },
   "file_extension": ".py",
   "mimetype": "text/x-python",
   "name": "python",
   "nbconvert_exporter": "python",
   "pygments_lexer": "ipython2",
   "version": "2.7.6"
  }
 },
 "nbformat": 4,
 "nbformat_minor": 0
}
