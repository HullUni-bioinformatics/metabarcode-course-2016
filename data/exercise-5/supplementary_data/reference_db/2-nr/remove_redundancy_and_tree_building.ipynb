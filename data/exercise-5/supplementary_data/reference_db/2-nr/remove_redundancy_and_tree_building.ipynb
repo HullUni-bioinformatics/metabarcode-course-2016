{
 "cells": [
  {
   "cell_type": "markdown",
   "metadata": {},
   "source": [
    "Remove redundancy by clustering the CytB sequences with `vsearch`."
   ]
  },
  {
   "cell_type": "code",
   "execution_count": 4,
   "metadata": {
    "collapsed": false
   },
   "outputs": [
    {
     "name": "stdout",
     "output_type": "stream",
     "text": [
      "vsearch v1.1.0_linux_x86_64, 31.4GB RAM, 12 cores\n",
      "https://github.com/torognes/vsearch\n",
      "\n",
      "Reading file ../1-initial/CytB_cropped.fa 100%\n",
      "3436585 nt in 3745 seqs, min 501, max 1224, avg 918\n",
      "Indexing sequences 100%\n",
      "Masking 100%\n",
      "Sorting by length 100%\n",
      "Counting unique k-mers 100%\n",
      "Clustering 100%\n",
      "Writing clusters 100%\n",
      "Clusters: 1762 Size min 1, max 197, avg 2.1\n",
      "Singletons: 1344, 35.9% of seqs, 76.3% of clusters\n"
     ]
    }
   ],
   "source": [
    "!vsearch -threads 5 --cluster_fast ../1-initial/CytB_cropped.fa --strand both --uc CytB_id-1.uc --id 1 --query_cov 1"
   ]
  },
  {
   "cell_type": "code",
   "execution_count": 5,
   "metadata": {
    "collapsed": false
   },
   "outputs": [
    {
     "name": "stderr",
     "output_type": "stream",
     "text": [
      "DEBUG:Cloud:Log file (/root/.picloud/cloud.log) opened\n"
     ]
    }
   ],
   "source": [
    "pj = Project('../1-initial/target_locus.csv', pickle='nr.pkl', git=False)"
   ]
  },
  {
   "cell_type": "code",
   "execution_count": 6,
   "metadata": {
    "collapsed": false
   },
   "outputs": [],
   "source": [
    "#pj = unpickle_pj('nr.pkl', git=False)"
   ]
  },
  {
   "cell_type": "code",
   "execution_count": 7,
   "metadata": {
    "collapsed": false
   },
   "outputs": [
    {
     "name": "stderr",
     "output_type": "stream",
     "text": [
      "/home/reprophylo/reprophylo.py:1015: UserWarning: Version control off\n",
      "  warnings.warn('Version control off')\n"
     ]
    }
   ],
   "source": [
    "pj.read_embl_genbank(['../1-initial/CytB_cropped.gb'])"
   ]
  },
  {
   "cell_type": "code",
   "execution_count": 8,
   "metadata": {
    "collapsed": true
   },
   "outputs": [],
   "source": [
    "pj.extract_by_locus()"
   ]
  },
  {
   "cell_type": "code",
   "execution_count": 9,
   "metadata": {
    "collapsed": false,
    "scrolled": true
   },
   "outputs": [
    {
     "name": "stdout",
     "output_type": "stream",
     "text": [
      "Distribution Of Sequence Lengths\n",
      "Distribution Of Sequence Statistic \"Gc_Content\"\n"
     ]
    },
    {
     "name": "stderr",
     "output_type": "stream",
     "text": [
      "/usr/lib/pymodules/python2.7/matplotlib/figure.py:371: UserWarning: matplotlib is currently using a non-GUI backend, so cannot show the figure\n",
      "  \"matplotlib is currently using a non-GUI backend, \"\n"
     ]
    },
    {
     "data": {
      "image/png": "[encoded data removed]",
      "text/plain": [
       "<matplotlib.figure.Figure at 0x7f0cf2f46e50>"
      ]
     },
     "metadata": {},
     "output_type": "display_data"
    },
    {
     "data": {
      "image/png": "[encoded data removed]",
      "text/plain": [
       "<matplotlib.figure.Figure at 0x7f0cf2e55dd0>"
      ]
     },
     "metadata": {},
     "output_type": "display_data"
    }
   ],
   "source": [
    "%matplotlib inline\n",
    "pj.report_seq_stats()\n"
   ]
  },
  {
   "cell_type": "code",
   "execution_count": 10,
   "metadata": {
    "collapsed": false
   },
   "outputs": [
    {
     "name": "stdout",
     "output_type": "stream",
     "text": [
      "Total number of records: 3745\n",
      "Number of species (see below for full list): 67\n",
      "['Rutilus rutilus', 'Proterorhinus semilunaris', 'Salmo salar', 'Gymnocephalus cernua', 'Leuciscus leuciscus', 'Lota lota', 'Phoxinus phoxinus', 'Thymallus thymallus', 'Lampetra fluviatilis', 'Barbus barbus', 'Hypophthalmichthys nobilis', 'Esox lucius', 'Alosa alosa', 'Oncorhynchus gorbuscha', 'Barbatula barbatula', 'Oncorhynchus mykiss', 'Sander lucioperca', 'Coregonus autumnalis', 'Petromyzon marinus', 'Squalius cephalus', 'Ponticola kessleri', 'Leuciscus idus', 'Leucaspius delineatus', 'Coregonus lavaretus', 'Misgurnus fossilis', 'Ctenopharyngodon idella', 'Lepomis gibbosus', 'Cyprinus carpio', 'Salvelinus fontinalis', 'Tinca tinca', 'Chondrostoma nasus', 'Perca fluviatilis', 'Coregonus oxyrinchus', 'Gasterosteus aculeatus', 'Vimba vimba', 'Alburnus alburnus', 'Cottus gobio', 'Platichthys flesus', 'Micropterus salmoides', 'Ameiurus melas', 'Carassius auratus', 'Acipenser sturio', 'Alburnoides bipunctatus', 'Pseudorasbora parva', 'Hypophthalmichthys molitrix', 'Blicca bjoerkna', 'Pimephales promelas', 'Umbra pygmaea', 'Silurus glanis', 'Cobitis taenia', 'Anguilla anguilla', 'Coregonus albula', 'Rhodeus sericeus', 'Carassius carassius', 'Ambloplites rupestris', 'Scardinius erythrophthalmus', 'Alosa fallax', 'Gobio gobio', 'Abramis brama', 'Ameiurus nebulosus', 'Neogobius melanostomus', 'Pungitius pungitius', 'Osmerus eperlanus', 'Aspius aspius', 'Salvelinus alpinus', 'Lampetra planeri', 'Salmo trutta']\n"
     ]
    }
   ],
   "source": [
    "species=[]\n",
    "for r in pj.records:\n",
    "    source = [f for f in r.features if f.type == 'source'][0]\n",
    "    species.append(\" \".join(source.qualifiers['organism'][0].split()[0:2]))\n",
    "    \n",
    "#print set(species)\n",
    "total=len(species)\n",
    "species=list(set(species))\n",
    "\n",
    "print \"Total number of records: %i\" %total\n",
    "print \"Number of species (see below for full list): %i\" %len(species)\n",
    "print species"
   ]
  },
  {
   "cell_type": "markdown",
   "metadata": {},
   "source": [
    "Extract ids of representative sequences identified by vsearch -> remove all others from the object."
   ]
  },
  {
   "cell_type": "code",
   "execution_count": 11,
   "metadata": {
    "collapsed": false
   },
   "outputs": [
    {
     "name": "stdout",
     "output_type": "stream",
     "text": [
      "to drop: 1983\n",
      "to keep: 1762\n",
      "TOTAL: 3745\n"
     ]
    }
   ],
   "source": [
    "ids = []\n",
    "\n",
    "uc=open('CytB_id-1.uc', 'r')\n",
    "\n",
    "for line in uc:\n",
    "    if line.startswith('C'):\n",
    "        ids.append(line.split(\"\\t\")[8])\n",
    "        \n",
    "recs_to_keep = {'CytB': ids}\n",
    "recs_to_drop = {'CytB': []}\n",
    "\n",
    "for r in pj.records:\n",
    "    if not r.id in recs_to_keep['CytB']:\n",
    "        recs_to_drop['CytB'].append(r.id)\n",
    "        \n",
    "print \"to drop: %s\" %len(recs_to_drop['CytB'])\n",
    "print \"to keep: %s\" %len(recs_to_keep['CytB'])\n",
    "\n",
    "print \"TOTAL: %s\" %(len(recs_to_drop['CytB']) + len(recs_to_keep['CytB']))\n"
   ]
  },
  {
   "cell_type": "markdown",
   "metadata": {},
   "source": [
    "Adjust lists -> add record to exlusion list and remove record from inclusion list.\n",
    "\n",
    " - `JN995186` is a pseudogene and can not be translated.\n",
    " - `KP794942` is actually COI. misslabelled."
   ]
  },
  {
   "cell_type": "code",
   "execution_count": 12,
   "metadata": {
    "collapsed": false
   },
   "outputs": [
    {
     "name": "stdout",
     "output_type": "stream",
     "text": [
      "1985\n"
     ]
    }
   ],
   "source": [
    "recs_to_drop['CytB'].append('JN995186.1')\n",
    "recs_to_drop['CytB'].append('KP794942.1')\n",
    "print len(recs_to_drop['CytB'])"
   ]
  },
  {
   "cell_type": "code",
   "execution_count": 13,
   "metadata": {
    "collapsed": false
   },
   "outputs": [
    {
     "name": "stdout",
     "output_type": "stream",
     "text": [
      "1760\n"
     ]
    }
   ],
   "source": [
    "for r in range(len(recs_to_keep['CytB'])):\n",
    "    if 'JN995186' in recs_to_keep['CytB'][r]:\n",
    "        del(recs_to_keep['CytB'][r])\n",
    "        break\n",
    "        \n",
    "for r in range(len(recs_to_keep['CytB'])):\n",
    "    if 'KP794942' in recs_to_keep['CytB'][r]:\n",
    "        del(recs_to_keep['CytB'][r])\n",
    "        break\n",
    "        \n",
    "print len(recs_to_keep['CytB'])"
   ]
  },
  {
   "cell_type": "markdown",
   "metadata": {},
   "source": [
    "Exclude redundant records from object."
   ]
  },
  {
   "cell_type": "code",
   "execution_count": 14,
   "metadata": {
    "collapsed": true
   },
   "outputs": [],
   "source": [
    "pj.exclude(start_from_max=False, **recs_to_drop)"
   ]
  },
  {
   "cell_type": "code",
   "execution_count": 15,
   "metadata": {
    "collapsed": false
   },
   "outputs": [
    {
     "name": "stdout",
     "output_type": "stream",
     "text": [
      "Total number of records: 1760\n",
      "Number of species (see below for full list): 67\n",
      "['Rutilus rutilus', 'Proterorhinus semilunaris', 'Salmo salar', 'Gymnocephalus cernua', 'Leuciscus leuciscus', 'Lota lota', 'Phoxinus phoxinus', 'Thymallus thymallus', 'Lampetra fluviatilis', 'Barbus barbus', 'Hypophthalmichthys nobilis', 'Esox lucius', 'Alosa alosa', 'Oncorhynchus gorbuscha', 'Barbatula barbatula', 'Oncorhynchus mykiss', 'Sander lucioperca', 'Coregonus autumnalis', 'Petromyzon marinus', 'Squalius cephalus', 'Ponticola kessleri', 'Leuciscus idus', 'Leucaspius delineatus', 'Coregonus lavaretus', 'Misgurnus fossilis', 'Ctenopharyngodon idella', 'Lepomis gibbosus', 'Cyprinus carpio', 'Salvelinus fontinalis', 'Tinca tinca', 'Chondrostoma nasus', 'Perca fluviatilis', 'Coregonus oxyrinchus', 'Gasterosteus aculeatus', 'Vimba vimba', 'Alburnus alburnus', 'Cottus gobio', 'Platichthys flesus', 'Micropterus salmoides', 'Ameiurus melas', 'Carassius auratus', 'Acipenser sturio', 'Alburnoides bipunctatus', 'Pseudorasbora parva', 'Hypophthalmichthys molitrix', 'Blicca bjoerkna', 'Pimephales promelas', 'Umbra pygmaea', 'Silurus glanis', 'Cobitis taenia', 'Anguilla anguilla', 'Coregonus albula', 'Rhodeus sericeus', 'Carassius carassius', 'Ambloplites rupestris', 'Scardinius erythrophthalmus', 'Alosa fallax', 'Gobio gobio', 'Abramis brama', 'Ameiurus nebulosus', 'Neogobius melanostomus', 'Pungitius pungitius', 'Osmerus eperlanus', 'Aspius aspius', 'Salvelinus alpinus', 'Lampetra planeri', 'Salmo trutta']\n"
     ]
    }
   ],
   "source": [
    "species=[]\n",
    "for r in pj.records:\n",
    "    if r.id in recs_to_keep['CytB']:\n",
    "        source = [f for f in r.features if f.type == 'source'][0]\n",
    "        species.append(\" \".join(source.qualifiers['organism'][0].split()[0:2]))\n",
    "    \n",
    "#print set(species)\n",
    "total=len(species)\n",
    "species=list(set(species))\n",
    "\n",
    "print \"Total number of records: %i\" %total\n",
    "print \"Number of species (see below for full list): %i\" %len(species)\n",
    "print species"
   ]
  },
  {
   "cell_type": "markdown",
   "metadata": {},
   "source": [
    "Write full Genbank records to file for later processing with `SATIVA`."
   ]
  },
  {
   "cell_type": "code",
   "execution_count": 16,
   "metadata": {
    "collapsed": true
   },
   "outputs": [],
   "source": [
    "seqs = []\n",
    "from Bio import SeqIO\n",
    "for r in pj.records:\n",
    "    if r.id in recs_to_keep['CytB']:\n",
    "        seqs.append(r)\n",
    "\n",
    "out = open('CytB_nr_pre_Sativa.gb','w')\n",
    "SeqIO.write(seqs, out, 'genbank')\n",
    "out.close()"
   ]
  },
  {
   "cell_type": "markdown",
   "metadata": {},
   "source": [
    "Configure Alignment."
   ]
  },
  {
   "cell_type": "code",
   "execution_count": 17,
   "metadata": {
    "collapsed": false
   },
   "outputs": [
    {
     "name": "stdout",
     "output_type": "stream",
     "text": [
      "mafft --localpair --maxiterate 1000 921091473202105.88_CDS_proteins_CytB.fasta\n"
     ]
    }
   ],
   "source": [
    "mafft_linsi = AlnConf(pj,                              # The Project\n",
    "                    method_name='mafftLinsi',        # Any unique method name,\n",
    "                    CDSAlign=True,                   # Use this method to align\n",
    "                    codontable=2,                    # The genetic code that\n",
    "                    program_name='mafft',            # mafft or muscle.\n",
    "                    cmd='mafft',                     # The command on your machine\n",
    "                    loci=['CytB'],                 # A list of loci names to align.vel.\n",
    "                    cline_args={'localpair': True,# Program specific keywords and arguments.\n",
    "                                'maxiterate': 1000}# cine_args=={} by default, which will\n",
    "                    )"
   ]
  },
  {
   "cell_type": "markdown",
   "metadata": {},
   "source": [
    "Perform alignment."
   ]
  },
  {
   "cell_type": "code",
   "execution_count": 18,
   "metadata": {
    "collapsed": false
   },
   "outputs": [],
   "source": [
    "pj.align([mafft_linsi])"
   ]
  },
  {
   "cell_type": "code",
   "execution_count": 19,
   "metadata": {
    "collapsed": false
   },
   "outputs": [
    {
     "name": "stdout",
     "output_type": "stream",
     "text": [
      "AlnConf named mafftLinsi with ID 921091473202105.88\n",
      "Loci: CytB \n",
      "Created on: Tue Sep  6 22:48:25 2016\n",
      "Commands:\n",
      "CytB: mafft --localpair --maxiterate 1000 921091473202105.88_CDS_proteins_CytB.fasta\n",
      "\n",
      "Environment:\n",
      "Platform: Linux-3.13.0-54-generic-x86_64-with-Ubuntu-14.04-trusty\n",
      " Processor: x86_64\n",
      " Python build: defaultMar 22 2014 22:59:56\n",
      " Python compiler: GCC 4.8.2\n",
      " Python implementation: CPython\n",
      " Python version: 2.7.6\n",
      " ete2 version: 2.2.1072\n",
      " biopython version: 1.66\n",
      " dendropy version: 3.12.2\n",
      " cloud version: 2.8.5\n",
      " reprophylo version 1.0\n",
      " User: chrishah-office\n",
      " Program and version: MAFFT v7.123b\\nPal2Nal v14\n",
      " Program reference:Katoh\n",
      " Standley 2013 (Molecular Biology and Evolution 30:772-780) MAFFT multiple sequence alignment software version 7: improvements in performance and usability.\\nMikita Suyama\n",
      " David Torrents\n",
      " and Peer Bork (2006) PAL2NAL: robust conversion of protein sequence alignments into the corresponding codon alignments.Nucleic Acids Res. 34\n",
      " W609-W612.\n",
      "execution time:\n",
      "1975.26133895\n",
      "\n",
      "\n",
      "==============================\n",
      "Core Methods section sentence:\n",
      "==============================\n",
      "The dataset(s) CytB were first aligned at the protein level using the program MAFFT v7.123b [1].\n",
      "The resulting alignments served as guides to codon-align the DNA sequences using Pal2Nal v14 [2].\n",
      "\n",
      "Reference:\n",
      "[1]Katoh, Standley 2013 (Molecular Biology and Evolution 30:772-780) MAFFT multiple sequence alignment software version 7: improvements in performance and usability.\n",
      "[2]Mikita Suyama, David Torrents, and Peer Bork (2006) PAL2NAL: robust conversion of protein sequence alignments into the corresponding codon alignments.Nucleic Acids Res. 34, W609-W612.\n",
      "\n"
     ]
    }
   ],
   "source": [
    "print pj.used_methods['mafftLinsi']\n"
   ]
  },
  {
   "cell_type": "code",
   "execution_count": 20,
   "metadata": {
    "collapsed": false
   },
   "outputs": [
    {
     "data": {
      "text/plain": [
       "'nr.pkl'"
      ]
     },
     "execution_count": 20,
     "metadata": {},
     "output_type": "execute_result"
    }
   ],
   "source": [
    "pickle_pj(pj, 'nr.pkl')"
   ]
  },
  {
   "cell_type": "code",
   "execution_count": 21,
   "metadata": {
    "collapsed": false
   },
   "outputs": [
    {
     "data": {
      "text/plain": [
       "['CytB@mafftLinsi_aln.fasta']"
      ]
     },
     "execution_count": 21,
     "metadata": {},
     "output_type": "execute_result"
    }
   ],
   "source": [
    "pj.write_alns(id=['record_id','source_organism'], format='fasta')"
   ]
  },
  {
   "cell_type": "markdown",
   "metadata": {},
   "source": [
    "Alignemnt looks ok. Needs a bit of end clipping. TrimAL, the trimming method implemented in ReproPhylo doesn't seem to allow for end clipping only, so the below cell contains a custom solution for start/end-clipping the alignemnt. \n",
    "\n",
    "We only want to trim the alignment from the end because this is the alignment that should be used for phylogenetic placement and it needs to be possible to align reads to the alignment.\n",
    "\n",
    "\n"
   ]
  },
  {
   "cell_type": "markdown",
   "metadata": {},
   "source": [
    "Clipping positions are determined from start/end of the alignment by assessing the average per column completeness across 10 bp sliding windows. per column completeness is the proportion of sequences represented by `ACGT` in a given column. Average completeness is assessed across 10bp sliding windows. \n",
    "\n",
    "The clipping point is defined as the position at which the alignment, starting from the 5'/3'-ends, respectively, retained an average completeness > 0.7 (i.e. 70% of the sequences are informative) for 10 consecutive sliding windows."
   ]
  },
  {
   "cell_type": "code",
   "execution_count": 22,
   "metadata": {
    "collapsed": false
   },
   "outputs": [
    {
     "name": "stdout",
     "output_type": "stream",
     "text": [
      "returning alignment object CytB@mafftLinsi\n",
      "\n",
      "Finding forward clip position:\n",
      "\n",
      "1 29 0.7025\n",
      "2 30 0.70875\n",
      "3 31 0.714204545455\n",
      "4 32 0.719659090909\n",
      "5 33 0.725852272727\n",
      "6 34 0.729943181818\n",
      "7 35 0.734034090909\n",
      "8 36 0.738125\n",
      "9 37 0.740397727273\n",
      "10 38 0.742670454545\n",
      "Suggested forward clip at: 28 (10,38)\n",
      "\n",
      "Finding reverse clip position:\n",
      "\n",
      "1 1037 0.701477272727\n",
      "2 1036 0.704772727273\n",
      "3 1035 0.708011363636\n",
      "4 1034 0.711306818182\n",
      "5 1033 0.714602272727\n",
      "6 1032 0.717897727273\n",
      "7 1031 0.721136363636\n",
      "8 1030 0.721193181818\n",
      "9 1029 0.72125\n",
      "10 1028 0.722443181818\n",
      "Suggested reverse clip at: 1038 (10,1028)\n"
     ]
    }
   ],
   "source": [
    "import numpy as np\n",
    "\n",
    "per_col=[]\n",
    "\n",
    "aln = pj.fa('CytB@mafftLinsi')\n",
    "\n",
    "\n",
    "icol=0\n",
    "for a in aln[1,:]:\n",
    "    ACGT_count=0\n",
    "    col=aln[:,icol]\n",
    "    for i in range(len(col)):\n",
    "        if col[i] in ['A','G','C','T']:\n",
    "            ACGT_count+=1\n",
    "#    print pj.fa('CytB@mafftLinsi')[:,a]\n",
    "    per_col.append(float(ACGT_count)/len(col))\n",
    "    icol+=1\n",
    "\n",
    "wsize=10\n",
    "min_prop=0.7\n",
    "    \n",
    "print \"\\nFinding forward clip position:\\n\"\n",
    "forw_count=0\n",
    "forw_clip=0\n",
    "for i in range(len(per_col)-wsize):\n",
    "        \n",
    "    if np.mean(per_col[i:i+10]) > min_prop:\n",
    "        forw_count+=1\n",
    "        forw_clip=i\n",
    "        print forw_count,i,np.mean(per_col[i:i+wsize])\n",
    "    else:\n",
    "        forw_count=0\n",
    "        \n",
    "    if forw_count >= wsize:\n",
    "        break\n",
    "        \n",
    "print \"Suggested forward clip at: %s (%s,%s)\" %(forw_clip-wsize,forw_count,forw_clip)\n",
    "\n",
    "print \"\\nFinding reverse clip position:\\n\"\n",
    "reve_count=0\n",
    "reve_clip=0\n",
    "for i in reversed(range(len(per_col)-wsize)):\n",
    "        \n",
    "    if np.mean(per_col[i:i+10]) > min_prop:\n",
    "        reve_count+=1\n",
    "        reve_clip=i\n",
    "        print reve_count,i,np.mean(per_col[i:i+wsize])\n",
    "    else:\n",
    "        reve_count=0\n",
    "        \n",
    "    if reve_count >= wsize:\n",
    "        break\n",
    "    \n",
    "print \"Suggested reverse clip at: %s (%s,%s)\" %(reve_clip+wsize,reve_count,reve_clip)\n"
   ]
  },
  {
   "cell_type": "markdown",
   "metadata": {},
   "source": [
    "Clip the alignemnt at the positions determined above and write to file. We'll use Biopython functions to do this."
   ]
  },
  {
   "cell_type": "markdown",
   "metadata": {},
   "source": [
    "Clip alignment - the new Biopython alignemnt object is called `clipped_aln`."
   ]
  },
  {
   "cell_type": "code",
   "execution_count": 23,
   "metadata": {
    "collapsed": false
   },
   "outputs": [
    {
     "name": "stdout",
     "output_type": "stream",
     "text": [
      "returning alignment object CytB@mafftLinsi\n"
     ]
    }
   ],
   "source": [
    "from Bio import AlignIO\n",
    "\n",
    "aln = pj.fa('CytB@mafftLinsi')\n",
    "\n",
    "clipped_aln = aln[:,forw_clip-wsize:reve_clip+wsize]"
   ]
  },
  {
   "cell_type": "markdown",
   "metadata": {},
   "source": [
    "Convert the clipped alignemnt (which is a Biopython alignment object) to a ReproPhylo trimmed alignment object, so that we can resume working with it in ReproPhylo."
   ]
  },
  {
   "cell_type": "code",
   "execution_count": 24,
   "metadata": {
    "collapsed": false
   },
   "outputs": [],
   "source": [
    "pj.trimmed_alignments[\"CytB@mafftLinsi_aln_clipped\"] = clipped_aln"
   ]
  },
  {
   "cell_type": "code",
   "execution_count": 25,
   "metadata": {
    "collapsed": false
   },
   "outputs": [
    {
     "data": {
      "text/plain": [
       "{'CytB@mafftLinsi_aln_clipped': <<class 'Bio.Align.MultipleSeqAlignment'> instance (1760 records of length 1010, SingleLetterAlphabet()) at 7f0cf2c939d0>}"
      ]
     },
     "execution_count": 25,
     "metadata": {},
     "output_type": "execute_result"
    }
   ],
   "source": [
    "pj.trimmed_alignments"
   ]
  },
  {
   "cell_type": "markdown",
   "metadata": {},
   "source": [
    "Write clipped alignment to file for downstream taxonomic curation using `SATIVA`."
   ]
  },
  {
   "cell_type": "code",
   "execution_count": 26,
   "metadata": {
    "collapsed": false
   },
   "outputs": [],
   "source": [
    "from Bio import AlignIO\n",
    "\n",
    "out=open('CytB@mafftLinsi_aln_clipped.phy', 'w')\n",
    "AlignIO.write(clipped_aln, out, 'phylip-relaxed')\n",
    "out.close()"
   ]
  },
  {
   "cell_type": "markdown",
   "metadata": {},
   "source": [
    "How to run `SATIVA` is described in [this]() notebook. It may be a good strategy to set this going now in a separate notbook. Then contnue onwards in this notebook."
   ]
  },
  {
   "cell_type": "markdown",
   "metadata": {},
   "source": [
    "Infer Maximum Likelihood tree based on the clipped alignment. We are going to use [RAxML](http://sco.h-its.org/exelixis/web/software/raxml/index.html)."
   ]
  },
  {
   "cell_type": "markdown",
   "metadata": {},
   "source": [
    "Configure RAxML."
   ]
  },
  {
   "cell_type": "code",
   "execution_count": 27,
   "metadata": {
    "collapsed": false
   },
   "outputs": [
    {
     "name": "stdout",
     "output_type": "stream",
     "text": [
      "raxmlHPC-PTHREADS-SSE3 -f a -m GTRGAMMA -n 553111473204098.13_CytB@mafftLinsi_aln_clipped0 -p 564 -s 553111473204098.13_CytB@mafftLinsi_aln_clipped.fasta -T 5 -x 809 -N 100\n"
     ]
    }
   ],
   "source": [
    "raxml = RaxmlConf(pj, method_name='raxml-mafftLinsi-clipped', \n",
    "                 program_name='raxmlHPC-PTHREADS-SSE3',\n",
    "                 keepfiles=True,\n",
    "                 cmd='raxmlHPC-PTHREADS-SSE3',\n",
    "                 preset='fa',\n",
    "                 alns=['CytB@mafftLinsi_aln_clipped'],\n",
    "                 model='GAMMA',\n",
    "                 threads=5,\n",
    "                 cline_args={'-#': 100})"
   ]
  },
  {
   "cell_type": "markdown",
   "metadata": {},
   "source": [
    "Run RAxML."
   ]
  },
  {
   "cell_type": "code",
   "execution_count": 28,
   "metadata": {
    "collapsed": true
   },
   "outputs": [],
   "source": [
    "pj.tree([raxml])"
   ]
  },
  {
   "cell_type": "code",
   "execution_count": 29,
   "metadata": {
    "collapsed": false,
    "scrolled": true
   },
   "outputs": [
    {
     "name": "stdout",
     "output_type": "stream",
     "text": [
      "RaxmlConf named raxml-mafftLinsi-clipped with ID 553111473204098.13\n",
      "Alignments: CytB@mafftLinsi_aln_clipped \n",
      "Created on: Tue Sep  6 23:21:38 2016\n",
      "Commands:\n",
      "CytB@mafftLinsi_aln_clipped:\n",
      "raxmlHPC-PTHREADS-SSE3 -f a -m GTRGAMMA -n 553111473204098.13_CytB@mafftLinsi_aln_clipped0 -p 564 -s 553111473204098.13_CytB@mafftLinsi_aln_clipped.fasta -T 5 -x 809 -N 100\n",
      "\n",
      "Environment:\n",
      "Platform: Linux-3.13.0-54-generic-x86_64-with-Ubuntu-14.04-trusty\n",
      " Processor: x86_64\n",
      " Python build: defaultMar 22 2014 22:59:56\n",
      " Python compiler: GCC 4.8.2\n",
      " Python implementation: CPython\n",
      " Python version: 2.7.6\n",
      " ete2 version: 2.2.1072\n",
      " biopython version: 1.66\n",
      " dendropy version: 3.12.2\n",
      " cloud version: 2.8.5\n",
      " reprophylo version 1.0\n",
      " User: chrishah-office\n",
      " Program and version: raxmlHPC-PTHREADS-SSE3RAxML version 8.0.12\n",
      " Program reference: A. Stamatakis: RAxML Version 8: A tool for Phylogenetic Analysis and Post-Analysis of Large Phylogenies. In Bioinformatics\n",
      " 2014.\n",
      "execution time:\n",
      "28669.8644731\n",
      "\n",
      "==============================\n",
      "Core Methods section sentence:\n",
      "==============================\n",
      "Phylogenetic trees were reconstructed from the dataset(s) CytB@mafftLinsi_aln_clipped using the program raxmlHPC-PTHREADS-SSE3RAxML version 8.0.12 [1].\n",
      "\n",
      "Reference:\n",
      "A. Stamatakis: RAxML Version 8: A tool for Phylogenetic Analysis and Post-Analysis of Large Phylogenies. In Bioinformatics, 2014.\n",
      "\n"
     ]
    }
   ],
   "source": [
    "print pj.used_methods['raxml-mafftLinsi-clipped']"
   ]
  },
  {
   "cell_type": "code",
   "execution_count": 30,
   "metadata": {
    "collapsed": false
   },
   "outputs": [
    {
     "data": {
      "text/plain": [
       "'nr.pkl'"
      ]
     },
     "execution_count": 30,
     "metadata": {},
     "output_type": "execute_result"
    }
   ],
   "source": [
    "pickle_pj(pj, 'nr.pkl')"
   ]
  },
  {
   "cell_type": "markdown",
   "metadata": {},
   "source": [
    "Now let's visualize the tree."
   ]
  },
  {
   "cell_type": "markdown",
   "metadata": {},
   "source": [
    "Prepare tree annotation:\n",
    " - define outgroups\n",
    " - specify support coloration"
   ]
  },
  {
   "cell_type": "code",
   "execution_count": 31,
   "metadata": {
    "collapsed": true
   },
   "outputs": [],
   "source": [
    "pj.add_qualifier_from_source('organism')\n"
   ]
  },
  {
   "cell_type": "code",
   "execution_count": 32,
   "metadata": {
    "collapsed": true
   },
   "outputs": [],
   "source": [
    "for species in ['Lampetra','Petromyzon']:\n",
    "    pj.if_this_then_that(species, 'organism', 'outgroup', 'outgroup',\n",
    "                         mode='part')"
   ]
  },
  {
   "cell_type": "code",
   "execution_count": 33,
   "metadata": {
    "collapsed": true
   },
   "outputs": [],
   "source": [
    "supports = {'black': [100,95],\n",
    "            'dimgray': [95,75],\n",
    "            'silver': [75,50]}\n"
   ]
  },
  {
   "cell_type": "code",
   "execution_count": 75,
   "metadata": {
    "collapsed": false
   },
   "outputs": [],
   "source": [
    "pj.clear_tree_annotations()\n",
    "pj.annotate('.', 'outgroup', 'outgroup', \n",
    "            ['source_organism', 'record_id'], \n",
    "            node_support_dict=supports, multifurc=10,\n",
    "            html='mafftLinsi-clipped-raxml.html')\n",
    "            "
   ]
  },
  {
   "cell_type": "markdown",
   "metadata": {},
   "source": [
    "Check tree out. Have a think which sequences you would consider mislabelled and should better be removed from the reference database."
   ]
  },
  {
   "cell_type": "markdown",
   "metadata": {},
   "source": [
    "Create a static copy of the tree (the last `*.png` with the expected alignemnt id) for later."
   ]
  },
  {
   "cell_type": "code",
   "execution_count": 76,
   "metadata": {
    "collapsed": false
   },
   "outputs": [],
   "source": [
    "%%bash\n",
    "\n",
    "last_png=$(ls -hlrt *CytB@mafftLinsi_aln_clipped.png | tail -n 1 | perl -ne 'chomp; @a=split(\" \"); print \"$a[-1]\"')\n",
    "cp $last_png CytB_mafftLinsi_clipped_raxml.png"
   ]
  },
  {
   "cell_type": "markdown",
   "metadata": {
    "collapsed": true
   },
   "source": [
    "##=========================================="
   ]
  },
  {
   "cell_type": "markdown",
   "metadata": {
    "collapsed": false
   },
   "source": [
    "In the meantime we have run `SATIVA` on the alignment that was the basis of the above tree (see [here](https://github.com/HullUni-bioinformatics/metabarcode-course-2016/blob/master/data/exercise-5/supplementary_data/reference_db/3-SATIVA/run_SATIVA.ipynb)).\n",
    "\n",
    "Now we are going to  highlight the records that `SATIVA` considers mislabelled in the tree. We are also going to add a heatmap to the tree illustrating the confidence that `SATIVA` has in a given call."
   ]
  },
  {
   "cell_type": "markdown",
   "metadata": {},
   "source": [
    "Parse `SATIVA` output and record putatively mislabelled sequence records and the confidence of the call."
   ]
  },
  {
   "cell_type": "code",
   "execution_count": 77,
   "metadata": {
    "collapsed": true
   },
   "outputs": [],
   "source": [
    "\n",
    "rec_mislabelled = {}\n",
    "sativa=open('../3-SATIVA/CytB.mis', 'r')\n",
    "\n",
    "for line in sativa:\n",
    "    if not line.startswith(\";\"):\n",
    "        rec_mislabelled[line.split(\"\\t\")[0]] = line.split(\"\\t\")[4]\n",
    "        \n"
   ]
  },
  {
   "cell_type": "markdown",
   "metadata": {},
   "source": [
    "Add two new qualifiers containing info about he `SATIVA` results to the sequence features."
   ]
  },
  {
   "cell_type": "code",
   "execution_count": 78,
   "metadata": {
    "collapsed": true
   },
   "outputs": [],
   "source": [
    "\n",
    "for r in pj.records:\n",
    "    if r.id in rec_mislabelled:\n",
    "        for f in r.features:\n",
    "            f.qualifiers['mislabeled'] = ['yes']\n",
    "            f.qualifiers['mislabeled_conf'] = [rec_mislabelled[r.id]]\n",
    "    else:\n",
    "        for f in r.features:\n",
    "            f.qualifiers['mislabeled'] = ['no']\n",
    "            f.qualifiers['mislabeled_conf'] = [0.0001]\n"
   ]
  },
  {
   "cell_type": "code",
   "execution_count": 79,
   "metadata": {
    "collapsed": true
   },
   "outputs": [],
   "source": [
    "pj.propagate_metadata()"
   ]
  },
  {
   "cell_type": "markdown",
   "metadata": {},
   "source": [
    "Prepare tree annotation:\n",
    "\n",
    " - color records that were identified by SATIVA as being mislabelled.\n",
    " - add heatmap with mislabel confidence"
   ]
  },
  {
   "cell_type": "code",
   "execution_count": 80,
   "metadata": {
    "collapsed": false
   },
   "outputs": [],
   "source": [
    "leaf_colors = {'yes':'red', 'no': 'black'}\n",
    "bg_colors = {'yes':'red', 'no': 'white'}"
   ]
  },
  {
   "cell_type": "code",
   "execution_count": 81,
   "metadata": {
    "collapsed": false
   },
   "outputs": [],
   "source": [
    "pj.clear_tree_annotations()\n",
    "pj.annotate('.', 'outgroup', 'outgroup', \n",
    "            ['source_organism', 'record_id'], \n",
    "            node_support_dict=supports, multifurc=10,\n",
    "            html='mafftLinsi-clipped-raxml-SATIVA.html',\n",
    "            fsize=13,\n",
    "            heat_map_meta = ['mislabeled_conf'], heat_map_colour_scheme = 1,\n",
    "            leaf_node_color_meta = 'mislabeled', leaf_label_colors = leaf_colors)\n"
   ]
  },
  {
   "cell_type": "code",
   "execution_count": 82,
   "metadata": {
    "collapsed": true
   },
   "outputs": [],
   "source": [
    "%%bash\n",
    "\n",
    "last_png=$(ls -hlrt *CytB@mafftLinsi_aln_clipped.png | tail -n 1 | perl -ne 'chomp; @a=split(\" \"); print \"$a[-1]\"')\n",
    "cp $last_png CytB_mafftLinsi_clipped_raxml_SATIVA_leaf_colored.png"
   ]
  },
  {
   "cell_type": "code",
   "execution_count": 83,
   "metadata": {
    "collapsed": false
   },
   "outputs": [],
   "source": [
    "pj.clear_tree_annotations()\n",
    "pj.annotate('.', 'outgroup', 'outgroup', \n",
    "            ['source_organism', 'record_id'], \n",
    "            node_support_dict=supports, multifurc=10,\n",
    "            html='mafftLinsi-clipped-raxml-SATIVA.html',\n",
    "            fsize=13,\n",
    "            heat_map_meta = ['mislabeled_conf'], heat_map_colour_scheme = 1,\n",
    "            node_bg_meta = 'mislabeled', node_bg_color = bg_colors)"
   ]
  },
  {
   "cell_type": "code",
   "execution_count": 84,
   "metadata": {
    "collapsed": true
   },
   "outputs": [],
   "source": [
    "%%bash\n",
    "\n",
    "target=CytB_mafftLinsi_clipped_raxml_SATIVA_bg_colored.png\n",
    "\n",
    "last_png=$(ls -hlrt *CytB@mafftLinsi_aln_clipped.png | tail -n 1 | perl -ne 'chomp; @a=split(\" \"); print \"$a[-1]\"')\n",
    "cp $last_png $target"
   ]
  },
  {
   "cell_type": "markdown",
   "metadata": {},
   "source": [
    "Have a look!"
   ]
  },
  {
   "cell_type": "code",
   "execution_count": 85,
   "metadata": {
    "collapsed": false
   },
   "outputs": [
    {
     "data": {
      "text/plain": [
       "'nr.pkl'"
      ]
     },
     "execution_count": 85,
     "metadata": {},
     "output_type": "execute_result"
    }
   ],
   "source": [
    "pickle_pj(pj, 'nr.pkl')"
   ]
  },
  {
   "cell_type": "code",
   "execution_count": null,
   "metadata": {
    "collapsed": true
   },
   "outputs": [],
   "source": []
  }
 ],
 "metadata": {
  "kernelspec": {
   "display_name": "Python 2",
   "language": "python",
   "name": "python2"
  },
  "language_info": {
   "codemirror_mode": {
    "name": "ipython",
    "version": 2
   },
   "file_extension": ".py",
   "mimetype": "text/x-python",
   "name": "python",
   "nbconvert_exporter": "python",
   "pygments_lexer": "ipython2",
   "version": "2.7.6"
  }
 },
 "nbformat": 4,
 "nbformat_minor": 0
}
