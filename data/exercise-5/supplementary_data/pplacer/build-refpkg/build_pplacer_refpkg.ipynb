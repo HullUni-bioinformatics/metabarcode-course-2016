{
 "cells": [
  {
   "cell_type": "markdown",
   "metadata": {},
   "source": [
    "Create taxids.txt and seq_info.csv files from Genbank file."
   ]
  },
  {
   "cell_type": "code",
   "execution_count": 83,
   "metadata": {
    "collapsed": false
   },
   "outputs": [],
   "source": [
    "from Bio import SeqIO\n",
    "\n",
    "gb = '../../Reference_DB/CytB_European-fish_SATIVA_cleaned.gb'\n",
    "seqinfo_file = 'seq_info.csv'\n",
    "taxid_file = 'taxids.txt'\n",
    "\n",
    "#####\n",
    "seq_info = ['\"seqname\",\"accession\",\"tax_id\",\"species_name\",\"is_type\"']\n",
    "taxids = []\n",
    "Seqs = SeqIO.parse(open(gb,'r'), 'genbank')\n",
    "\n",
    "for r in Seqs:\n",
    "    sp = r.features[0].qualifiers['organism'][0]\n",
    "    for db_xref in r.features[0].qualifiers['db_xref']:\n",
    "        if 'taxon' in db_xref:\n",
    "            taxid = db_xref.split(\":\")[1]\n",
    "    r_seqinfo = '\"%s\",\"%s\",\"%s\",\"%s\",\"0\"' %(r.id, r.id, taxid, sp)\n",
    "    seq_info.extend([r_seqinfo])\n",
    "    taxids.append(taxid)\n",
    "    \n",
    "seq_info_out = open(seqinfo_file,'w')\n",
    "for l in seq_info:\n",
    "    seq_info_out.write(l+\"\\n\")\n",
    "seq_info_out.close()\n",
    "\n",
    "taxids_out = open(taxid_file, 'w')\n",
    "for t in list(set(taxids)):\n",
    "    taxids_out.write(t+\"\\n\")\n",
    "taxids_out.close()\n",
    "    \n"
   ]
  },
  {
   "cell_type": "markdown",
   "metadata": {},
   "source": [
    "\n",
    "__BUILD A HMM FOR THE REFERENCE ALIGNMENT__\n",
    "\n",
    "We will do this with the program `hmmbuild` from the [hmmer v3](http://hmmer.janelia.org/) program suite."
   ]
  },
  {
   "cell_type": "code",
   "execution_count": null,
   "metadata": {
    "collapsed": true
   },
   "outputs": [],
   "source": [
    "!hmmbuild -h #for help"
   ]
  },
  {
   "cell_type": "code",
   "execution_count": 84,
   "metadata": {
    "collapsed": false
   },
   "outputs": [
    {
     "name": "stdout",
     "output_type": "stream",
     "text": [
      "# hmmbuild :: profile HMM construction from multiple sequence alignments\n",
      "# HMMER 3.1b1 (May 2013); http://hmmer.org/\n",
      "# Copyright (C) 2013 Howard Hughes Medical Institute.\n",
      "# Freely distributed under the GNU General Public License (GPLv3).\n",
      "# - - - - - - - - - - - - - - - - - - - - - - - - - - - - - - - - - - - -\n",
      "# input alignment file:             ../../Reference_DB/CytB_European-fish_SATIVA_cleaned.alignment.fasta\n",
      "# output HMM file:                  CytB_ref.hmm\n",
      "# - - - - - - - - - - - - - - - - - - - - - - - - - - - - - - - - - - - -\n",
      "\n",
      "# idx name                  nseq  alen  mlen     W eff_nseq re/pos description\n",
      "#---- -------------------- ----- ----- ----- ----- -------- ------ -----------\n",
      "1     CytB_European-fish_SATIVA_cleaned.alignment  1736  1008  1008  1218     2.43  0.450 \n",
      "\n",
      "# CPU time: 0.46u 0.02s 00:00:00.48 Elapsed: 00:00:00.50\n"
     ]
    }
   ],
   "source": [
    "!hmmbuild CytB_ref.hmm ../../Reference_DB/CytB_European-fish_SATIVA_cleaned.alignment.fasta"
   ]
  },
  {
   "cell_type": "markdown",
   "metadata": {},
   "source": [
    "__Create reference package required by pplacer__\n",
    "\n",
    "First we will need to compile some information about the taxonomy of the reference sequences.\n",
    "\n",
    "We start by producing a taxonomy table for the set of taxa that is used as reference. The file `taxids.txt` is a simple text file that contains the taxonomic ids [taxids](http://www.ncbi.nlm.nih.gov/taxonomy) for all taxa. "
   ]
  },
  {
   "cell_type": "code",
   "execution_count": 85,
   "metadata": {
    "collapsed": false
   },
   "outputs": [
    {
     "name": "stdout",
     "output_type": "stream",
     "text": [
      "134920\r\n",
      "8030\r\n",
      "98395\r\n",
      "69293\r\n",
      "7936\r\n",
      "54556\r\n",
      "7965\r\n",
      "8032\r\n",
      "8038\r\n",
      "47308\r\n"
     ]
    }
   ],
   "source": [
    "!head taxids.txt"
   ]
  },
  {
   "cell_type": "markdown",
   "metadata": {},
   "source": [
    "We will use a tool from the [taxtastic](http://fhcrc.github.io/taxtastic/) package to fetch the taxonomic information for these taxa from the global [NCBI taxonomy](http://www.ncbi.nlm.nih.gov/taxonomy), which is present as the so-called 'taxonomy dump' in our container (`/usr/bin/taxonomy.db`). Information on how to format the taxonomy dump for use with taxtastic can be found [here](http://fhcrc.github.io/taxtastic/commands.html#new-database).\n"
   ]
  },
  {
   "cell_type": "markdown",
   "metadata": {},
   "source": [
    "[Taxtastic](http://fhcrc.github.io/taxtastic/) is suite of tools."
   ]
  },
  {
   "cell_type": "code",
   "execution_count": 86,
   "metadata": {
    "collapsed": false
   },
   "outputs": [
    {
     "name": "stdout",
     "output_type": "stream",
     "text": [
      "usage: taxit [-h] [-V]\r\n",
      "             {help,add_nodes,add_to_taxtable,check,composition,create,findcompany,info,lonelynodes,merge,new_database,refpkg_intersection,reroot,rollback,rollforward,rp,strip,taxids,taxtable,update,update_taxids}\r\n",
      "             ...\r\n",
      "\r\n",
      "Creation, validation, and modification of reference packages for use with\r\n",
      "`pplacer` and related software.\r\n",
      "\r\n",
      "positional arguments:\r\n",
      "  {help,add_nodes,add_to_taxtable,check,composition,create,findcompany,info,lonelynodes,merge,new_database,refpkg_intersection,reroot,rollback,rollforward,rp,strip,taxids,taxtable,update,update_taxids}\r\n",
      "    help                Detailed help for actions using `help <action>`\r\n",
      "    add_nodes           Add new nodes to a database containing a taxonomy.\r\n",
      "    add_to_taxtable     Adds some nodes to a taxtable\r\n",
      "    check               Run a series of deeper checks on a RefPkg.\r\n",
      "    composition         Show taxonomic composition of a reference package.\r\n",
      "    create              Creates a reference package\r\n",
      "    findcompany         Find company for lonely nodes.\r\n",
      "    info                Show information about reference packages.\r\n",
      "    lonelynodes         Extracts tax ids of all lonely nodes in a taxtable.\r\n",
      "    merge               Identify merged taxids and provide new ones.\r\n",
      "    new_database        Create a database containing an entire taxonomy\r\n",
      "    refpkg_intersection\r\n",
      "                        Find the intersection of a taxtable and a refpkg's\r\n",
      "                        taxonomy.\r\n",
      "    reroot              Taxonomically reroots a reference package\r\n",
      "    rollback            Rollback a refpkg to undo the previous command.\r\n",
      "    rollforward         Rollforward a rolled back command on a refpkg.\r\n",
      "    rp                  Resolve path; get the path to a file in the reference\r\n",
      "                        package.\r\n",
      "    strip               Removes all rollback and rollforward information and\r\n",
      "                        files not attached to the current state from a refpkg.\r\n",
      "    taxids              Look up a set of tax_ids from taxonomic names\r\n",
      "    taxtable            Creates a CSV file describing lineages for a set of\r\n",
      "                        taxa\r\n",
      "    update              Adds or updates files or metdata in a refpkg.\r\n",
      "    update_taxids       Update obsolete tax_ids in preparation for use in\r\n",
      "                        taxtable. Takes sequence info\r\n",
      "\r\n",
      "optional arguments:\r\n",
      "  -h, --help            show this help message and exit\r\n",
      "  -V, --version         Print the version number and exit\r\n"
     ]
    }
   ],
   "source": [
    "!taxit -h #for help"
   ]
  },
  {
   "cell_type": "markdown",
   "metadata": {},
   "source": [
    "To explore individual functions (such as `taxtable`) further do, e.g.:"
   ]
  },
  {
   "cell_type": "code",
   "execution_count": 87,
   "metadata": {
    "collapsed": false
   },
   "outputs": [
    {
     "name": "stdout",
     "output_type": "stream",
     "text": [
      "usage: taxit taxtable [-h] [-v] [-q] -d FILE\r\n",
      "                      [-n FILE | -t FILE-OR-LIST | -i SEQ_INFO] [-o FILE]\r\n",
      "\r\n",
      "Creates a CSV file describing lineages for a set of taxa\r\n",
      "\r\n",
      "optional arguments:\r\n",
      "  -h, --help            show this help message and exit\r\n",
      "  -v, --verbose         Increase verbosity of screen output (eg, -v is\r\n",
      "                        verbose, -vv more so)\r\n",
      "  -q, --quiet           Suppress output\r\n",
      "  -d FILE, --database-file FILE\r\n",
      "                        Name of the sqlite database file\r\n",
      "\r\n",
      "Input options:\r\n",
      "  -n FILE, --tax-names FILE\r\n",
      "                        A file identifing taxa in the form of taxonomic names.\r\n",
      "                        Names are matched against both primary names and\r\n",
      "                        synonyms. Lines beginning with \"#\" are ignored. Taxa\r\n",
      "                        identified here will be added to those specified using\r\n",
      "                        --tax-ids\r\n",
      "  -t FILE-OR-LIST, --tax-ids FILE-OR-LIST\r\n",
      "                        File containing a whitespace-delimited list of tax_ids\r\n",
      "                        (ie, separated by tabs, spaces, or newlines; lines\r\n",
      "                        beginning with \"#\" are ignored). This option can also\r\n",
      "                        be passed a comma-delited list of taxids on the\r\n",
      "                        command line.\r\n",
      "  -i SEQ_INFO, --seq-info SEQ_INFO\r\n",
      "                        Read tax_ids from sequence info file, minimally\r\n",
      "                        containing the field \"tax_id\"\r\n",
      "\r\n",
      "Output options:\r\n",
      "  -o FILE, --out-file FILE\r\n",
      "                        Output file containing lineages for the specified taxa\r\n",
      "                        in csv format; writes to stdout if unspecified\r\n"
     ]
    }
   ],
   "source": [
    "!taxit taxtable -h"
   ]
  },
  {
   "cell_type": "markdown",
   "metadata": {},
   "source": [
    "Now, let's produce the relevant taxtable."
   ]
  },
  {
   "cell_type": "code",
   "execution_count": 88,
   "metadata": {
    "collapsed": true
   },
   "outputs": [],
   "source": [
    "!taxit taxtable -d /usr/bin/taxonomy.db -t taxids.txt -o taxa.csv"
   ]
  },
  {
   "cell_type": "markdown",
   "metadata": {},
   "source": [
    "The resulting `taxa.csv` file contains just the taxonomic information relevant for the reference sequences to be used for the phylogenetic placement. \n",
    "\n",
    "Have a look into the file.\n",
    "\n"
   ]
  },
  {
   "cell_type": "code",
   "execution_count": 89,
   "metadata": {
    "collapsed": false
   },
   "outputs": [
    {
     "name": "stdout",
     "output_type": "stream",
     "text": [
      "\"tax_id\",\"parent_id\",\"rank\",\"tax_name\",\"root\",\"below_root\",\"superkingdom\",\"below_superkingdom\",\"kingdom\",\"below_kingdom\",\"below_below_kingdom\",\"below_below_below_kingdom\",\"phylum\",\"subphylum\",\"below_subphylum\",\"below_below_subphylum\",\"below_below_below_subphylum\",\"below_below_below_below_subphylum\",\"superclass\",\"class\",\"subclass\",\"infraclass\",\"below_infraclass\",\"below_below_infraclass\",\"below_below_below_infraclass\",\"below_below_below_below_infraclass\",\"below_below_below_below_below_infraclass\",\"below_below_below_below_below_below_infraclass\",\"below_below_below_below_below_below_below_infraclass\",\"below_below_below_below_below_below_below_below_infraclass\",\"below_below_below_below_below_below_below_below_below_infraclass\",\"below_below_below_below_below_below_below_below_below_below_infraclass\",\"superorder\",\"order\",\"suborder\",\"infraorder\",\"superfamily\",\"family\",\"subfamily\",\"tribe\",\"genus\",\"species\"\r",
      "\r\n",
      "\"1\",\"1\",\"root\",\"root\",\"1\",\"\",\"\",\"\",\"\",\"\",\"\",\"\",\"\",\"\",\"\",\"\",\"\",\"\",\"\",\"\",\"\",\"\",\"\",\"\",\"\",\"\",\"\",\"\",\"\",\"\",\"\",\"\",\"\",\"\",\"\",\"\",\"\",\"\",\"\",\"\",\"\",\"\"\r",
      "\r\n",
      "\"131567\",\"1\",\"below_root\",\"cellular organisms\",\"1\",\"131567\",\"\",\"\",\"\",\"\",\"\",\"\",\"\",\"\",\"\",\"\",\"\",\"\",\"\",\"\",\"\",\"\",\"\",\"\",\"\",\"\",\"\",\"\",\"\",\"\",\"\",\"\",\"\",\"\",\"\",\"\",\"\",\"\",\"\",\"\",\"\",\"\"\r",
      "\r\n",
      "\"2759\",\"131567\",\"superkingdom\",\"Eukaryota\",\"1\",\"131567\",\"2759\",\"\",\"\",\"\",\"\",\"\",\"\",\"\",\"\",\"\",\"\",\"\",\"\",\"\",\"\",\"\",\"\",\"\",\"\",\"\",\"\",\"\",\"\",\"\",\"\",\"\",\"\",\"\",\"\",\"\",\"\",\"\",\"\",\"\",\"\",\"\"\r",
      "\r\n",
      "\"33154\",\"2759\",\"below_superkingdom\",\"Opisthokonta\",\"1\",\"131567\",\"2759\",\"33154\",\"\",\"\",\"\",\"\",\"\",\"\",\"\",\"\",\"\",\"\",\"\",\"\",\"\",\"\",\"\",\"\",\"\",\"\",\"\",\"\",\"\",\"\",\"\",\"\",\"\",\"\",\"\",\"\",\"\",\"\",\"\",\"\",\"\",\"\"\r",
      "\r\n",
      "\"33208\",\"33154\",\"kingdom\",\"Metazoa\",\"1\",\"131567\",\"2759\",\"33154\",\"33208\",\"\",\"\",\"\",\"\",\"\",\"\",\"\",\"\",\"\",\"\",\"\",\"\",\"\",\"\",\"\",\"\",\"\",\"\",\"\",\"\",\"\",\"\",\"\",\"\",\"\",\"\",\"\",\"\",\"\",\"\",\"\",\"\",\"\"\r",
      "\r\n",
      "\"6072\",\"33208\",\"below_kingdom\",\"Eumetazoa\",\"1\",\"131567\",\"2759\",\"33154\",\"33208\",\"6072\",\"\",\"\",\"\",\"\",\"\",\"\",\"\",\"\",\"\",\"\",\"\",\"\",\"\",\"\",\"\",\"\",\"\",\"\",\"\",\"\",\"\",\"\",\"\",\"\",\"\",\"\",\"\",\"\",\"\",\"\",\"\",\"\"\r",
      "\r\n",
      "\"33213\",\"6072\",\"below_below_kingdom\",\"Bilateria\",\"1\",\"131567\",\"2759\",\"33154\",\"33208\",\"6072\",\"33213\",\"\",\"\",\"\",\"\",\"\",\"\",\"\",\"\",\"\",\"\",\"\",\"\",\"\",\"\",\"\",\"\",\"\",\"\",\"\",\"\",\"\",\"\",\"\",\"\",\"\",\"\",\"\",\"\",\"\",\"\",\"\"\r",
      "\r\n",
      "\"33511\",\"33213\",\"below_below_below_kingdom\",\"Deuterostomia\",\"1\",\"131567\",\"2759\",\"33154\",\"33208\",\"6072\",\"33213\",\"33511\",\"\",\"\",\"\",\"\",\"\",\"\",\"\",\"\",\"\",\"\",\"\",\"\",\"\",\"\",\"\",\"\",\"\",\"\",\"\",\"\",\"\",\"\",\"\",\"\",\"\",\"\",\"\",\"\",\"\",\"\"\r",
      "\r\n",
      "\"7711\",\"33511\",\"phylum\",\"Chordata\",\"1\",\"131567\",\"2759\",\"33154\",\"33208\",\"6072\",\"33213\",\"33511\",\"7711\",\"\",\"\",\"\",\"\",\"\",\"\",\"\",\"\",\"\",\"\",\"\",\"\",\"\",\"\",\"\",\"\",\"\",\"\",\"\",\"\",\"\",\"\",\"\",\"\",\"\",\"\",\"\",\"\",\"\"\r",
      "\r\n"
     ]
    }
   ],
   "source": [
    "!head taxa.csv"
   ]
  },
  {
   "cell_type": "markdown",
   "metadata": {},
   "source": [
    "We will also need to provide information that links the taxonomic ids to the actual sequence ids. This file is called the 'seqinfo' file by taxtasic. We provide this as `seq_info.csv`. \n",
    "\n",
    "Have a look:"
   ]
  },
  {
   "cell_type": "code",
   "execution_count": 90,
   "metadata": {
    "collapsed": false
   },
   "outputs": [
    {
     "name": "stdout",
     "output_type": "stream",
     "text": [
      "\"seqname\",\"accession\",\"tax_id\",\"species_name\",\"is_type\"\r\n",
      "\"AY184273.1\",\"AY184273.1\",\"219545\",\"Ameiurus melas\",\"0\"\r\n",
      "\"KM874552.1\",\"KM874552.1\",\"58321\",\"Alburnoides bipunctatus\",\"0\"\r\n",
      "\"AY225663.1\",\"AY225663.1\",\"109273\",\"Ambloplites rupestris\",\"0\"\r\n",
      "\"KM874532.1\",\"KM874532.1\",\"58321\",\"Alburnoides bipunctatus\",\"0\"\r\n",
      "\"AF006715.1\",\"AF006715.1\",\"7936\",\"Anguilla anguilla\",\"0\"\r\n",
      "\"HM173121.1\",\"HM173121.1\",\"58321\",\"Alburnoides bipunctatus\",\"0\"\r\n",
      "\"AB021776.1\",\"AB021776.1\",\"7936\",\"Anguilla anguilla\",\"0\"\r\n",
      "\"HM173102.1\",\"HM173102.1\",\"58321\",\"Alburnoides bipunctatus\",\"0\"\r\n",
      "\"KJ564260.1\",\"KJ564260.1\",\"7936\",\"Anguilla anguilla\",\"0\"\r\n"
     ]
    }
   ],
   "source": [
    "!head seq_info.csv"
   ]
  },
  {
   "cell_type": "markdown",
   "metadata": {},
   "source": [
    "The reference package also needs to contain a reference tree, the log from the tree inference, the underlying alignment in fasta format as well as the HMM profile that you have produced above to align the query sequences to. \n",
    "\n"
   ]
  },
  {
   "cell_type": "markdown",
   "metadata": {},
   "source": [
    "We have already built the tree (see [here]()). We'll also need the raxml info file, which contains the model parameters. pplacer seems to only be able to parse info files from older RaxML versions (e.g. v7.2.6), so we'll assess model paramters with this version."
   ]
  },
  {
   "cell_type": "code",
   "execution_count": 92,
   "metadata": {
    "collapsed": false
   },
   "outputs": [
    {
     "name": "stdout",
     "output_type": "stream",
     "text": [
      "\n",
      "\n",
      "IMPORTANT WARNING: Sequences KM874560.1 and KM874561.1 are exactly identical\n",
      "\n",
      "\n",
      "IMPORTANT WARNING: Sequences KM874560.1 and KM874563.1 are exactly identical\n",
      "\n",
      "\n",
      "IMPORTANT WARNING: Sequences KM874565.1 and KM874564.1 are exactly identical\n",
      "\n",
      "\n",
      "IMPORTANT WARNING: Sequences AJ428497.1 and AJ245839.1 are exactly identical\n",
      "\n",
      "\n",
      "IMPORTANT WARNING: Sequences KM874545.1 and KM874544.1 are exactly identical\n",
      "\n",
      "\n",
      "IMPORTANT WARNING: Sequences KM874541.1 and KM874537.1 are exactly identical\n",
      "\n",
      "\n",
      "IMPORTANT WARNING: Sequences EF427617.1 and EU223996.1 are exactly identical\n",
      "\n",
      "\n",
      "IMPORTANT WARNING: Sequences EF427617.1 and KJ564262.1 are exactly identical\n",
      "\n",
      "\n",
      "IMPORTANT WARNING: Sequences KJ564253.1 and KJ564243.1 are exactly identical\n",
      "\n",
      "\n",
      "IMPORTANT WARNING: Sequences KM874566.1 and KM874570.1 are exactly identical\n",
      "\n",
      "\n",
      "IMPORTANT WARNING: Sequences KC465920.1 and AY331019.1 are exactly identical\n",
      "\n",
      "\n",
      "IMPORTANT WARNING: Sequences KC465919.1 and KC465923.1 are exactly identical\n",
      "\n",
      "\n",
      "IMPORTANT WARNING: Sequences HQ689888.1 and HQ689886.1 are exactly identical\n",
      "\n",
      "\n",
      "IMPORTANT WARNING: Sequences AB368704.1 and AB368703.1 are exactly identical\n",
      "\n",
      "\n",
      "IMPORTANT WARNING: Sequences GU135545.1 and GU135542.1 are exactly identical\n",
      "\n",
      "\n",
      "IMPORTANT WARNING: Sequences KC238569.1 and GU135602.1 are exactly identical\n",
      "\n",
      "\n",
      "IMPORTANT WARNING: Sequences HM000036.1 and JN412532.1 are exactly identical\n",
      "\n",
      "\n",
      "IMPORTANT WARNING: Sequences AY191565.1 and KR003441.2 are exactly identical\n",
      "\n",
      "\n",
      "IMPORTANT WARNING: Sequences GU135512.1 and JX183535.1 are exactly identical\n",
      "\n",
      "\n",
      "IMPORTANT WARNING: Sequences GU991385.1 and JN412514.1 are exactly identical\n",
      "\n",
      "\n",
      "IMPORTANT WARNING: Sequences GU991394.1 and GU991386.1 are exactly identical\n",
      "\n",
      "\n",
      "IMPORTANT WARNING: Sequences AB852596.1 and AB852586.1 are exactly identical\n",
      "\n",
      "\n",
      "IMPORTANT WARNING: Sequences AB852584.1 and AB852588.1 are exactly identical\n",
      "\n",
      "\n",
      "IMPORTANT WARNING: Sequences JN190466.1 and JN190467.1 are exactly identical\n",
      "\n",
      "\n",
      "IMPORTANT WARNING: Sequences KT203378.1 and KT203376.1 are exactly identical\n",
      "\n",
      "\n",
      "IMPORTANT WARNING: Sequences KT203378.1 and AY497446.1 are exactly identical\n",
      "\n",
      "\n",
      "IMPORTANT WARNING: Sequences KT203378.1 and AY497447.1 are exactly identical\n",
      "\n",
      "\n",
      "IMPORTANT WARNING: Sequences JN190461.1 and JN190470.1 are exactly identical\n",
      "\n",
      "\n",
      "IMPORTANT WARNING: Sequences AB094611.1 and AB094612.1 are exactly identical\n",
      "\n",
      "\n",
      "IMPORTANT WARNING: Sequences AB094607.1 and AB094609.1 are exactly identical\n",
      "\n",
      "\n",
      "IMPORTANT WARNING: Sequences AB094607.1 and AB094608.1 are exactly identical\n",
      "\n",
      "\n",
      "IMPORTANT WARNING: Sequences EF525391.1 and EF525420.1 are exactly identical\n",
      "\n",
      "\n",
      "IMPORTANT WARNING: Sequences EF525391.1 and EF525396.1 are exactly identical\n",
      "\n",
      "\n",
      "IMPORTANT WARNING: Sequences EF525400.1 and EF525398.1 are exactly identical\n",
      "\n",
      "\n",
      "IMPORTANT WARNING: Sequences AY426567.1 and AY426563.1 are exactly identical\n",
      "\n",
      "\n",
      "IMPORTANT WARNING: Sequences KJ729077.1 and KJ679504.1 are exactly identical\n",
      "\n",
      "\n",
      "IMPORTANT WARNING: Sequences AY828962.1 and KJ513207.1 are exactly identical\n",
      "\n",
      "\n",
      "IMPORTANT WARNING: Sequences EF455489.1 and KU761855.1 are exactly identical\n",
      "\n",
      "\n",
      "IMPORTANT WARNING: Sequences DQ288268.1 and JX960813.1 are exactly identical\n",
      "\n",
      "\n",
      "IMPORTANT WARNING: Sequences GU227767.1 and GU227770.1 are exactly identical\n",
      "\n",
      "\n",
      "IMPORTANT WARNING: Sequences GU227767.1 and GU227772.1 are exactly identical\n",
      "\n",
      "\n",
      "IMPORTANT WARNING: Sequences EU444660.1 and EU444626.1 are exactly identical\n",
      "\n",
      "\n",
      "IMPORTANT WARNING: Sequences JF798881.1 and JF798880.1 are exactly identical\n",
      "\n",
      "\n",
      "IMPORTANT WARNING: Sequences HM117899.1 and HM117898.1 are exactly identical\n",
      "\n",
      "\n",
      "IMPORTANT WARNING: Sequences HM117891.1 and HM117890.1 are exactly identical\n",
      "\n",
      "\n",
      "IMPORTANT WARNING: Sequences KJ605198.1 and KJ605201.1 are exactly identical\n",
      "\n",
      "\n",
      "IMPORTANT WARNING: Sequences KJ605198.1 and EU444612.1 are exactly identical\n",
      "\n",
      "\n",
      "IMPORTANT WARNING: Sequences KJ605198.1 and KJ605197.1 are exactly identical\n",
      "\n",
      "\n",
      "IMPORTANT WARNING: Sequences GU227742.1 and GU227755.1 are exactly identical\n",
      "\n",
      "\n",
      "IMPORTANT WARNING: Sequences GU227742.1 and GU227747.1 are exactly identical\n",
      "\n",
      "\n",
      "IMPORTANT WARNING: Sequences KJ605186.1 and KJ605187.1 are exactly identical\n",
      "\n",
      "\n",
      "IMPORTANT WARNING: Sequences EU444659.1 and EU444663.1 are exactly identical\n",
      "\n",
      "\n",
      "IMPORTANT WARNING: Sequences HM117883.1 and HM117889.1 are exactly identical\n",
      "\n",
      "\n",
      "IMPORTANT WARNING: Sequences EU444625.1 and EU444634.1 are exactly identical\n",
      "\n",
      "\n",
      "IMPORTANT WARNING: Sequences KF784839.1 and KF784810.1 are exactly identical\n",
      "\n",
      "\n",
      "IMPORTANT WARNING: Sequences HM049965.1 and JX025363.1 are exactly identical\n",
      "\n",
      "\n",
      "IMPORTANT WARNING: Sequences KF985670.1 and KF985679.1 are exactly identical\n",
      "\n",
      "\n",
      "IMPORTANT WARNING: Sequences KF985670.1 and KF985673.1 are exactly identical\n",
      "\n",
      "\n",
      "IMPORTANT WARNING: Sequences AY509827.1 and JQ652365.1 are exactly identical\n",
      "\n",
      "\n",
      "IMPORTANT WARNING: Sequences KT279180.1 and KT279182.1 are exactly identical\n",
      "\n",
      "\n",
      "IMPORTANT WARNING: Sequences KT279198.1 and KT279196.1 are exactly identical\n",
      "\n",
      "\n",
      "IMPORTANT WARNING: Sequences AJ252791.1 and AF421801.1 are exactly identical\n",
      "\n",
      "\n",
      "IMPORTANT WARNING: Sequences HM167946.1 and HM167941.1 are exactly identical\n",
      "\n",
      "\n",
      "IMPORTANT WARNING: Sequences HM167950.1 and JX974521.1 are exactly identical\n",
      "\n",
      "IMPORTANT WARNING\n",
      "Found 64 sequences that are exactly identical to other sequences in the alignment.\n",
      "Normally they should be excluded from the analysis.\n",
      "\n",
      "An alignment file with sequence duplicates removed has already\n",
      "been printed to file ../../Reference_DB/CytB_European-fish_SATIVA_cleaned.alignment.phylip.reduced\n",
      "\n",
      "This is the RAxML Master Pthread\n",
      "\n",
      "This is RAxML Worker Pthread Number: 1\n",
      "\n",
      "This is RAxML Worker Pthread Number: 4\n",
      "\n",
      "This is RAxML Worker Pthread Number: 3\n",
      "\n",
      "This is RAxML Worker Pthread Number: 2\n",
      "\n",
      "\n",
      "This is RAxML version 7.2.6 released by Alexandros Stamatakis in February 2010.\n",
      "\n",
      "With greatly appreciated code contributions by:\n",
      "Andre Aberer (TUM)\n",
      "Simon Berger (TUM)\n",
      "John Cazes (TACC)\n",
      "Michael Ott (TUM)\n",
      "Nick Pattengale (UNM)\n",
      "Wayne Pfeiffer (SDSC)\n",
      "\n",
      "\n",
      "Alignment has 861 distinct alignment patterns\n",
      "\n",
      "Proportion of gaps and completely undetermined characters in this alignment: 11.54%\n",
      "\n",
      "RAxML Model Optimization up to an accuracy of 0.100000 log likelihood units\n",
      "\n",
      "Using 1 distinct models/data partitions with joint branch length optimization\n",
      "\n",
      "\n",
      "All free model parameters will be estimated by RAxML\n",
      "GAMMA model of rate heteorgeneity, ML estimate of alpha-parameter\n",
      "\n",
      "GAMMA Model parameters will be estimated up to an accuracy of 0.1000000000 Log Likelihood units\n",
      "\n",
      "Partition: 0\n",
      "Alignment Patterns: 861\n",
      "Name: No Name Provided\n",
      "DataType: DNA\n",
      "Substitution Matrix: GTR\n",
      "\n",
      "\n",
      "\n",
      "\n",
      "RAxML was called as follows:\n",
      "\n",
      "raxmlHPC-PTHREADS -f e -T 5 -t ../../Reference_DB/4-post_SATIVA/RAxML_bestTree.CytB@mafftLinsi-SATIVA_aln_clipped0 -m GTRGAMMA -s ../../Reference_DB/CytB_European-fish_SATIVA_cleaned.alignment.phylip -n test \n",
      "\n",
      "\n",
      "117.694249 -54791.220086\n",
      "\n",
      "\n",
      "Overall Time for Tree Evaluation 117.697624\n",
      "Final GAMMA  likelihood: -54791.220086\n",
      "Number of free parameters for AIC-TEST(BR-LEN): 3478\n",
      "Number of free parameters for AIC-TEST(NO-BR-LEN): 9\n",
      "\n",
      "\n",
      "Model Parameters of Partition 0, Name: No Name Provided, Type of Data: DNA\n",
      "alpha: 0.514189\n",
      "Tree-Length: 20.130697\n",
      "rate A <-> C: 1.175401\n",
      "rate A <-> G: 9.651913\n",
      "rate A <-> T: 0.715090\n",
      "rate C <-> G: 0.924717\n",
      "rate C <-> T: 5.265806\n",
      "rate G <-> T: 1.000000\n",
      "\n",
      "freq pi(A): 0.258066\n",
      "freq pi(C): 0.289460\n",
      "freq pi(G): 0.154878\n",
      "freq pi(T): 0.297596\n",
      "\n",
      "Final tree written to:                 /home/working/media/chrishah/STORAGE/metabarcoding/PHYLOGENETIC_PLACEMENT/Lake_fish/CytB/pplacer/build-refpkg/RAxML_result.test\n",
      "Execution Log File written to:         /home/working/media/chrishah/STORAGE/metabarcoding/PHYLOGENETIC_PLACEMENT/Lake_fish/CytB/pplacer/build-refpkg/RAxML_log.test\n"
     ]
    }
   ],
   "source": [
    "%%bash\n",
    "\n",
    "raxmlHPC-PTHREADS -f e -T 5 -t ../../Reference_DB/4-post_SATIVA/RAxML_bestTree.CytB@mafftLinsi-SATIVA_aln_clipped0 -m GTRGAMMA -s ../../Reference_DB/CytB_European-fish_SATIVA_cleaned.alignment.phylip -n test"
   ]
  },
  {
   "cell_type": "markdown",
   "metadata": {},
   "source": [
    "Build the reference package."
   ]
  },
  {
   "cell_type": "code",
   "execution_count": 93,
   "metadata": {
    "collapsed": false
   },
   "outputs": [
    {
     "name": "stdout",
     "output_type": "stream",
     "text": [
      "rerooting at below_below_subphylum\n",
      "root found at node 1384\n"
     ]
    }
   ],
   "source": [
    "%%bash\n",
    "taxit create \\\n",
    "-l CytB \\\n",
    "-P CytB.refpkg \\\n",
    "--aln-fasta ../../Reference_DB/CytB_European-fish_SATIVA_cleaned.alignment.fasta \\\n",
    "--tree-stats RAxML_info.test \\\n",
    "--tree-file ../../Reference_DB/4-post_SATIVA/RAxML_bestTree.CytB@mafftLinsi-SATIVA_aln_clipped0 \\\n",
    "--profile CytB_ref.hmm \\\n",
    "--seq-info seq_info.csv \\\n",
    "--taxonomy taxa.csv"
   ]
  },
  {
   "cell_type": "markdown",
   "metadata": {},
   "source": [
    "Some explanation for the above command:\n",
    "    \n",
    "```bash\n",
    "taxit create \\ #call the program\n",
    "-l CytB \\ #arbitrary marker name\n",
    "-P CytB.refpkg \\ #name to be given to reference package\n",
    "--aln-fasta ../../Reference_DB/CytB_European-fish_SATIVA_cleaned.alignment.fasta \\ #alignment\n",
    "--tree-stats RAxML_info.test \\ #info file from RAxML containing the model paramters for the tree\n",
    "--tree-file ../../Reference_DB/4-post_SATIVA/RAxML_bestTree.CytB@mafftLinsi-SATIVA_aln_clipped0 \\ #RAxML tree\n",
    "--profile CytB_ref.hmm \\ #HMM profile built for reference alignment\n",
    "--seq-info seq_info.csv \\ #seqinfo file mapping taxonomy to sequence ids\n",
    "--taxonomy taxa.csv #taxonmic information for the relevant taxa\n",
    "```"
   ]
  },
  {
   "cell_type": "markdown",
   "metadata": {},
   "source": [
    "\n",
    "\n",
    "#WELL DONE!#\n",
    "\n"
   ]
  },
  {
   "cell_type": "code",
   "execution_count": null,
   "metadata": {
    "collapsed": true
   },
   "outputs": [],
   "source": []
  }
 ],
 "metadata": {
  "kernelspec": {
   "display_name": "Python 2",
   "language": "python",
   "name": "python2"
  },
  "language_info": {
   "codemirror_mode": {
    "name": "ipython",
    "version": 2
   },
   "file_extension": ".py",
   "mimetype": "text/x-python",
   "name": "python",
   "nbconvert_exporter": "python",
   "pygments_lexer": "ipython2",
   "version": "2.7.6"
  }
 },
 "nbformat": 4,
 "nbformat_minor": 0
}
