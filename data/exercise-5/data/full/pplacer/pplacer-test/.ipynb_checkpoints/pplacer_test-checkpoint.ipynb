{
 "cells": [
  {
   "cell_type": "markdown",
   "metadata": {},
   "source": [
    "__ALIGN QUERIES TO REFERENCE ALIGNMENT__\n",
    "\n",
    "We will do this with the program `hmmalign` from the hmmerv3 program suite."
   ]
  },
  {
   "cell_type": "markdown",
   "metadata": {},
   "source": [
    "Test only with a few queries that were assigned to at least family level."
   ]
  },
  {
   "cell_type": "code",
   "execution_count": 1,
   "metadata": {
    "collapsed": false
   },
   "outputs": [],
   "source": [
    "from Bio import SeqIO\n",
    "\n",
    "infile = open('../build-refpkg/metaBEAT/metaBEAT-OTU-taxonomy.tsv','r')\n",
    "read_ids = []\n",
    "\n",
    "for l in infile:\n",
    "    if not l.startswith('#'):\n",
    "        tax = l.strip().split(\"\\t\")[-1]\n",
    "        if len(l.split(',')) >= 5:\n",
    "            read_ids.append(l.split(\"\\t\")[0])\n",
    "            \n",
    "infile.close()\n",
    "\n",
    "out = open('family_queries.fasta','w')\n",
    "\n",
    "queries = SeqIO.parse(open('../build-refpkg/metaBEAT/GLOBAL/global_centroids.fasta','r'),'fasta')\n",
    "for r in queries:\n",
    "    if r.id in read_ids:\n",
    "        out.write(\">%s\\n%s\\n\" %(r.id,r.seq))\n",
    "        \n",
    "out.close()"
   ]
  },
  {
   "cell_type": "code",
   "execution_count": 2,
   "metadata": {
    "collapsed": false
   },
   "outputs": [
    {
     "name": "stdout",
     "output_type": "stream",
     "text": [
      "# hmmalign :: align sequences to a profile HMM\r\n",
      "# HMMER 3.1b1 (May 2013); http://hmmer.org/\r\n",
      "# Copyright (C) 2013 Howard Hughes Medical Institute.\r\n",
      "# Freely distributed under the GNU General Public License (GPLv3).\r\n",
      "# - - - - - - - - - - - - - - - - - - - - - - - - - - - - - - - - - - - -\r\n",
      "Usage: hmmalign [-options] <hmmfile> <seqfile>\r\n",
      "\r\n",
      "Basic options:\r\n",
      "  -h     : show brief help on version and usage\r\n",
      "  -o <f> : output alignment to file <f>, not stdout\r\n",
      "\r\n",
      "Less common options:\r\n",
      "  --mapali <f>    : include alignment in file <f> (same ali that HMM came from)\r\n",
      "  --trim          : trim terminal tails of nonaligned residues from alignment\r\n",
      "  --amino         : assert <seqfile>, <hmmfile> both protein: no autodetection\r\n",
      "  --dna           : assert <seqfile>, <hmmfile> both DNA: no autodetection\r\n",
      "  --rna           : assert <seqfile>, <hmmfile> both RNA: no autodetection\r\n",
      "  --informat <s>  : assert <seqfile> is in format <s>: no autodetection\r\n",
      "  --outformat <s> : output alignment in format <s>  [Stockholm]\r\n",
      "\r\n",
      "Sequence input formats include:   FASTA, EMBL, GenBank, UniProt\r\n",
      "Alignment output formats include: Stockholm, Pfam, A2M, PSIBLAST\r\n",
      "\r\n"
     ]
    }
   ],
   "source": [
    "!hmmalign -h #for help"
   ]
  },
  {
   "cell_type": "code",
   "execution_count": 3,
   "metadata": {
    "collapsed": false
   },
   "outputs": [],
   "source": [
    "%%bash\n",
    "\n",
    "hmmalign -o CytB_ref_plus_test_query.sto \\\n",
    "--mapali ../../Reference_DB/CytB_European-fish_SATIVA_cleaned.alignment.fasta \\\n",
    "../build-refpkg/CytB_ref.hmm family_queries.fasta"
   ]
  },
  {
   "cell_type": "markdown",
   "metadata": {},
   "source": [
    "__PHYLOGENETIC PLACEMENT USING PPLACER__\n",
    "\n",
    "Some more info on pplacer is [here](http://matsen.fhcrc.org/pplacer/). The approach provides a lot of options, some of which are a bit cryptic to be honest. \n",
    "\n",
    "See for yourself:\n",
    "\n"
   ]
  },
  {
   "cell_type": "code",
   "execution_count": 4,
   "metadata": {
    "collapsed": false
   },
   "outputs": [
    {
     "name": "stdout",
     "output_type": "stream",
     "text": [
      "pplacer: unknown option `-h'.\r\n",
      "pplacer [options] [alignment]\r\n",
      "  -c                           Specify the path to the reference package.\r\n",
      "  -t                           Specify the reference tree filename.\r\n",
      "  -r                           Specify the reference alignment filename.\r\n",
      "  -s                           Supply a phyml stats.txt or a RAxML info file giving the model parameters.\r\n",
      "  -d                           Specify the directory containing the reference information.\r\n",
      "  -p                           Calculate posterior probabilities.\r\n",
      "  -m                           Substitution model. Protein: LG, WAG, or JTT. Nucleotides: GTR.\r\n",
      "  --model-freqs                Use model frequencies instead of reference alignment frequencies.\r\n",
      "  --gamma-cats                 Number of categories for discrete gamma model.\r\n",
      "  --gamma-alpha                Specify the shape parameter for a discrete gamma model.\r\n",
      "  --ml-tolerance               1st stage branch len optimization tolerance (2nd stage to 1e-5). Default: 0.01.\r\n",
      "  --pp-rel-err                 Relative error for the posterior probability calculation. Default is 0.01.\r\n",
      "  --unif-prior                 Use a uniform prior rather than exponential.\r\n",
      "  --inform-prior               Use an informative exponential prior based on rooted distance to leaves.\r\n",
      "  --prior-lower                Lower bound for the informative prior mean. Default is 0.\r\n",
      "  --start-pend                 Starting pendant branch length. Default is 0.1.\r\n",
      "  --max-pend                   Set the maximum ML pendant branch length. Default is 2.\r\n",
      "  --fig-cutoff                 The cutoff for determining figs. Default is 0; specify 0 to disable.\r\n",
      "  --fig-eval-all               Evaluate all likelihoods to ensure that the best location was selected.\r\n",
      "  --fig-eval-discrepancy-tree  Write out a tree showing the discrepancies between the best complete and observed locations.\r\n",
      "  --fig-tree                   Write out a tree showing the figs on the tree.\r\n",
      "  --max-strikes                Maximum number of strikes for baseball. 0 -> no ball playing. Default is 6.\r\n",
      "  --strike-box                 Set the size of the strike box in log likelihood units. Default is 3.\r\n",
      "  --max-pitches                Set the maximum number of pitches for baseball. Default is 40.\r\n",
      "  --fantasy                    Desired likelihood cutoff for fantasy baseball mode. 0 -> no fantasy.\r\n",
      "  --fantasy-frac               Fraction of fragments to use when running fantasy baseball. Default is 0.1.\r\n",
      "  --write-masked               Write alignment masked to the region without gaps in the query.\r\n",
      "  --verbosity                  Set verbosity level. 0 is silent, and 2 is quite a lot. Default is 1.\r\n",
      "  --out-dir                    Specify the directory to write place files to.\r\n",
      "  -o                           Specify the output file name\r\n",
      "  --pretend                    Only check out the files then report. Do not run the analysis.\r\n",
      "  --check-like                 Write out the likelihood of the reference tree, calculated two ways.\r\n",
      "  -j                           The number of child processes to spawn when doing placements. Default is 2.\r\n",
      "  --timing                     Display timing information after the pplacer run finishes.\r\n",
      "  --no-pre-mask                Don't pre-mask sequences before placement.\r\n",
      "  --write-pre-masked           Write out the pre-masked sequences to the specified fasta file before placement.\r\n",
      "  --map-mrca                   Specify a file to write out MAP sequences for MRCAs and corresponding placements.\r\n",
      "  --map-mrca-min               Specify cutoff for inclusion in MAP sequence file. Default is 0.8.\r\n",
      "  --map-identity               Add the percent identity of the query sequence to the nearest MAP sequence to each placement.\r\n",
      "  --keep-at-most               The maximum number of placements we keep. Default is 7.\r\n",
      "  --keep-factor                Throw away anything that has ml_ratio below keep_factor times (best ml_ratio). Default is 0.01.\r\n",
      "  --mrca-class                 Classify with MRCAs instead of a painted tree.\r\n",
      "  --groups                     Split query alignment into the specified number of groups.\r\n",
      "  --always-refine              Always refine the model before placing.\r\n",
      "  --mmap-file                  Instead of doing large allocations, mmap the given file. It will be created if it doesn't exist.\r\n",
      "  --discard-nonoverlapped      When pre-masking, silently discard sequences which don't overlap the mask.\r\n",
      "  --version                    Write out the version number and exit.\r\n",
      "  -help                        Display this list of options\r\n",
      "  --help                       Display this list of options\r\n"
     ]
    }
   ],
   "source": [
    "!pplacer -h "
   ]
  },
  {
   "cell_type": "markdown",
   "metadata": {},
   "source": [
    "For the time being we will limit ourselfs to a basic analysis.\n",
    "\n",
    "We'll provide the reference package that we have produced and the query alignment. Further details:\n",
    "```bash\n",
    "pplacer \\ #call pplacer\n",
    "-c CytB.refpkg/ \\ #point to refpkg\n",
    "CytB_ref_plus_test_query.sto \\ # profile alignment\n",
    "-p \\ #report posterior propabilities\n",
    "--keep-at-most 3 \\ #keep at most 3 assignments per query\n",
    "-o queries.jplace \\ #write output to this file\n",
    "```"
   ]
  },
  {
   "cell_type": "code",
   "execution_count": 5,
   "metadata": {
    "collapsed": false
   },
   "outputs": [
    {
     "name": "stdout",
     "output_type": "stream",
     "text": [
      "Running pplacer v1.1.alpha16-1-gf748c91 analysis on CytB_ref_plus_test_query.sto...\n",
      "Found reference sequences in given alignment file. Using those for reference alignment.\n",
      "Pre-masking sequences... sequence length cut from 1039 to 399.\n",
      "Determining figs... figs disabled.\n",
      "Allocating memory for internal nodes... done.\n",
      "Caching likelihood information on reference tree... done.\n",
      "Pulling exponents... done.\n",
      "Preparing the edges for baseball... done.\n",
      "working on Windermere_12|SRR3360078-20702/1 (1640/1640)... \n"
     ]
    }
   ],
   "source": [
    "!pplacer -c ../build-refpkg/CytB.refpkg/ \\\n",
    "CytB_ref_plus_test_query.sto \\\n",
    "-p \\\n",
    "--keep-at-most 3 \\\n",
    "-o queries.jplace"
   ]
  },
  {
   "cell_type": "markdown",
   "metadata": {
    "collapsed": true
   },
   "source": [
    "`pplacer` has its own extensive format to describe placements ('the placement file'). Have a look inside and if you want. It also provides a tool for the (comparative) analyis of placement files called `guppy` ('Grand Unified Phylogenetic Placement Yanalyzer'). Again, this is a tool with extensive functionality (see [here](http://matsen.github.io/pplacer/generated_rst/guppy.html) that is beyond the scope of this introductionary course.\n",
    "\n",
    "However, because pplacer has its own format that can only be analysed by `guppy` and other tools from the `pplacer` suite, we provide a script that converts place files to the standardized [biom format](http://biom-format.org/), which can be interpreted by a number of tools, including [qiime](http://qiime.org/).\n",
    "\n"
   ]
  },
  {
   "cell_type": "code",
   "execution_count": null,
   "metadata": {
    "collapsed": true
   },
   "outputs": [],
   "source": [
    "!jplace_to_biom.py -h"
   ]
  },
  {
   "cell_type": "markdown",
   "metadata": {},
   "source": [
    "Convert the placefile to [biom](http://biom-format.org/) format like so:\n"
   ]
  },
  {
   "cell_type": "code",
   "execution_count": 6,
   "metadata": {
    "collapsed": false
   },
   "outputs": [
    {
     "name": "stdout",
     "output_type": "stream",
     "text": [
      "\n",
      "##### INTERPRETING PPLACER RESULTS #####\n",
      "\n",
      "# Constructed from biom file\n",
      "#OTU ID\tpplace\n",
      "Barbatula barbatula\t7.0\n",
      "Teleostei\t1.0\n",
      "Abramis brama\t402.0\n",
      "Rutilus rutilus\t102.0\n",
      "Salmoninae\t2.0\n",
      "Pseudorasbora parva\t125.0\n",
      "Phoxinus phoxinus\t31.0\n",
      "Percinae\t9.0\n",
      "Gasterosteus aculeatus\t20.0\n",
      "Anguilla anguilla\t111.0\n",
      "Cyprinidae\t9.0\n",
      "Esox lucius\t63.0\n",
      "Salmo salar\t3.0\n",
      "Salmo trutta\t111.0\n",
      "Salvelinus alpinus\t14.0\n",
      "Cottioidei\t106.0\n",
      "Perciformes\t4.0\n",
      "Perca fluviatilis\t646.0\n",
      "Platichthys flesus\t18.0\n",
      "\n",
      "##### DONE! #####\n",
      "\n"
     ]
    }
   ],
   "source": [
    "!jplace_to_biom.py -p pplace -j queries.jplace "
   ]
  },
  {
   "cell_type": "markdown",
   "metadata": {},
   "source": [
    "This produces 2 files `pplace.biom` and `pplace.tsv`. The latter is a a simple tab-delimited file that you can open with any txt editor or e.g. excel.\n",
    "\n",
    "`pplace.biom` is less human-readable..\n"
   ]
  },
  {
   "cell_type": "code",
   "execution_count": null,
   "metadata": {
    "collapsed": true
   },
   "outputs": [],
   "source": [
    "!cat pplace.biom"
   ]
  },
  {
   "cell_type": "markdown",
   "metadata": {},
   "source": [
    "However, there is resources like [phinch](http://phinch.org/index.html) out there to vizualize the contents of biom tables. \n",
    "\n",
    "__GIVE IT A TRY__ and explore the results of this analysis in [phinch](http://phinch.org/index.html).\n",
    "\n",
    "#WELL DONE!#\n",
    "\n"
   ]
  }
 ],
 "metadata": {
  "kernelspec": {
   "display_name": "Python 2",
   "language": "python",
   "name": "python2"
  },
  "language_info": {
   "codemirror_mode": {
    "name": "ipython",
    "version": 2
   },
   "file_extension": ".py",
   "mimetype": "text/x-python",
   "name": "python",
   "nbconvert_exporter": "python",
   "pygments_lexer": "ipython2",
   "version": "2.7.6"
  }
 },
 "nbformat": 4,
 "nbformat_minor": 0
}
