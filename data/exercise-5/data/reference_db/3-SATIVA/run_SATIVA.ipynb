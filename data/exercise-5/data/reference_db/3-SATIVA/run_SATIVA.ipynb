{
 "cells": [
  {
   "cell_type": "markdown",
   "metadata": {},
   "source": [
    "Prepare input files.\n",
    "\n",
    "The ailgnment has been produced using Reprophylo (see [notebook]()). We'll just cleanup the sequence headers and create a local copy."
   ]
  },
  {
   "cell_type": "code",
   "execution_count": 4,
   "metadata": {
    "collapsed": false
   },
   "outputs": [],
   "source": [
    "!cat ../2-nr/CytB@mafftLinsi_aln_clipped.phy | sed 's/_f[0-9] / /' > alignment.phy"
   ]
  },
  {
   "cell_type": "markdown",
   "metadata": {},
   "source": [
    "The tax file has been generated from a Genbank file using [this]() notebook."
   ]
  },
  {
   "cell_type": "code",
   "execution_count": 5,
   "metadata": {
    "collapsed": false
   },
   "outputs": [
    {
     "name": "stdout",
     "output_type": "stream",
     "text": [
      "KJ605205.1\tEukaryota;Chordata;Actinopteri;Gobiiformes;Gobiidae;Proterorhinus;Proterorhinus semilunaris\r\n",
      "EU444651.1\tEukaryota;Chordata;Actinopteri;Gobiiformes;Gobiidae;Proterorhinus;Proterorhinus semilunaris\r\n",
      "KJ605208.1\tEukaryota;Chordata;Actinopteri;Gobiiformes;Gobiidae;Proterorhinus;Proterorhinus semilunaris\r\n",
      "EU444661.1\tEukaryota;Chordata;Actinopteri;Gobiiformes;Gobiidae;Proterorhinus;Proterorhinus semilunaris\r\n",
      "EU444665.1\tEukaryota;Chordata;Actinopteri;Gobiiformes;Gobiidae;Proterorhinus;Proterorhinus semilunaris\r\n",
      "KJ605200.1\tEukaryota;Chordata;Actinopteri;Gobiiformes;Gobiidae;Proterorhinus;Proterorhinus semilunaris\r\n",
      "KJ605202.1\tEukaryota;Chordata;Actinopteri;Gobiiformes;Gobiidae;Proterorhinus;Proterorhinus semilunaris\r\n",
      "EU444632.1\tEukaryota;Chordata;Actinopteri;Gobiiformes;Gobiidae;Proterorhinus;Proterorhinus semilunaris\r\n",
      "EU444634.1\tEukaryota;Chordata;Actinopteri;Gobiiformes;Gobiidae;Proterorhinus;Proterorhinus semilunaris\r\n",
      "KJ605198.1\tEukaryota;Chordata;Actinopteri;Gobiiformes;Gobiidae;Proterorhinus;Proterorhinus semilunaris\r\n"
     ]
    }
   ],
   "source": [
    "!head tax_for_SATIVA.tax"
   ]
  },
  {
   "cell_type": "markdown",
   "metadata": {},
   "source": [
    "Let's now run `SATIVA`."
   ]
  },
  {
   "cell_type": "code",
   "execution_count": 7,
   "metadata": {
    "collapsed": false
   },
   "outputs": [
    {
     "name": "stdout",
     "output_type": "stream",
     "text": [
      "\n",
      "SATIVA v0.9-55-g0cbb090, released on 2016-06-28. Last version: https://github.com/amkozlov/sativa \n",
      "By A.Kozlov and J.Zhang, the Exelixis Lab. Based on RAxML 8.2.3 by A.Stamatakis.\n",
      "\n",
      "SATIVA was called as follows:\n",
      "\n",
      "./sativa/sativa.py -s alignment.phy -t tax_for_SATIVA.tax -x zoo -n CytB -o ./ -T 5 -v\n",
      "\n",
      "Mislabels search is running with the following parameters:\n",
      " Alignment:                        alignment.phy\n",
      " Taxonomy:                         tax_for_SATIVA.tax\n",
      " Output directory:                 /home/working/media/chrishah/STORAGE/metabarcoding/PHYLOGENETIC_PLACEMENT/Lake_fish/CytB/Reference_DB/3-SATIVA\n",
      " Job name / output files prefix:   CytB\n",
      " Model of rate heterogeneity:      AUTO\n",
      " Confidence cut-off:               0.000000\n",
      " Number of threads:                5\n",
      "\n",
      "*** STEP 1: Building the reference tree using provided alignment and taxonomic annotations ***\n",
      "\n",
      "=> Loading taxonomy from file: tax_for_SATIVA.tax ...\n",
      "\n",
      "==> Loading reference alignment from file: alignment.phy ...\n",
      "\n",
      "Guessing input format: not fasta\n",
      "Guessing input format: not phylip_relaxed\n",
      "===> Validating taxonomy and alignment ...\n",
      "\n",
      "NOTE: Following sequences are identical: AB094607.1, AB094609.1, AB094608.1\n",
      "NOTE: Following sequences are identical: HM117883.1, HM117889.1\n",
      "NOTE: Following sequences are identical: KM874545.1, KM874544.1\n",
      "NOTE: Following sequences are identical: GU227767.1, GU227770.1, GU227772.1\n",
      "NOTE: Following sequences are identical: KF784839.1, KF784810.1\n",
      "NOTE: Following sequences are identical: AB852584.1, AB852588.1\n",
      "NOTE: Following sequences are identical: HM049965.1, JX025363.1\n",
      "NOTE: Following sequences are identical: GU227742.1, GU227755.1, GU227747.1\n",
      "NOTE: Following sequences are identical: GU991385.1, JN412514.1\n",
      "NOTE: Following sequences are identical: GU135512.1, JX183535.1\n",
      "NOTE: Following sequences are identical: HM167950.1, JX974521.1\n",
      "NOTE: Following sequences are identical: EF455489.1, KU761855.1\n",
      "NOTE: Following sequences are identical: KM874566.1, KM874570.1\n",
      "NOTE: Following sequences are identical: KM874560.1, KM874561.1, KM874563.1\n",
      "NOTE: Following sequences are identical: EF525391.1, EF525396.1\n",
      "NOTE: Following sequences are identical: HM000036.1, JN412532.1\n",
      "NOTE: Following sequences are identical: KC465920.1, AY331019.1\n",
      "NOTE: Following sequences are identical: GU135545.1, GU135542.1\n",
      "NOTE: Following sequences are identical: JF798881.1, JF798880.1\n",
      "NOTE: Following sequences are identical: KF985670.1, KF985679.1, KF985673.1\n",
      "NOTE: Following sequences are identical: KJ564253.1, KJ564243.1\n",
      "NOTE: Following sequences are identical: DQ288268.1, JX960813.1\n",
      "NOTE: Following sequences are identical: AY426567.1, AY426563.1\n",
      "NOTE: Following sequences are identical: KT279180.1, KT279182.1\n",
      "NOTE: Following sequences are identical: HM117899.1, HM117898.1\n",
      "NOTE: Following sequences are identical: AJ428497.1, AJ245839.1\n",
      "NOTE: Following sequences are identical: EU444659.1, EU444663.1\n",
      "NOTE: Following sequences are identical: EU444625.1, EU444634.1\n",
      "NOTE: Following sequences are identical: KJ729077.1, KJ679504.1\n",
      "NOTE: Following sequences are identical: KJ605186.1, KJ605187.1\n",
      "NOTE: Following sequences are identical: KT203378.1, KT203376.1, AY497446.1, AY497447.1\n",
      "NOTE: Following sequences are identical: JN190466.1, JN190467.1\n",
      "NOTE: Following sequences are identical: JN190461.1, JN190470.1\n",
      "NOTE: Following sequences are identical: AB368704.1, AB368703.1\n",
      "NOTE: Following sequences are identical: KM874541.1, KM874537.1\n",
      "NOTE: Following sequences are identical: EF525400.1, EF525398.1\n",
      "NOTE: Following sequences are identical: AY191565.1, KR003441.2\n",
      "NOTE: Following sequences are identical: AY509827.1, JQ652365.1\n",
      "NOTE: Following sequences are identical: EF427617.1, EU223996.1, KJ564262.1\n",
      "NOTE: Following sequences are identical: KC238569.1, GU135602.1\n",
      "NOTE: Following sequences are identical: KC465919.1, KC465923.1\n",
      "NOTE: Following sequences are identical: GU991394.1, GU991386.1\n",
      "NOTE: Following sequences are identical: AY828962.1, KJ513207.1\n",
      "NOTE: Following sequences are identical: KT279198.1, KT279196.1\n",
      "NOTE: Following sequences are identical: EU444660.1, EU444626.1\n",
      "NOTE: Following sequences are identical: KM874565.1, KM874564.1\n",
      "NOTE: Following sequences are identical: AJ252791.1, AF421801.1\n",
      "NOTE: Following sequences are identical: AB094611.1, AB094612.1\n",
      "NOTE: Following sequences are identical: KJ605198.1, KJ605201.1, EU444612.1, KJ605197.1\n",
      "NOTE: Following sequences are identical: HM117891.1, HM117890.1\n",
      "NOTE: Following sequences are identical: AB852596.1, AB852586.1\n",
      "NOTE: Following sequences are identical: HM167946.1, HM167941.1\n",
      "\n",
      "NOTE: Found 62 sequence duplicates\n",
      "====> Building a multifurcating tree from taxonomy with 1760 seqs ...\n",
      "\n",
      "Processed nodes:  1000 , added:  999 , skipped:  1\n",
      "Total nodes in resulting tree: 1760\n",
      "=====> Building the reference alignment ...\n",
      "\n",
      "======> Saving the outgroup for later re-rooting ...\n",
      "\n",
      "Outgroup for rooting was saved to: /home/working/media/chrishah/STORAGE/metabarcoding/PHYLOGENETIC_PLACEMENT/Lake_fish/CytB/Reference_DB/3-SATIVA/sativa/tmp/CytB_1473205651285/CytB_outgr.tre, outgroup size: 35\n",
      "=======> Resolving multifurcation: choosing the best topology from 1 independent RAxML runs ...\n",
      "\n",
      "\n",
      "Reducing the alignment: \n",
      "\n",
      "/home/working/media/chrishah/STORAGE/metabarcoding/PHYLOGENETIC_PLACEMENT/Lake_fish/CytB/Reference_DB/3-SATIVA/sativa/raxml//run_raxml.sh -w /home/working/media/chrishah/STORAGE/metabarcoding/PHYLOGENETIC_PLACEMENT/Lake_fish/CytB/Reference_DB/3-SATIVA/sativa/tmp/CytB_1473205651285 -T 5 -f c -s /home/working/media/chrishah/STORAGE/metabarcoding/PHYLOGENETIC_PLACEMENT/Lake_fish/CytB/Reference_DB/3-SATIVA/sativa/tmp/CytB_1473205651285/CytB_matrix.afa --no-dup-check -m GTRCAT -n reduce --verbose -p 13332\n",
      "\n",
      "\n",
      "Constrained ML inference: \n",
      "\n",
      "/home/working/media/chrishah/STORAGE/metabarcoding/PHYLOGENETIC_PLACEMENT/Lake_fish/CytB/Reference_DB/3-SATIVA/sativa/raxml//run_raxml.sh -w /home/working/media/chrishah/STORAGE/metabarcoding/PHYLOGENETIC_PLACEMENT/Lake_fish/CytB/Reference_DB/3-SATIVA/sativa/tmp/CytB_1473205651285 -T 5 -s /home/working/media/chrishah/STORAGE/metabarcoding/PHYLOGENETIC_PLACEMENT/Lake_fish/CytB/Reference_DB/3-SATIVA/sativa/tmp/CytB_1473205651285/CytB_matrix.afa -g /home/working/media/chrishah/STORAGE/metabarcoding/PHYLOGENETIC_PLACEMENT/Lake_fish/CytB/Reference_DB/3-SATIVA/sativa/tmp/CytB_1473205651285/CytB_mfu.tre --no-seq-check -N 1 -m GTRCAT -n mfresolv_CytB --verbose -p 326\n",
      "\n",
      "\n",
      "CAT-based logLH of the reference tree: -53919.981955\n",
      "\n",
      "========> Calling RAxML-EPA to obtain branch labels ...\n",
      "\n",
      "/home/working/media/chrishah/STORAGE/metabarcoding/PHYLOGENETIC_PLACEMENT/Lake_fish/CytB/Reference_DB/3-SATIVA/sativa/raxml//run_raxml.sh -w /home/working/media/chrishah/STORAGE/metabarcoding/PHYLOGENETIC_PLACEMENT/Lake_fish/CytB/Reference_DB/3-SATIVA/sativa/tmp/CytB_1473205651285 -T 5 -s /home/working/media/chrishah/STORAGE/metabarcoding/PHYLOGENETIC_PLACEMENT/Lake_fish/CytB/Reference_DB/3-SATIVA/sativa/tmp/CytB_1473205651285/CytB_lblq.fa -t /home/working/media/chrishah/STORAGE/metabarcoding/PHYLOGENETIC_PLACEMENT/Lake_fish/CytB/Reference_DB/3-SATIVA/sativa/tmp/CytB_1473205651285/CytB_bfu.tre --no-seq-check -f y --epa-accumulated-threshold 0.999 -G 0.284090909091 -R /home/working/media/chrishah/STORAGE/metabarcoding/PHYLOGENETIC_PLACEMENT/Lake_fish/CytB/Reference_DB/3-SATIVA/sativa/tmp/CytB_1473205651285/CytB.opt -m GTRCAT -n epalbl_CytB --verbose -p 26407\n",
      "\n",
      "=========> Post-processing the EPA tree (re-rooting, taxonomic labeling etc.) ...\n",
      "\n",
      "\n",
      "==========> Checking branch labels ...\n",
      "shared rank names before training: set(['Eukaryota', 'Chordata'])\n",
      "shared rank names after  training: set(['Eukaryota', '-', 'Chordata'])\n",
      "\n",
      "==========> Saving the reference JSON file: ./CytB.refjson\n",
      "\n",
      "Calculating the speciation rate...\n",
      "\n",
      "Writing down the reference file...\n",
      "\n",
      "*** STEP 2: Searching for mislabels ***\n",
      "\n",
      "Running the leave-one-sequence-out test...\n",
      "\n",
      "/home/working/media/chrishah/STORAGE/metabarcoding/PHYLOGENETIC_PLACEMENT/Lake_fish/CytB/Reference_DB/3-SATIVA/sativa/raxml//run_raxml.sh -w /home/working/media/chrishah/STORAGE/metabarcoding/PHYLOGENETIC_PLACEMENT/Lake_fish/CytB/Reference_DB/3-SATIVA/sativa/tmp/CytB_1473205651285 -T 5 -s /home/working/media/chrishah/STORAGE/metabarcoding/PHYLOGENETIC_PLACEMENT/Lake_fish/CytB/Reference_DB/3-SATIVA/sativa/tmp/CytB_1473205651285/CytB.refaln -t /home/working/media/chrishah/STORAGE/metabarcoding/PHYLOGENETIC_PLACEMENT/Lake_fish/CytB/Reference_DB/3-SATIVA/sativa/tmp/CytB_1473205651285/ref_CytB.tre --no-seq-check -f O --epa-accumulated-threshold 0.999 -G 0.284090909091 -R /home/working/media/chrishah/STORAGE/metabarcoding/PHYLOGENETIC_PLACEMENT/Lake_fish/CytB/Reference_DB/3-SATIVA/sativa/tmp/CytB_1473205651285/CytB.opt -m GTRCAT -n l1out_seq_CytB --verbose -p 13332\n",
      "\n",
      "Leave-one-out test identified 31 suspicious sequences; running final EPA test to check them...\n",
      "\n",
      "/home/working/media/chrishah/STORAGE/metabarcoding/PHYLOGENETIC_PLACEMENT/Lake_fish/CytB/Reference_DB/3-SATIVA/sativa/raxml//run_raxml.sh -w /home/working/media/chrishah/STORAGE/metabarcoding/PHYLOGENETIC_PLACEMENT/Lake_fish/CytB/Reference_DB/3-SATIVA/sativa/tmp/CytB_1473205651285 -T 5 -s /home/working/media/chrishah/STORAGE/metabarcoding/PHYLOGENETIC_PLACEMENT/Lake_fish/CytB/Reference_DB/3-SATIVA/sativa/tmp/CytB_1473205651285/CytB.refaln -t /home/working/media/chrishah/STORAGE/metabarcoding/PHYLOGENETIC_PLACEMENT/Lake_fish/CytB/Reference_DB/3-SATIVA/sativa/tmp/CytB_1473205651285/final_ref_CytB.tre --no-seq-check -f v --epa-accumulated-threshold 0.999 -G 0.284090909091 -m GTRCAT -n final_epa_CytB --verbose -p 326\n",
      "\n",
      "KP644340.1\tOrder\tGadiformes\tCypriniformes\t1.000\tEukaryota;Chordata;Actinopteri;Gadiformes;Lotidae;Lota;Lota lota\tEukaryota;Chordata;Actinopteri;Cypriniformes;Cyprinidae;Blicca;Blicca bjoerkna\t1.000;1.000;1.000;1.000;1.000;0.902;0.902\n",
      "\n",
      "AJ969128.1\tOrder\tCentrarchiformes\tCypriniformes\t0.999\tEukaryota;Chordata;Actinopteri;Centrarchiformes;Centrarchidae;Lepomis;Lepomis gibbosus\tEukaryota;Chordata;Actinopteri;Cypriniformes;Cyprinidae;Tinca;Tinca tinca\t0.999;0.999;0.999;0.999;0.999;0.949;0.949\n",
      "\n",
      "JF489783.1\tGenus\tPseudorasbora\tGobio\t1.000\tEukaryota;Chordata;Actinopteri;Cypriniformes;Cyprinidae;Pseudorasbora;Pseudorasbora parva\tEukaryota;Chordata;Actinopteri;Cypriniformes;Cyprinidae;Gobio;Gobio gobio\t1.000;1.000;1.000;1.000;1.000;1.000;1.000\n",
      "\n",
      "GU182336.1\tGenus\tSqualius\tCtenopharyngodon\t0.920\tEukaryota;Chordata;Actinopteri;Cypriniformes;Cyprinidae;Squalius;Squalius cephalus\tEukaryota;Chordata;Actinopteri;Cypriniformes;Cyprinidae;Ctenopharyngodon;Ctenopharyngodon idella\t1.000;1.000;1.000;1.000;1.000;0.920;0.920\n",
      "\n",
      "GQ279764.1\tGenus\tVimba\tBlicca\t0.625\tEukaryota;Chordata;Actinopteri;Cypriniformes;Cyprinidae;Vimba;Vimba vimba\tEukaryota;Chordata;Actinopteri;Cypriniformes;Cyprinidae;Blicca;Blicca bjoerkna\t1.000;1.000;1.000;1.000;1.000;0.625;0.625\n",
      "\n",
      "JQ661401.1\tSpecies\tCoregonus oxyrinchus\tCoregonus lavaretus\t1.000\tEukaryota;Chordata;Actinopteri;Salmoniformes;Salmonidae;Coregonus;Coregonus oxyrinchus\tEukaryota;Chordata;Actinopteri;Salmoniformes;Salmonidae;Coregonus;Coregonus lavaretus\t1.000;1.000;1.000;1.000;1.000;1.000;1.000\n",
      "\n",
      "DQ185405.1\tSpecies\tCoregonus oxyrinchus\tCoregonus lavaretus\t1.000\tEukaryota;Chordata;Actinopteri;Salmoniformes;Salmonidae;Coregonus;Coregonus oxyrinchus\tEukaryota;Chordata;Actinopteri;Salmoniformes;Salmonidae;Coregonus;Coregonus lavaretus\t1.000;1.000;1.000;1.000;1.000;1.000;1.000\n",
      "\n",
      "JQ231114.1\tSpecies\tHypophthalmichthys molitrix\tHypophthalmichthys nobilis\t1.000\tEukaryota;Chordata;Actinopteri;Cypriniformes;Cyprinidae;Hypophthalmichthys;Hypophthalmichthys molitrix\tEukaryota;Chordata;Actinopteri;Cypriniformes;Cyprinidae;Hypophthalmichthys;Hypophthalmichthys nobilis\t1.000;1.000;1.000;1.000;1.000;1.000;1.000\n",
      "\n",
      "JQ346141.1\tSpecies\tHypophthalmichthys nobilis\tHypophthalmichthys molitrix\t1.000\tEukaryota;Chordata;Actinopteri;Cypriniformes;Cyprinidae;Hypophthalmichthys;Hypophthalmichthys nobilis\tEukaryota;Chordata;Actinopteri;Cypriniformes;Cyprinidae;Hypophthalmichthys;Hypophthalmichthys molitrix\t1.000;1.000;1.000;1.000;1.000;1.000;1.000\n",
      "\n",
      "AJ937925.1\tSpecies\tLampetra fluviatilis\tLampetra planeri\t0.999\tEukaryota;Chordata;unknown;Petromyzontiformes;Petromyzontidae;Lampetra;Lampetra fluviatilis\tEukaryota;Chordata;unknown;Petromyzontiformes;Petromyzontidae;Lampetra;Lampetra planeri\t0.999;0.999;0.999;0.999;0.999;0.999;0.999\n",
      "\n",
      "KT275289.1\tSpecies\tLampetra planeri\tLampetra fluviatilis\t0.998\tEukaryota;Chordata;unknown;Petromyzontiformes;Petromyzontidae;Lampetra;Lampetra planeri\tEukaryota;Chordata;unknown;Petromyzontiformes;Petromyzontidae;Lampetra;Lampetra fluviatilis\t0.999;0.999;0.999;0.999;0.999;0.999;0.998\n",
      "\n",
      "KT275288.1\tSpecies\tLampetra planeri\tLampetra fluviatilis\t0.994\tEukaryota;Chordata;unknown;Petromyzontiformes;Petromyzontidae;Lampetra;Lampetra planeri\tEukaryota;Chordata;unknown;Petromyzontiformes;Petromyzontidae;Lampetra;Lampetra fluviatilis\t0.999;0.999;0.999;0.999;0.999;0.999;0.994\n",
      "\n",
      "EU492281.1\tSpecies\tSalmo salar\tSalmo trutta\t0.989\tEukaryota;Chordata;Actinopteri;Salmoniformes;Salmonidae;Salmo;Salmo salar\tEukaryota;Chordata;Actinopteri;Salmoniformes;Salmonidae;Salmo;Salmo trutta\t1.000;1.000;1.000;1.000;1.000;1.000;0.989\n",
      "\n",
      "JQ661399.1\tSpecies\tCoregonus oxyrinchus\tCoregonus lavaretus\t0.974\tEukaryota;Chordata;Actinopteri;Salmoniformes;Salmonidae;Coregonus;Coregonus oxyrinchus\tEukaryota;Chordata;Actinopteri;Salmoniformes;Salmonidae;Coregonus;Coregonus lavaretus\t0.999;0.999;0.999;0.999;0.999;0.999;0.974\n",
      "\n",
      "JQ661398.1\tSpecies\tCoregonus oxyrinchus\tCoregonus lavaretus\t0.973\tEukaryota;Chordata;Actinopteri;Salmoniformes;Salmonidae;Coregonus;Coregonus oxyrinchus\tEukaryota;Chordata;Actinopteri;Salmoniformes;Salmonidae;Coregonus;Coregonus lavaretus\t0.999;0.999;0.999;0.999;0.999;0.999;0.973\n",
      "\n",
      "JQ661400.1\tSpecies\tCoregonus oxyrinchus\tCoregonus lavaretus\t0.973\tEukaryota;Chordata;Actinopteri;Salmoniformes;Salmonidae;Coregonus;Coregonus oxyrinchus\tEukaryota;Chordata;Actinopteri;Salmoniformes;Salmonidae;Coregonus;Coregonus lavaretus\t0.999;0.999;0.999;0.999;0.999;0.999;0.973\n",
      "\n",
      "AJ937931.1\tSpecies\tLampetra planeri\tLampetra fluviatilis\t0.922\tEukaryota;Chordata;unknown;Petromyzontiformes;Petromyzontidae;Lampetra;Lampetra planeri\tEukaryota;Chordata;unknown;Petromyzontiformes;Petromyzontidae;Lampetra;Lampetra fluviatilis\t0.999;0.999;0.999;0.999;0.999;0.997;0.922\n",
      "\n",
      "AJ937943.1\tSpecies\tLampetra fluviatilis\tLampetra planeri\t0.868\tEukaryota;Chordata;unknown;Petromyzontiformes;Petromyzontidae;Lampetra;Lampetra fluviatilis\tEukaryota;Chordata;unknown;Petromyzontiformes;Petromyzontidae;Lampetra;Lampetra planeri\t1.000;1.000;1.000;1.000;1.000;1.000;0.868\n",
      "\n",
      "EU224046.1\tSpecies\tAlosa alosa\tAlosa fallax\t0.838\tEukaryota;Chordata;Actinopteri;Clupeiformes;Clupeidae;Alosa;Alosa alosa\tEukaryota;Chordata;Actinopteri;Clupeiformes;Clupeidae;Alosa;Alosa fallax\t1.000;1.000;0.838;0.838;0.838;0.838;0.838\n",
      "\n",
      "EU224045.1\tSpecies\tAlosa alosa\tAlosa fallax\t0.819\tEukaryota;Chordata;Actinopteri;Clupeiformes;Clupeidae;Alosa;Alosa alosa\tEukaryota;Chordata;Actinopteri;Clupeiformes;Clupeidae;Alosa;Alosa fallax\t1.000;1.000;0.819;0.819;0.819;0.819;0.819\n",
      "\n",
      "AJ937951.1\tSpecies\tLampetra planeri\tLampetra fluviatilis\t0.792\tEukaryota;Chordata;unknown;Petromyzontiformes;Petromyzontidae;Lampetra;Lampetra planeri\tEukaryota;Chordata;unknown;Petromyzontiformes;Petromyzontidae;Lampetra;Lampetra fluviatilis\t0.999;0.999;0.999;0.999;0.999;0.977;0.792\n",
      "\n",
      "AJ937952.1\tSpecies\tLampetra planeri\tLampetra fluviatilis\t0.791\tEukaryota;Chordata;unknown;Petromyzontiformes;Petromyzontidae;Lampetra;Lampetra planeri\tEukaryota;Chordata;unknown;Petromyzontiformes;Petromyzontidae;Lampetra;Lampetra fluviatilis\t0.999;0.999;0.999;0.999;0.999;0.977;0.791\n",
      "\n",
      "DQ664351.1\tSpecies\tLeuciscus leuciscus\tLeuciscus idus\t0.587\tEukaryota;Chordata;Actinopteri;Cypriniformes;Cyprinidae;Leuciscus;Leuciscus leuciscus\tEukaryota;Chordata;Actinopteri;Cypriniformes;Cyprinidae;Leuciscus;Leuciscus idus\t0.999;0.999;0.999;0.999;0.999;0.999;0.587\n",
      "\n",
      "KP452507.1\tSpecies\tCoregonus autumnalis\tCoregonus lavaretus\t0.508\tEukaryota;Chordata;Actinopteri;Salmoniformes;Salmonidae;Coregonus;Coregonus autumnalis\tEukaryota;Chordata;Actinopteri;Salmoniformes;Salmonidae;Coregonus;Coregonus lavaretus\t1.000;1.000;1.000;1.000;1.000;1.000;0.508\n",
      "\n",
      "Mislabeled sequences by rank:\n",
      "Order       :\t2\n",
      "Genus       :\t3\n",
      "Species     :\t19\n",
      "\n",
      "Total mislabels: 24 / 1.36 %\n",
      "\n",
      "Results were saved to: /home/working/media/chrishah/STORAGE/metabarcoding/PHYLOGENETIC_PLACEMENT/Lake_fish/CytB/Reference_DB/3-SATIVA/CytB.mis\n",
      "Execution log was saved to: /home/working/media/chrishah/STORAGE/metabarcoding/PHYLOGENETIC_PLACEMENT/Lake_fish/CytB/Reference_DB/3-SATIVA/CytB.log\n",
      "\n",
      "Analysis completed successfully, elapsed time: 1633 seconds (565s reftree, 1068s leave-one-out)\n",
      "\n"
     ]
    }
   ],
   "source": [
    "!./sativa/sativa.py -s alignment.phy -t tax_for_SATIVA.tax -x zoo -n CytB -o ./ -T 5 -v"
   ]
  },
  {
   "cell_type": "markdown",
   "metadata": {},
   "source": [
    "`SATIVA` (among other things) writes a report to a text file."
   ]
  },
  {
   "cell_type": "code",
   "execution_count": 8,
   "metadata": {
    "collapsed": false
   },
   "outputs": [
    {
     "name": "stdout",
     "output_type": "stream",
     "text": [
      ";WARNING: The revised taxon name suggested here is not necessarily the one that has priority in nomenclature. \r\n",
      ";Our suggestion should only be taken as indicative of an affiliation to the same group, whose correct name must be determined \r\n",
      ";in an additional step according to the specific rules of nomenclature that apply to the studied organisms.\r\n",
      ";\r\n",
      ";SeqID\tMislabeledLevel\tOriginalLabel\tProposedLabel\tConfidence\tOriginalTaxonomyPath\tProposedTaxonomyPath\tPerRankConfidence\r\n",
      "KP644340.1\tOrder\tGadiformes\tCypriniformes\t1.000\tEukaryota;Chordata;Actinopteri;Gadiformes;Lotidae;Lota;Lota lota\tEukaryota;Chordata;Actinopteri;Cypriniformes;Cyprinidae;Blicca;Blicca bjoerkna\t1.000;1.000;1.000;1.000;1.000;0.902;0.902\r\n",
      "AJ969128.1\tOrder\tCentrarchiformes\tCypriniformes\t0.999\tEukaryota;Chordata;Actinopteri;Centrarchiformes;Centrarchidae;Lepomis;Lepomis gibbosus\tEukaryota;Chordata;Actinopteri;Cypriniformes;Cyprinidae;Tinca;Tinca tinca\t0.999;0.999;0.999;0.999;0.999;0.949;0.949\r\n",
      "JF489783.1\tGenus\tPseudorasbora\tGobio\t1.000\tEukaryota;Chordata;Actinopteri;Cypriniformes;Cyprinidae;Pseudorasbora;Pseudorasbora parva\tEukaryota;Chordata;Actinopteri;Cypriniformes;Cyprinidae;Gobio;Gobio gobio\t1.000;1.000;1.000;1.000;1.000;1.000;1.000\r\n",
      "GU182336.1\tGenus\tSqualius\tCtenopharyngodon\t0.920\tEukaryota;Chordata;Actinopteri;Cypriniformes;Cyprinidae;Squalius;Squalius cephalus\tEukaryota;Chordata;Actinopteri;Cypriniformes;Cyprinidae;Ctenopharyngodon;Ctenopharyngodon idella\t1.000;1.000;1.000;1.000;1.000;0.920;0.920\r\n",
      "GQ279764.1\tGenus\tVimba\tBlicca\t0.625\tEukaryota;Chordata;Actinopteri;Cypriniformes;Cyprinidae;Vimba;Vimba vimba\tEukaryota;Chordata;Actinopteri;Cypriniformes;Cyprinidae;Blicca;Blicca bjoerkna\t1.000;1.000;1.000;1.000;1.000;0.625;0.625\r\n",
      "JQ661401.1\tSpecies\tCoregonus oxyrinchus\tCoregonus lavaretus\t1.000\tEukaryota;Chordata;Actinopteri;Salmoniformes;Salmonidae;Coregonus;Coregonus oxyrinchus\tEukaryota;Chordata;Actinopteri;Salmoniformes;Salmonidae;Coregonus;Coregonus lavaretus\t1.000;1.000;1.000;1.000;1.000;1.000;1.000\r\n",
      "DQ185405.1\tSpecies\tCoregonus oxyrinchus\tCoregonus lavaretus\t1.000\tEukaryota;Chordata;Actinopteri;Salmoniformes;Salmonidae;Coregonus;Coregonus oxyrinchus\tEukaryota;Chordata;Actinopteri;Salmoniformes;Salmonidae;Coregonus;Coregonus lavaretus\t1.000;1.000;1.000;1.000;1.000;1.000;1.000\r\n",
      "JQ231114.1\tSpecies\tHypophthalmichthys molitrix\tHypophthalmichthys nobilis\t1.000\tEukaryota;Chordata;Actinopteri;Cypriniformes;Cyprinidae;Hypophthalmichthys;Hypophthalmichthys molitrix\tEukaryota;Chordata;Actinopteri;Cypriniformes;Cyprinidae;Hypophthalmichthys;Hypophthalmichthys nobilis\t1.000;1.000;1.000;1.000;1.000;1.000;1.000\r\n",
      "JQ346141.1\tSpecies\tHypophthalmichthys nobilis\tHypophthalmichthys molitrix\t1.000\tEukaryota;Chordata;Actinopteri;Cypriniformes;Cyprinidae;Hypophthalmichthys;Hypophthalmichthys nobilis\tEukaryota;Chordata;Actinopteri;Cypriniformes;Cyprinidae;Hypophthalmichthys;Hypophthalmichthys molitrix\t1.000;1.000;1.000;1.000;1.000;1.000;1.000\r\n",
      "AJ937925.1\tSpecies\tLampetra fluviatilis\tLampetra planeri\t0.999\tEukaryota;Chordata;unknown;Petromyzontiformes;Petromyzontidae;Lampetra;Lampetra fluviatilis\tEukaryota;Chordata;unknown;Petromyzontiformes;Petromyzontidae;Lampetra;Lampetra planeri\t0.999;0.999;0.999;0.999;0.999;0.999;0.999\r\n",
      "KT275289.1\tSpecies\tLampetra planeri\tLampetra fluviatilis\t0.998\tEukaryota;Chordata;unknown;Petromyzontiformes;Petromyzontidae;Lampetra;Lampetra planeri\tEukaryota;Chordata;unknown;Petromyzontiformes;Petromyzontidae;Lampetra;Lampetra fluviatilis\t0.999;0.999;0.999;0.999;0.999;0.999;0.998\r\n",
      "KT275288.1\tSpecies\tLampetra planeri\tLampetra fluviatilis\t0.994\tEukaryota;Chordata;unknown;Petromyzontiformes;Petromyzontidae;Lampetra;Lampetra planeri\tEukaryota;Chordata;unknown;Petromyzontiformes;Petromyzontidae;Lampetra;Lampetra fluviatilis\t0.999;0.999;0.999;0.999;0.999;0.999;0.994\r\n",
      "EU492281.1\tSpecies\tSalmo salar\tSalmo trutta\t0.989\tEukaryota;Chordata;Actinopteri;Salmoniformes;Salmonidae;Salmo;Salmo salar\tEukaryota;Chordata;Actinopteri;Salmoniformes;Salmonidae;Salmo;Salmo trutta\t1.000;1.000;1.000;1.000;1.000;1.000;0.989\r\n",
      "JQ661399.1\tSpecies\tCoregonus oxyrinchus\tCoregonus lavaretus\t0.974\tEukaryota;Chordata;Actinopteri;Salmoniformes;Salmonidae;Coregonus;Coregonus oxyrinchus\tEukaryota;Chordata;Actinopteri;Salmoniformes;Salmonidae;Coregonus;Coregonus lavaretus\t0.999;0.999;0.999;0.999;0.999;0.999;0.974\r\n",
      "JQ661398.1\tSpecies\tCoregonus oxyrinchus\tCoregonus lavaretus\t0.973\tEukaryota;Chordata;Actinopteri;Salmoniformes;Salmonidae;Coregonus;Coregonus oxyrinchus\tEukaryota;Chordata;Actinopteri;Salmoniformes;Salmonidae;Coregonus;Coregonus lavaretus\t0.999;0.999;0.999;0.999;0.999;0.999;0.973\r\n",
      "JQ661400.1\tSpecies\tCoregonus oxyrinchus\tCoregonus lavaretus\t0.973\tEukaryota;Chordata;Actinopteri;Salmoniformes;Salmonidae;Coregonus;Coregonus oxyrinchus\tEukaryota;Chordata;Actinopteri;Salmoniformes;Salmonidae;Coregonus;Coregonus lavaretus\t0.999;0.999;0.999;0.999;0.999;0.999;0.973\r\n",
      "AJ937931.1\tSpecies\tLampetra planeri\tLampetra fluviatilis\t0.922\tEukaryota;Chordata;unknown;Petromyzontiformes;Petromyzontidae;Lampetra;Lampetra planeri\tEukaryota;Chordata;unknown;Petromyzontiformes;Petromyzontidae;Lampetra;Lampetra fluviatilis\t0.999;0.999;0.999;0.999;0.999;0.997;0.922\r\n",
      "AJ937943.1\tSpecies\tLampetra fluviatilis\tLampetra planeri\t0.868\tEukaryota;Chordata;unknown;Petromyzontiformes;Petromyzontidae;Lampetra;Lampetra fluviatilis\tEukaryota;Chordata;unknown;Petromyzontiformes;Petromyzontidae;Lampetra;Lampetra planeri\t1.000;1.000;1.000;1.000;1.000;1.000;0.868\r\n",
      "EU224046.1\tSpecies\tAlosa alosa\tAlosa fallax\t0.838\tEukaryota;Chordata;Actinopteri;Clupeiformes;Clupeidae;Alosa;Alosa alosa\tEukaryota;Chordata;Actinopteri;Clupeiformes;Clupeidae;Alosa;Alosa fallax\t1.000;1.000;0.838;0.838;0.838;0.838;0.838\r\n",
      "EU224045.1\tSpecies\tAlosa alosa\tAlosa fallax\t0.819\tEukaryota;Chordata;Actinopteri;Clupeiformes;Clupeidae;Alosa;Alosa alosa\tEukaryota;Chordata;Actinopteri;Clupeiformes;Clupeidae;Alosa;Alosa fallax\t1.000;1.000;0.819;0.819;0.819;0.819;0.819\r\n",
      "AJ937951.1\tSpecies\tLampetra planeri\tLampetra fluviatilis\t0.792\tEukaryota;Chordata;unknown;Petromyzontiformes;Petromyzontidae;Lampetra;Lampetra planeri\tEukaryota;Chordata;unknown;Petromyzontiformes;Petromyzontidae;Lampetra;Lampetra fluviatilis\t0.999;0.999;0.999;0.999;0.999;0.977;0.792\r\n",
      "AJ937952.1\tSpecies\tLampetra planeri\tLampetra fluviatilis\t0.791\tEukaryota;Chordata;unknown;Petromyzontiformes;Petromyzontidae;Lampetra;Lampetra planeri\tEukaryota;Chordata;unknown;Petromyzontiformes;Petromyzontidae;Lampetra;Lampetra fluviatilis\t0.999;0.999;0.999;0.999;0.999;0.977;0.791\r\n",
      "DQ664351.1\tSpecies\tLeuciscus leuciscus\tLeuciscus idus\t0.587\tEukaryota;Chordata;Actinopteri;Cypriniformes;Cyprinidae;Leuciscus;Leuciscus leuciscus\tEukaryota;Chordata;Actinopteri;Cypriniformes;Cyprinidae;Leuciscus;Leuciscus idus\t0.999;0.999;0.999;0.999;0.999;0.999;0.587\r\n",
      "KP452507.1\tSpecies\tCoregonus autumnalis\tCoregonus lavaretus\t0.508\tEukaryota;Chordata;Actinopteri;Salmoniformes;Salmonidae;Coregonus;Coregonus autumnalis\tEukaryota;Chordata;Actinopteri;Salmoniformes;Salmonidae;Coregonus;Coregonus lavaretus\t1.000;1.000;1.000;1.000;1.000;1.000;0.508\r\n"
     ]
    }
   ],
   "source": [
    "!cat CytB.mis"
   ]
  }
 ],
 "metadata": {
  "kernelspec": {
   "display_name": "Python 2",
   "language": "python",
   "name": "python2"
  },
  "language_info": {
   "codemirror_mode": {
    "name": "ipython",
    "version": 2
   },
   "file_extension": ".py",
   "mimetype": "text/x-python",
   "name": "python",
   "nbconvert_exporter": "python",
   "pygments_lexer": "ipython2",
   "version": "2.7.6"
  }
 },
 "nbformat": 4,
 "nbformat_minor": 0
}
