{
 "cells": [
  {
   "cell_type": "markdown",
   "metadata": {},
   "source": [
    "Parse metadata text file and extract basin information."
   ]
  },
  {
   "cell_type": "code",
   "execution_count": 2,
   "metadata": {
    "collapsed": false
   },
   "outputs": [
    {
     "name": "stdout",
     "output_type": "stream",
     "text": [
      "{'Windermere_11-10m': 'North', 'Windermere_28-10m': 'South', 'Windermere_01': 'North', 'Windermere_02': 'North', 'Windermere_03': 'North', 'Windermere_04': 'North', 'Windermere_05': 'North', 'Windermere_06': 'North', 'Windermere_07': 'North', 'Windermere_08': 'North', 'Windermere_09': 'North', 'Windermere_20': 'South', 'Windermere_21': 'South', 'Windermere_26': 'South', 'Windermere_27': 'South', 'Windermere_11-60m': 'North', 'Windermere_25': 'South', 'Windermere_47': 'North', 'Windermere_11-50m': 'North', 'Windermere_40': 'South', 'Windermere_44': 'North', 'Windermere_11-40m': 'North', 'Windermere_28-0m': 'South', 'Windermere_11-0m': 'North', 'Windermere_24': 'South', 'Windermere_29': 'South', 'Windermere_36': 'South', 'Windermere_41': 'South', 'Windermere_45': 'North', 'Windermere_22': 'South', 'Windermere_17': 'South', 'Windermere_16': 'South', 'Windermere_15': 'North', 'Windermere_11-30m': 'North', 'Windermere_13': 'North', 'Windermere_12': 'North', 'Windermere_10': 'North', 'Windermere_31': 'South', 'Windermere_30': 'South', 'Windermere_11-20m': 'North', 'Windermere_32': 'South', 'Windermere_35': 'South', 'Windermere_34': 'South', 'Windermere_19': 'South', 'Windermere_18': 'South', 'Windermere_39': 'South', 'Windermere_50': 'North', 'Windermere_46': 'North', 'Windermere_38': 'South', 'Windermere_28-40m': 'South', 'Windermere_23': 'South', 'Windermere_37': 'South', 'Windermere_14': 'North', 'Windermere_28-30m': 'South', 'Windermere_48': 'North', 'Windermere_28-20m': 'South', 'Windermere_49': 'North'}\n"
     ]
    }
   ],
   "source": [
    "meta = open('../raw_Illumina_data/sample_metadata/Sample_metadata.csv', 'r')\n",
    "\n",
    "headers = meta.next().split(',')\n",
    "\n",
    "basins = {}\n",
    "\n",
    "for l in meta:\n",
    "    if l.startswith('Winder'):\n",
    "        basin = l.split(',')[3].split(\" \")[3]\n",
    "        if basin == 'N':\n",
    "            basin = 'North'\n",
    "        elif basin == 'S':\n",
    "            basin = 'South'\n",
    "        basins[l.split(',')[0]] = basin\n",
    "        \n",
    "print basins\n",
    "\n",
    "meta.close()"
   ]
  },
  {
   "cell_type": "markdown",
   "metadata": {},
   "source": [
    "Import BIOM table python functions."
   ]
  },
  {
   "cell_type": "code",
   "execution_count": 3,
   "metadata": {
    "collapsed": true
   },
   "outputs": [],
   "source": [
    "from biom.table import Table"
   ]
  },
  {
   "cell_type": "markdown",
   "metadata": {},
   "source": [
    "Define a few helpful functions."
   ]
  },
  {
   "cell_type": "code",
   "execution_count": 55,
   "metadata": {
    "collapsed": true
   },
   "outputs": [],
   "source": [
    "\n",
    "#Parse BIOM table\n",
    "def parse_BIOM_denovo(table):\n",
    "\n",
    "    from biom.table import Table\n",
    "    import json\n",
    "\n",
    "    with open(table) as data_file:\n",
    "        data = json.load(data_file)\n",
    "    t = Table.from_json(data)\n",
    "\n",
    "    return t\n",
    "\n",
    "#Plot BIOM table as heatmap\n",
    "def plot_BIOM_as_heatmap(BIOM, width_in=5, target_png=None):\n",
    "\n",
    "    import matplotlib.pyplot as plt\n",
    "    import pandas as pd\n",
    "    import numpy as np\n",
    "#    %matplotlib inline\n",
    "    #%pylab inline\n",
    "\n",
    "    column_labels = BIOM.ids('observation')\n",
    "    row_lables = BIOM.ids('sample')\n",
    "    data = []\n",
    "\n",
    "    for o in column_labels:\n",
    "\n",
    "         data.append(BIOM.data(o,axis='observation'))\n",
    "    \n",
    "    data = np.asarray(data)\n",
    "\n",
    "    # Plot it out\n",
    "    fig, ax = plt.subplots()\n",
    "    heatmap = ax.pcolor(data, cmap=plt.cm.Reds, alpha=0.8)\n",
    "\n",
    "    # Format\n",
    "    fig = plt.gcf()\n",
    "    fig.set_size_inches(width_in,8)\n",
    "\n",
    "    # turn off the frame\n",
    "    ax.set_frame_on(False)\n",
    "\n",
    "    # put the major ticks at the middle of each cell\n",
    "    ax.set_yticks(np.arange(data.shape[0]) + 0.5, minor=False)\n",
    "    ax.set_xticks(np.arange(data.shape[1]) + 0.5, minor=False)\n",
    "\n",
    "    # want a more natural, table-like display\n",
    "    ax.invert_yaxis()\n",
    "    ax.xaxis.tick_top()\n",
    "\n",
    "    ax.set_xticklabels(row_lables, minor=False)\n",
    "    ax.set_yticklabels(column_labels, minor=False)\n",
    "\n",
    "    # rotate the\n",
    "    plt.xticks(rotation=90)\n",
    "\n",
    "    ax.grid(False)\n",
    "\n",
    "    # Turn off all the ticks\n",
    "    ax = plt.gca()\n",
    "\n",
    "    for t in ax.xaxis.get_major_ticks():\n",
    "        t.tick1On = False\n",
    "        t.tick2On = False\n",
    "    for t in ax.yaxis.get_major_ticks():\n",
    "        t.tick1On = False\n",
    "        t.tick2On = False\n",
    "        \n",
    "    #write to file\n",
    "    if target_png:\n",
    "        fig.savefig(target_png, dpi=100)\n",
    "        \n",
    "        \n",
    "#Write BIOM table to file\n",
    "def write_BIOM(BIOM, target_file):\n",
    "\n",
    "    \n",
    "    out=open(target_file+\".biom\",\"w\")\n",
    "    BIOM.to_json('metaBEAT v.0.96', direct_io=out)\n",
    "    out.close()\n",
    "\n",
    "    out=open(target_file+\".tsv\",\"w\")\n",
    "    out.write(BIOM.to_tsv(header_key='taxonomy', header_value='taxomomy'))\n",
    "    out.close()\n",
    "    \n",
    "def find_target(BIOM, target):\n",
    "    \n",
    "    samples = BIOM.ids('sample')\n",
    "    positives = BIOM.norm(axis='sample').data(target,'observation')\n",
    "    \n",
    "    index=0\n",
    "    for o in positives:\n",
    "#        print o\n",
    "        if str(o) != '0.0':\n",
    "            print \"%s\\t(%.4f %%)\" %(samples[index],o)\n",
    "        index+=1"
   ]
  },
  {
   "cell_type": "markdown",
   "metadata": {},
   "source": [
    "Specify BIOM result tables from each method."
   ]
  },
  {
   "cell_type": "code",
   "execution_count": 5,
   "metadata": {
    "collapsed": true
   },
   "outputs": [],
   "source": [
    "per_method_files = {'blast':'../.././../metabarcode-course-2016/data/exercise-5/results_backup/BLAST_0.85/all_3-by-taxonomy-readcounts.blast.biom',\n",
    "                   'pplacer':'../../../metabarcode-course-2016/data/exercise-5/results_backup/PPLACER/all_3-by-taxonomy-readcounts.pplacer.biom',\n",
    "                   'kraken':'../../../metabarcode-course-2016/data/exercise-5/results_backup/KRAKEN/all_3-by-taxonomy-readcounts.kraken.biom'}"
   ]
  },
  {
   "cell_type": "markdown",
   "metadata": {},
   "source": [
    "Add metadata to tables:\n",
    "\n",
    " - method\n",
    " - Basin\n",
    " - method+Basin\n",
    " \n",
    " "
   ]
  },
  {
   "cell_type": "code",
   "execution_count": 10,
   "metadata": {
    "collapsed": false
   },
   "outputs": [
    {
     "name": "stdout",
     "output_type": "stream",
     "text": [
      "adding metadata to: Windermere_01\n",
      "adding metadata to: Windermere_02\n",
      "adding metadata to: Windermere_03\n",
      "adding metadata to: Windermere_04\n",
      "adding metadata to: Windermere_05\n",
      "adding metadata to: Windermere_06\n",
      "adding metadata to: Windermere_07\n",
      "adding metadata to: Windermere_08\n",
      "adding metadata to: Windermere_09\n",
      "adding metadata to: Windermere_10\n",
      "adding metadata to: Windermere_11-0m\n",
      "adding metadata to: Windermere_11-10m\n",
      "adding metadata to: Windermere_11-20m\n",
      "adding metadata to: Windermere_11-30m\n",
      "adding metadata to: Windermere_11-40m\n",
      "adding metadata to: Windermere_11-50m\n",
      "adding metadata to: Windermere_11-60m\n",
      "adding metadata to: Windermere_12\n",
      "adding metadata to: Windermere_13\n",
      "adding metadata to: Windermere_14\n",
      "adding metadata to: Windermere_15\n",
      "adding metadata to: Windermere_16\n",
      "adding metadata to: Windermere_17\n",
      "adding metadata to: Windermere_18\n",
      "adding metadata to: Windermere_19\n",
      "adding metadata to: Windermere_20\n",
      "adding metadata to: Windermere_21\n",
      "adding metadata to: Windermere_22\n",
      "adding metadata to: Windermere_23\n",
      "adding metadata to: Windermere_24\n",
      "adding metadata to: Windermere_25\n",
      "adding metadata to: Windermere_26\n",
      "adding metadata to: Windermere_27\n",
      "adding metadata to: Windermere_28-0m\n",
      "adding metadata to: Windermere_28-10m\n",
      "adding metadata to: Windermere_28-20m\n",
      "adding metadata to: Windermere_28-30m\n",
      "adding metadata to: Windermere_28-40m\n",
      "adding metadata to: Windermere_29\n",
      "adding metadata to: Windermere_30\n",
      "adding metadata to: Windermere_31\n",
      "adding metadata to: Windermere_32\n",
      "adding metadata to: Windermere_34\n",
      "adding metadata to: Windermere_35\n",
      "adding metadata to: Windermere_36\n",
      "adding metadata to: Windermere_37\n",
      "adding metadata to: Windermere_38\n",
      "adding metadata to: Windermere_39\n",
      "adding metadata to: Windermere_40\n",
      "adding metadata to: Windermere_41\n",
      "adding metadata to: Windermere_44\n",
      "adding metadata to: Windermere_45\n",
      "adding metadata to: Windermere_46\n",
      "adding metadata to: Windermere_47\n",
      "adding metadata to: Windermere_48\n",
      "adding metadata to: Windermere_49\n",
      "adding metadata to: Windermere_50\n",
      "adding metadata to: Windermere_01\n",
      "adding metadata to: Windermere_02\n",
      "adding metadata to: Windermere_03\n",
      "adding metadata to: Windermere_04\n",
      "adding metadata to: Windermere_05\n",
      "adding metadata to: Windermere_06\n",
      "adding metadata to: Windermere_07\n",
      "adding metadata to: Windermere_08\n",
      "adding metadata to: Windermere_09\n",
      "adding metadata to: Windermere_10\n",
      "adding metadata to: Windermere_11-0m\n",
      "adding metadata to: Windermere_11-10m\n",
      "adding metadata to: Windermere_11-20m\n",
      "adding metadata to: Windermere_11-30m\n",
      "adding metadata to: Windermere_11-40m\n",
      "adding metadata to: Windermere_11-50m\n",
      "adding metadata to: Windermere_11-60m\n",
      "adding metadata to: Windermere_12\n",
      "adding metadata to: Windermere_13\n",
      "adding metadata to: Windermere_14\n",
      "adding metadata to: Windermere_15\n",
      "adding metadata to: Windermere_16\n",
      "adding metadata to: Windermere_17\n",
      "adding metadata to: Windermere_18\n",
      "adding metadata to: Windermere_19\n",
      "adding metadata to: Windermere_20\n",
      "adding metadata to: Windermere_21\n",
      "adding metadata to: Windermere_22\n",
      "adding metadata to: Windermere_23\n",
      "adding metadata to: Windermere_24\n",
      "adding metadata to: Windermere_25\n",
      "adding metadata to: Windermere_26\n",
      "adding metadata to: Windermere_27\n",
      "adding metadata to: Windermere_28-0m\n",
      "adding metadata to: Windermere_28-10m\n",
      "adding metadata to: Windermere_28-20m\n",
      "adding metadata to: Windermere_28-30m\n",
      "adding metadata to: Windermere_28-40m\n",
      "adding metadata to: Windermere_29\n",
      "adding metadata to: Windermere_30\n",
      "adding metadata to: Windermere_31\n",
      "adding metadata to: Windermere_32\n",
      "adding metadata to: Windermere_34\n",
      "adding metadata to: Windermere_35\n",
      "adding metadata to: Windermere_36\n",
      "adding metadata to: Windermere_37\n",
      "adding metadata to: Windermere_38\n",
      "adding metadata to: Windermere_39\n",
      "adding metadata to: Windermere_40\n",
      "adding metadata to: Windermere_41\n",
      "adding metadata to: Windermere_44\n",
      "adding metadata to: Windermere_45\n",
      "adding metadata to: Windermere_46\n",
      "adding metadata to: Windermere_47\n",
      "adding metadata to: Windermere_48\n",
      "adding metadata to: Windermere_49\n",
      "adding metadata to: Windermere_50\n",
      "adding metadata to: Windermere_01\n",
      "adding metadata to: Windermere_02\n",
      "adding metadata to: Windermere_03\n",
      "adding metadata to: Windermere_04\n",
      "adding metadata to: Windermere_05\n",
      "adding metadata to: Windermere_06\n",
      "adding metadata to: Windermere_07\n",
      "adding metadata to: Windermere_08\n",
      "adding metadata to: Windermere_09\n",
      "adding metadata to: Windermere_10\n",
      "adding metadata to: Windermere_11-0m\n",
      "adding metadata to: Windermere_11-10m\n",
      "adding metadata to: Windermere_11-20m\n",
      "adding metadata to: Windermere_11-30m\n",
      "adding metadata to: Windermere_11-40m\n",
      "adding metadata to: Windermere_11-50m\n",
      "adding metadata to: Windermere_11-60m\n",
      "adding metadata to: Windermere_12\n",
      "adding metadata to: Windermere_13\n",
      "adding metadata to: Windermere_14\n",
      "adding metadata to: Windermere_15\n",
      "adding metadata to: Windermere_16\n",
      "adding metadata to: Windermere_17\n",
      "adding metadata to: Windermere_18\n",
      "adding metadata to: Windermere_19\n",
      "adding metadata to: Windermere_20\n",
      "adding metadata to: Windermere_21\n",
      "adding metadata to: Windermere_22\n",
      "adding metadata to: Windermere_23\n",
      "adding metadata to: Windermere_24\n",
      "adding metadata to: Windermere_25\n",
      "adding metadata to: Windermere_26\n",
      "adding metadata to: Windermere_27\n",
      "adding metadata to: Windermere_28-0m\n",
      "adding metadata to: Windermere_28-10m\n",
      "adding metadata to: Windermere_28-20m\n",
      "adding metadata to: Windermere_28-30m\n",
      "adding metadata to: Windermere_28-40m\n",
      "adding metadata to: Windermere_29\n",
      "adding metadata to: Windermere_30\n",
      "adding metadata to: Windermere_31\n",
      "adding metadata to: Windermere_32\n",
      "adding metadata to: Windermere_34\n",
      "adding metadata to: Windermere_35\n",
      "adding metadata to: Windermere_36\n",
      "adding metadata to: Windermere_37\n",
      "adding metadata to: Windermere_38\n",
      "adding metadata to: Windermere_39\n",
      "adding metadata to: Windermere_40\n",
      "adding metadata to: Windermere_41\n",
      "adding metadata to: Windermere_44\n",
      "adding metadata to: Windermere_45\n",
      "adding metadata to: Windermere_46\n",
      "adding metadata to: Windermere_47\n",
      "adding metadata to: Windermere_48\n",
      "adding metadata to: Windermere_49\n",
      "adding metadata to: Windermere_50\n"
     ]
    }
   ],
   "source": [
    "Tables = {}\n",
    "for method in per_method_files:\n",
    "    ##Parse Table from BIOM\n",
    "    Tables[method] = parse_BIOM_denovo(per_method_files[method])\n",
    "    #define metadata\n",
    "    sample_metadata = {}\n",
    "    samples = Tables[method].ids()\n",
    "    for q in samples:\n",
    "        print \"adding metadata to: %s\" %q\n",
    "        sample_metadata[q] = {}\n",
    "        sample_metadata[q]['method'] = method\n",
    "        sample_metadata[q]['basin'] = basins[q]\n",
    "        sample_metadata[q]['method+basin'] = method+'+'+basins[q]\n",
    "\n",
    "    #add metadata to individual table\n",
    "    Tables[method].add_metadata(sample_metadata, axis='sample')\n",
    "    #add method suffix to sample name\n",
    "    rename = {}\n",
    "    for i in range(len(samples)):\n",
    "        rename[samples[i]] = samples[i]+'.'+method\n",
    "    Tables[method].update_ids(rename, axis='sample')\n",
    "    #produce normalized tables\n",
    "    Tables[method+'_norm'] = Tables[method].norm(axis='sample', inplace=False)\n",
    "    #produce convert to presentse absence table\n",
    "    Tables[method+'_pa'] = Tables[method].pa(inplace=False)"
   ]
  },
  {
   "cell_type": "markdown",
   "metadata": {},
   "source": [
    "Merge all tables."
   ]
  },
  {
   "cell_type": "markdown",
   "metadata": {},
   "source": [
    "Create merged table containing read counts."
   ]
  },
  {
   "cell_type": "code",
   "execution_count": 13,
   "metadata": {
    "collapsed": false
   },
   "outputs": [],
   "source": [
    "methods = per_method_files.keys()\n",
    "Tables['merged'] = []\n",
    "Tables['merged'] = Tables[methods[0]]\n",
    "for i in range(1,len(methods)):\n",
    "    Tables['merged'] = Tables['merged'].merge(Tables[methods[i]])"
   ]
  },
  {
   "cell_type": "markdown",
   "metadata": {},
   "source": [
    "Write table to file - see [here](https://github.com/HullUni-bioinformatics/metabarcode-course-2016/blob/master/data/exercise-5/results_backup/Merged_readcounts.tsv)\n",
    "\n",
    "Also try to load the biom files in the `./results_backup` directory."
   ]
  },
  {
   "cell_type": "code",
   "execution_count": 17,
   "metadata": {
    "collapsed": false
   },
   "outputs": [],
   "source": [
    "write_BIOM(BIOM=Tables['merged'], target_file='Merged_readcounts')"
   ]
  },
  {
   "cell_type": "markdown",
   "metadata": {},
   "source": [
    "Create merged table with present/absence data."
   ]
  },
  {
   "cell_type": "code",
   "execution_count": 18,
   "metadata": {
    "collapsed": true
   },
   "outputs": [],
   "source": [
    "methods = per_method_files.keys()\n",
    "Tables['merged_pa'] = []\n",
    "Tables['merged_pa'] = Tables[methods[0]+'_pa']\n",
    "for i in range(1,len(methods)):\n",
    "    Tables['merged_pa'] = Tables['merged_pa'].merge(Tables[methods[i]+'_pa'])"
   ]
  },
  {
   "cell_type": "markdown",
   "metadata": {},
   "source": [
    "Collapse table by method."
   ]
  },
  {
   "cell_type": "code",
   "execution_count": 20,
   "metadata": {
    "collapsed": true
   },
   "outputs": [],
   "source": [
    "bin_f = lambda if_, x: x['method']"
   ]
  },
  {
   "cell_type": "code",
   "execution_count": 21,
   "metadata": {
    "collapsed": false
   },
   "outputs": [],
   "source": [
    "#site occupancy\n",
    "Tables['collapsed_by_method_count'] = Tables['merged_pa'].collapse(bin_f, norm=False, min_group_size=1, axis='sample')\n",
    "#proportion of sites\n",
    "Tables['collapsed_by_method_prop'] = Tables['merged_pa'].collapse(bin_f, norm=True, min_group_size=1, axis='sample')"
   ]
  },
  {
   "cell_type": "markdown",
   "metadata": {},
   "source": [
    "Write tables to file. \n",
    "\n",
    "See Table summarizing the number of sites taxa were found in across assignment approaches [here](https://github.com/HullUni-bioinformatics/metabarcode-course-2016/blob/master/data/exercise-5/results_backup/Per_method_site_count.tsv).\n",
    "\n",
    "See relative proportion of sites at which species were detected by each method [here](https://github.com/HullUni-bioinformatics/metabarcode-course-2016/blob/master/data/exercise-5/results_backup/Per_method_site_prop.tsv)."
   ]
  },
  {
   "cell_type": "code",
   "execution_count": 27,
   "metadata": {
    "collapsed": false
   },
   "outputs": [],
   "source": [
    "write_BIOM(BIOM=Tables['collapsed_by_method_count'], target_file='Per_method_site_count')\n",
    "write_BIOM(BIOM=Tables['collapsed_by_method_prop'], target_file='Per_method_site_prop')\n"
   ]
  },
  {
   "cell_type": "markdown",
   "metadata": {},
   "source": [
    "Collapse table by method+basin."
   ]
  },
  {
   "cell_type": "code",
   "execution_count": 24,
   "metadata": {
    "collapsed": true
   },
   "outputs": [],
   "source": [
    "bin_f = lambda if_, x: x['method+basin']"
   ]
  },
  {
   "cell_type": "code",
   "execution_count": 26,
   "metadata": {
    "collapsed": false
   },
   "outputs": [],
   "source": [
    "Tables['collapsed_by_method+basin_count']= \\\n",
    "    Tables['merged_pa'].collapse(bin_f, norm=False, min_group_size=1, axis='sample').sort_order\\\n",
    "    (['blast+North','pplacer+North','kraken+North','blast+South','pplacer+South','kraken+South'])\n",
    "\n",
    "Tables['collapsed_by_method+basin_prop']= \\\n",
    "    Tables['merged_pa'].collapse(bin_f, norm=True, min_group_size=1, axis='sample').sort_order\\\n",
    "    (['blast+North','pplacer+North','kraken+North','blast+South','pplacer+South','kraken+South'])\n",
    "       \n",
    "       "
   ]
  },
  {
   "cell_type": "markdown",
   "metadata": {},
   "source": [
    "Write tables."
   ]
  },
  {
   "cell_type": "code",
   "execution_count": 29,
   "metadata": {
    "collapsed": true
   },
   "outputs": [],
   "source": [
    "write_BIOM(BIOM=Tables['collapsed_by_method+basin_count'], target_file='Per_method_and_basin_site_count')\n",
    "write_BIOM(BIOM=Tables['collapsed_by_method+basin_prop'], target_file='Per_method_and_basin_site_prop')"
   ]
  },
  {
   "cell_type": "markdown",
   "metadata": {},
   "source": [
    "Plot heatmaps."
   ]
  },
  {
   "cell_type": "code",
   "execution_count": 52,
   "metadata": {
    "collapsed": false
   },
   "outputs": [
    {
     "data": {
      "image/png": "[encoded data removed]",
      "text/plain": [
       "<matplotlib.figure.Figure at 0x7f4a51cf8ed0>"
      ]
     },
     "metadata": {},
     "output_type": "display_data"
    }
   ],
   "source": [
    "\n",
    "plot_BIOM_as_heatmap(BIOM=Tables['collapsed_by_method+basin_prop'].filter(['unassigned'], \n",
    "                inplace=False, axis='observation',invert=True), target_png='Per_method_and_basin_site_prop.heatmap.png')"
   ]
  },
  {
   "cell_type": "code",
   "execution_count": 53,
   "metadata": {
    "collapsed": false
   },
   "outputs": [
    {
     "data": {
      "image/png": "[encoded data removed]",
      "text/plain": [
       "<matplotlib.figure.Figure at 0x7f4a516bf290>"
      ]
     },
     "metadata": {},
     "output_type": "display_data"
    }
   ],
   "source": [
    "plot_BIOM_as_heatmap(Tables['collapsed_by_method_prop'].filter(['unassigned'], inplace=False, axis='observation',invert=True))"
   ]
  },
  {
   "cell_type": "code",
   "execution_count": 54,
   "metadata": {
    "collapsed": false
   },
   "outputs": [
    {
     "data": {
      "image/png": "[encoded data removed]",
      "text/plain": [
       "<matplotlib.figure.Figure at 0x7f4a51f8b210>"
      ]
     },
     "metadata": {},
     "output_type": "display_data"
    }
   ],
   "source": [
    "plot_BIOM_as_heatmap(Tables['kraken_norm'].filter(['unassigned'],axis='observation', inplace=False, invert=True), width_in=20)"
   ]
  },
  {
   "cell_type": "markdown",
   "metadata": {},
   "source": [
    "Find species samples in which a target species was identified."
   ]
  },
  {
   "cell_type": "code",
   "execution_count": 56,
   "metadata": {
    "collapsed": false
   },
   "outputs": [
    {
     "name": "stdout",
     "output_type": "stream",
     "text": [
      "Windermere_03.blast\t(0.0501 %)\n",
      "Windermere_06.blast\t(0.0116 %)\n",
      "Windermere_09.blast\t(0.0504 %)\n",
      "Windermere_11-60m.blast\t(0.2023 %)\n",
      "Windermere_16.blast\t(0.0251 %)\n",
      "Windermere_18.blast\t(0.0372 %)\n",
      "Windermere_19.blast\t(0.2381 %)\n",
      "Windermere_21.blast\t(0.0006 %)\n",
      "Windermere_23.blast\t(0.3255 %)\n",
      "Windermere_24.blast\t(0.0309 %)\n",
      "Windermere_26.blast\t(0.0403 %)\n",
      "Windermere_35.blast\t(0.0287 %)\n",
      "Windermere_38.blast\t(0.0345 %)\n"
     ]
    }
   ],
   "source": [
    "find_target(target='Anguilla_anguilla', BIOM=Tables['blast'])"
   ]
  },
  {
   "cell_type": "code",
   "execution_count": 57,
   "metadata": {
    "collapsed": false
   },
   "outputs": [
    {
     "name": "stdout",
     "output_type": "stream",
     "text": [
      "Windermere_01.blast\t(0.0297 %)\n",
      "Windermere_02.blast\t(0.0387 %)\n",
      "Windermere_03.blast\t(0.0118 %)\n",
      "Windermere_04.blast\t(0.1174 %)\n",
      "Windermere_05.blast\t(0.0893 %)\n",
      "Windermere_06.blast\t(0.0114 %)\n",
      "Windermere_08.blast\t(0.0793 %)\n",
      "Windermere_10.blast\t(0.0118 %)\n",
      "Windermere_11-0m.blast\t(0.0026 %)\n",
      "Windermere_11-10m.blast\t(0.0851 %)\n",
      "Windermere_11-50m.blast\t(0.0500 %)\n",
      "Windermere_11-60m.blast\t(0.0487 %)\n",
      "Windermere_17.blast\t(0.0025 %)\n",
      "Windermere_20.blast\t(0.0352 %)\n",
      "Windermere_22.blast\t(0.2534 %)\n",
      "Windermere_24.blast\t(0.0132 %)\n",
      "Windermere_25.blast\t(0.0055 %)\n",
      "Windermere_26.blast\t(0.1104 %)\n",
      "Windermere_35.blast\t(0.1074 %)\n",
      "Windermere_41.blast\t(0.0101 %)\n",
      "Windermere_44.blast\t(0.0369 %)\n",
      "Windermere_45.blast\t(0.0032 %)\n",
      "Windermere_48.blast\t(0.0272 %)\n"
     ]
    }
   ],
   "source": [
    "find_target(target='Salmo_trutta', BIOM=Tables['blast'])"
   ]
  },
  {
   "cell_type": "code",
   "execution_count": null,
   "metadata": {
    "collapsed": true
   },
   "outputs": [],
   "source": []
  }
 ],
 "metadata": {
  "kernelspec": {
   "display_name": "Python 2",
   "language": "python",
   "name": "python2"
  },
  "language_info": {
   "codemirror_mode": {
    "name": "ipython",
    "version": 2
   },
   "file_extension": ".py",
   "mimetype": "text/x-python",
   "name": "python",
   "nbconvert_exporter": "python",
   "pygments_lexer": "ipython2",
   "version": "2.7.6"
  }
 },
 "nbformat": 4,
 "nbformat_minor": 0
}
